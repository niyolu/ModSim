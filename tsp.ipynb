{
 "cells": [
  {
   "cell_type": "markdown",
   "metadata": {
    "toc": true
   },
   "source": [
    "<h1>Project tsp<span class=\"tocSkip\"></span></h1>\n",
    "<div class=\"toc\"><ul class=\"toc-item\"><li><span><a href=\"#Modelling\" data-toc-modified-id=\"Modelling-1\"><span class=\"toc-item-num\">1&nbsp;&nbsp;</span>Modelling</a></span></li><li><span><a href=\"#Numerical-treatment\" data-toc-modified-id=\"Numerical-treatment-2\"><span class=\"toc-item-num\">2&nbsp;&nbsp;</span>Numerical treatment</a></span><ul class=\"toc-item\"><li><span><a href=\"#Route-and-distance-matrix\" data-toc-modified-id=\"Route-and-distance-matrix-2.1\"><span class=\"toc-item-num\">2.1&nbsp;&nbsp;</span>Route and distance matrix</a></span><ul class=\"toc-item\"><li><span><a href=\"#Task-1:-Route-and-distance-matrix-(1-point)\" data-toc-modified-id=\"Task-1:-Route-and-distance-matrix-(1-point)-2.1.1\"><span class=\"toc-item-num\">2.1.1&nbsp;&nbsp;</span>Task 1: Route and distance matrix <font color=\"red\">(1 point)</font></a></span></li></ul></li><li><span><a href=\"#Brute-Force-Algorithm\" data-toc-modified-id=\"Brute-Force-Algorithm-2.2\"><span class=\"toc-item-num\">2.2&nbsp;&nbsp;</span>Brute-Force-Algorithm</a></span><ul class=\"toc-item\"><li><span><a href=\"#Task-2:-Brute-Force-Algorithm-(2-points)\" data-toc-modified-id=\"Task-2:-Brute-Force-Algorithm-(2-points)-2.2.1\"><span class=\"toc-item-num\">2.2.1&nbsp;&nbsp;</span>Task 2: Brute-Force-Algorithm <font color=\"red\">(2 points)</font></a></span></li></ul></li><li><span><a href=\"#Greedy-Algorithm\" data-toc-modified-id=\"Greedy-Algorithm-2.3\"><span class=\"toc-item-num\">2.3&nbsp;&nbsp;</span>Greedy-Algorithm</a></span><ul class=\"toc-item\"><li><span><a href=\"#Task-3:-Greedy-Algorithm-(1-point)\" data-toc-modified-id=\"Task-3:-Greedy-Algorithm-(1-point)-2.3.1\"><span class=\"toc-item-num\">2.3.1&nbsp;&nbsp;</span>Task 3: Greedy-Algorithm <font color=\"red\">(1 point)</font></a></span></li></ul></li><li><span><a href=\"#2-Opt-Algorithm\" data-toc-modified-id=\"2-Opt-Algorithm-2.4\"><span class=\"toc-item-num\">2.4&nbsp;&nbsp;</span>2-Opt-Algorithm</a></span><ul class=\"toc-item\"><li><span><a href=\"#Task-4:-Steepest-descent-(1-point)\" data-toc-modified-id=\"Task-4:-Steepest-descent-(1-point)-2.4.1\"><span class=\"toc-item-num\">2.4.1&nbsp;&nbsp;</span>Task 4: Steepest descent <font color=\"red\">(1 point)</font></a></span></li></ul></li><li><span><a href=\"#Simulated-annealing\" data-toc-modified-id=\"Simulated-annealing-2.5\"><span class=\"toc-item-num\">2.5&nbsp;&nbsp;</span>Simulated annealing</a></span><ul class=\"toc-item\"><li><span><a href=\"#Task-5:-Simulated-annealing-(1-point)\" data-toc-modified-id=\"Task-5:-Simulated-annealing-(1-point)-2.5.1\"><span class=\"toc-item-num\">2.5.1&nbsp;&nbsp;</span>Task 5: Simulated annealing <font color=\"red\">(1 point)</font></a></span></li></ul></li></ul></li><li><span><a href=\"#Implementation\" data-toc-modified-id=\"Implementation-3\"><span class=\"toc-item-num\">3&nbsp;&nbsp;</span>Implementation</a></span><ul class=\"toc-item\"><li><span><a href=\"#Route-and-distance-matrix\" data-toc-modified-id=\"Route-and-distance-matrix-3.1\"><span class=\"toc-item-num\">3.1&nbsp;&nbsp;</span>Route and distance matrix</a></span></li><li><span><a href=\"#Brute-Force-Algorithm\" data-toc-modified-id=\"Brute-Force-Algorithm-3.2\"><span class=\"toc-item-num\">3.2&nbsp;&nbsp;</span>Brute-Force-Algorithm</a></span><ul class=\"toc-item\"><li><span><a href=\"#Task-6:-Brute-Force-Algorithm-(3-points)\" data-toc-modified-id=\"Task-6:-Brute-Force-Algorithm-(3-points)-3.2.1\"><span class=\"toc-item-num\">3.2.1&nbsp;&nbsp;</span>Task 6: Brute-Force-Algorithm <font color=\"red\">(3 points)</font></a></span></li></ul></li><li><span><a href=\"#Greedy-Algorithm\" data-toc-modified-id=\"Greedy-Algorithm-3.3\"><span class=\"toc-item-num\">3.3&nbsp;&nbsp;</span>Greedy-Algorithm</a></span><ul class=\"toc-item\"><li><span><a href=\"#Task-7:-Greedy-Algorithm-(3-points)\" data-toc-modified-id=\"Task-7:-Greedy-Algorithm-(3-points)-3.3.1\"><span class=\"toc-item-num\">3.3.1&nbsp;&nbsp;</span>Task 7: Greedy-Algorithm <font color=\"red\">(3 points)</font></a></span></li></ul></li><li><span><a href=\"#2-Opt-Algorithm\" data-toc-modified-id=\"2-Opt-Algorithm-3.4\"><span class=\"toc-item-num\">3.4&nbsp;&nbsp;</span>2-Opt-Algorithm</a></span><ul class=\"toc-item\"><li><span><a href=\"#Task-8:-Swap-edge-(2-points)\" data-toc-modified-id=\"Task-8:-Swap-edge-(2-points)-3.4.1\"><span class=\"toc-item-num\">3.4.1&nbsp;&nbsp;</span>Task 8: Swap edge <font color=\"red\">(2 points)</font></a></span></li><li><span><a href=\"#Task-9:-Steepest-descent-(2-points)\" data-toc-modified-id=\"Task-9:-Steepest-descent-(2-points)-3.4.2\"><span class=\"toc-item-num\">3.4.2&nbsp;&nbsp;</span>Task 9: Steepest descent <font color=\"red\">(2 points)</font></a></span></li></ul></li><li><span><a href=\"#Simulated-annealing\" data-toc-modified-id=\"Simulated-annealing-3.5\"><span class=\"toc-item-num\">3.5&nbsp;&nbsp;</span>Simulated annealing</a></span><ul class=\"toc-item\"><li><span><a href=\"#Task-10:-Simulated-annealing-(2-points)\" data-toc-modified-id=\"Task-10:-Simulated-annealing-(2-points)-3.5.1\"><span class=\"toc-item-num\">3.5.1&nbsp;&nbsp;</span>Task 10: Simulated annealing <font color=\"red\">(2 points)</font></a></span></li></ul></li></ul></li><li><span><a href=\"#Visualization\" data-toc-modified-id=\"Visualization-4\"><span class=\"toc-item-num\">4&nbsp;&nbsp;</span>Visualization</a></span></li><li><span><a href=\"#Evaluation\" data-toc-modified-id=\"Evaluation-5\"><span class=\"toc-item-num\">5&nbsp;&nbsp;</span>Evaluation</a></span></li><li><span><a href=\"#Embedding\" data-toc-modified-id=\"Embedding-6\"><span class=\"toc-item-num\">6&nbsp;&nbsp;</span>Embedding</a></span><ul class=\"toc-item\"><li><ul class=\"toc-item\"><li><span><a href=\"#Task-11:-Distance-on-sphere-(2-points)\" data-toc-modified-id=\"Task-11:-Distance-on-sphere-(2-points)-6.0.1\"><span class=\"toc-item-num\">6.0.1&nbsp;&nbsp;</span>Task 11: Distance on sphere <font color=\"red\">(2 points)</font></a></span></li></ul></li></ul></li><li><span><a href=\"#Literature\" data-toc-modified-id=\"Literature-7\"><span class=\"toc-item-num\">7&nbsp;&nbsp;</span>Literature</a></span></li></ul></div>"
   ]
  },
  {
   "cell_type": "markdown",
   "metadata": {},
   "source": [
    "<div class=\"alert alert-block alert-danger\">\n",
    "\n",
    "<b>Group: ?</b>\n",
    "- ???\n",
    "- ???\n",
    "- ???\n",
    "- ???\n",
    "\n",
    "<b>Result:</b>\n",
    "    \n",
    "| Task   |  1  |  2  |  3  |  4  |  5  |  6  |  7  |  8  |  9  |  10 |  11 |  Sum  |\n",
    "|--------|-----|-----|-----|-----|-----|-----|-----|-----|-----|-----|-----|--------\n",
    "| Points | ?/1 | ?/2 | ?/1 | ?/1 | ?/1 | ?/3 | ?/3 | ?/2 | ?/2 | ?/2 | ?/2 | ??/20 |  \n",
    "\n",
    "    \n",
    "</div>"
   ]
  },
  {
   "cell_type": "markdown",
   "metadata": {},
   "source": [
    "# Modelling\n",
    "The traveling salesman problem (TSP) consists of determining an optimal route for a round trip through several cities.\n",
    "At first glance, it does not seem very difficult to find a solution to that problem.\n",
    "There is only a finite number of different round trips that we can try out one after the other.\n",
    "So we can identify the optimal route by comparing all possible routes.\n",
    "However, the number of all possible routes is already very high for a small number of cities.\n",
    "Not even the most powerful supercomputers are capable of trying all possible round trips.\n",
    "\n",
    "Various practical problems can be traced back to the problem of the traveling salesman.\n",
    "For example, the optimal control of a drilling tool when creating printed circuit boards.\n",
    "In this example, the cities correspond to the holes to be drilled in the board.\n",
    "The term city is therefore not to be taken literally.\n",
    "\n",
    "A journey can be optimal under different aspects, shortest way, fastest connection, lowest cost, etc.\n",
    "For all these aspects we use the term distance.\n",
    "This term should not be taken literally either.\n",
    "For example, the distance between two cities for a low-cost trip corresponds to the cost for traveling from one city to the other.\n",
    "\n",
    "We call the sum of all distances the length of the route.\n",
    "We look for the global minimum length among all possible routes."
   ]
  },
  {
   "cell_type": "code",
   "execution_count": 54,
   "metadata": {
    "scrolled": true
   },
   "outputs": [
    {
     "output_type": "execute_result",
     "data": {
      "text/plain": [
       "<IPython.lib.display.YouTubeVideo at 0x1ba70205d08>"
      ],
      "text/html": "\n        <iframe\n            width=\"400\"\n            height=\"300\"\n            src=\"https://www.youtube.com/embed/SC5CX8drAtU\"\n            frameborder=\"0\"\n            allowfullscreen\n        ></iframe>\n        ",
      "image/jpeg": "[encoded data removed]"
     },
     "metadata": {},
     "execution_count": 54
    }
   ],
   "source": [
    "# Showing YouTube Videos with YouTubeVideo\n",
    "from IPython.display import YouTubeVideo\n",
    "YouTubeVideo('SC5CX8drAtU')"
   ]
  },
  {
   "cell_type": "markdown",
   "metadata": {},
   "source": [
    "# Numerical treatment\n",
    "Mathematically speaking, we have to solve an optimization problem.\n",
    "More precisely, a discrete optimization problem, since there is only a finite number of different round trips."
   ]
  },
  {
   "cell_type": "markdown",
   "metadata": {},
   "source": [
    "## Route and distance matrix\n",
    "We assign a unique index between $0$ and $n-1$ to each city.\n",
    "Here $n$ denotes the number of cities.\n",
    "A route is represented by any permutation of the numbers from $0$ to $n-1$.\n",
    "\n",
    "<div class=\"alert alert-block alert-warning\">\n",
    "    \n",
    "<b>Example</b>\n",
    "\n",
    "The route through $5$ cities, which starts in the city with index $2$, then leads through the cities with the indices $4$, $0$, $1$ and $3$ back to the city with index $2$, is represented by the permutation:\n",
    "\n",
    "$$\n",
    "P_2 \\longrightarrow\n",
    "P_4 \\longrightarrow\n",
    "P_0 \\longrightarrow\n",
    "P_1 \\longrightarrow\n",
    "P_3 \\longrightarrow\n",
    "P_2 \\mbox{ : }\n",
    "\\quad \\quad \\quad\n",
    "[ \\, 2 \\quad 4 \\quad 0 \\quad 1 \\quad 3 \\, ].\n",
    "$$\n",
    "</div>\n",
    "\n",
    "Since the first and the last city are equal, we do not use the index of the first city twice.\n",
    "The TSP now consists of finding a permutation, so that the length of the route is as short as possible.\n",
    "\n",
    "A TSP can be described by a distance matrix.\n",
    "The distance between the city with index $i$ and the city with index $j$ is stored in the $i$-th row and $j$-th column of the distance matrix $\\mbox{dist}$:\n",
    "\n",
    "$$\n",
    "\t\\mbox{dist}_{i,j} = \\mbox{distance betwenn city with index $i$ and city with index $j$}, \\quad i,j = 0,1,2, \\ldots, n-1.\n",
    "$$\n",
    "\n",
    "All elements on the diagonal of the matrix are zero. \n",
    "For many problems the distance matrix is symmetrical, but there are also problems where the distance matrix is not symmetrical.\n",
    "For example, the costs for the outward and return journey between two cities may be different.\n",
    "\n",
    "<div class=\"alert alert-block alert-warning\">\n",
    "    \n",
    "<b>Example (10 cities in Germany)</b>\n",
    "\n",
    "Let's consider a practical example.\n",
    "The following matrix contains the distances between $10$ different cities:\n",
    "\n",
    " $$\n",
    " \\begin{array}{l|ccccccccc}\n",
    " & \\mbox{Berlin}\n",
    " & \\mbox{Esslingen} \n",
    " & \\mbox{Frankfurt}\n",
    " & \\mbox{Goettingen}\n",
    " & \\mbox{Hamburg} \n",
    " & \\mbox{Kiel}\n",
    " & \\mbox{Koeln}\n",
    " & \\mbox{Leipzig}\n",
    " & \\mbox{Muenchen}\n",
    " & \\mbox{Nuernberg} \\\\\n",
    "\\hline\n",
    "\\mbox{Berlin}     &   0 & 510 & 424 & 262 & 256 & 295 & 478 & 150 & 505 & 378\\\\  \n",
    "\\mbox{Esslingen}  & 510 &   0 & 161 & 313 & 537 & 623 & 296 & 362 & 180 & 151\\\\ \n",
    "\\mbox{Frankfurt}  & 424 & 161 &   0 & 180 & 391 & 477 & 150 & 293 & 307 & 189\\\\\n",
    "\\mbox{Goettingen} & 262 & 313 & 180 &   0 & 225 & 310 & 217 & 170 & 395 & 245\\\\\n",
    "\\mbox{Hamburg}    & 256 & 537 & 391 & 225 &   0 &  86 & 356 & 294 & 612 & 462\\\\ \n",
    "\\mbox{Kiel}       & 295 & 623 & 477 & 310 &  86 &   0 & 433 & 364 & 695 & 545\\\\\n",
    "\\mbox{Koeln}      & 478 & 296 & 150 & 217 & 356 & 433 &   0 & 380 & 456 & 336\\\\\n",
    "\\mbox{Leipzig}    & 150 & 362 & 293 & 170 & 294 & 364 & 380 &   0 & 361 & 229\\\\\n",
    "\\mbox{Muenchen}   & 505 & 180 & 307 & 395 & 612 & 695 & 456 & 361 &   0 & 151\\\\\n",
    "\\mbox{Nuernberg}  & 378 & 151 & 189 & 245 & 462 & 545 & 336 & 229 & 151 &   0\\\\              \n",
    "\\end{array}\n",
    "\\label{distancematrix}\\tag{1}\n",
    "$$\n",
    "\n",
    "The distances were determined using the distance calculation tool on https://www.luftlinie.org/.\n",
    "The specifications are in km and correspond to the direct distances as the crow flies.\n",
    "</div>"
   ]
  },
  {
   "cell_type": "markdown",
   "metadata": {},
   "source": [
    "### Task 1: Route and distance matrix <font color=red>(1 point)</font>\n",
    "Enter the distance matrix in Python with data type `np.uint16`. \n",
    "Use it to calculate the length of the route that visits the cities in alphabetical order."
   ]
  },
  {
   "cell_type": "markdown",
   "metadata": {},
   "source": [
    "<div class=\"alert alert-block alert-success\">\n",
    "    \n",
    "<b>Solution of Task 1</b>\n",
    "<div>"
   ]
  },
  {
   "cell_type": "code",
   "execution_count": 69,
   "metadata": {},
   "outputs": [],
   "source": [
    "# Solution of Task 1\n",
    "import numpy as np\n",
    "\n",
    "dist = np.array([\n",
    "    [  0, 510, 424, 262, 256, 295, 478, 150, 505, 378],\n",
    "    [510,   0, 161, 313, 537, 632, 296, 362, 180, 151],\n",
    "    [424, 161,   0, 180, 391, 477, 150, 293, 307, 189],\n",
    "    [262, 313, 180,   0, 225, 310, 217, 170, 395, 245],\n",
    "    [256, 537, 391, 225,   0,  86, 356, 294, 612, 462],\n",
    "    [295, 623, 477, 310,  86,   0, 433, 364, 695, 545],\n",
    "    [478, 296, 150, 217, 356, 433,   0, 380, 456, 336],\n",
    "    [150, 362, 293, 170, 294, 364, 380,   0, 361, 229],\n",
    "    [505, 180, 307, 395, 612, 695, 456, 361,   0, 151],\n",
    "    [378, 151, 189, 245, 462, 545, 336, 229, 151,   0],\n",
    "], dtype=np.uint16)\n",
    "\n",
    "cityDictionary = {\n",
    "        0 : \"Berlin\", \n",
    "        1 : \"Esslingen\", \n",
    "        2 : \"Frankfurt\", \n",
    "        3 : \"Göttingen\", \n",
    "        4 : \"Hamburg\", \n",
    "        5 : \"Kiel\", \n",
    "        6 : \"Köln\", \n",
    "        7 : \"Leipzig\", \n",
    "        8 : \"München\", \n",
    "        9 : \"Nürnberg\"\n",
    "    }\n",
    "\n",
    "indexDictionary = {\n",
    "        \"Berlin\" :      0, \n",
    "        \"Esslingen\" :   1, \n",
    "        \"Frankfurt\" :   2, \n",
    "        \"Göttingen\" :   3, \n",
    "        \"Hamburg\" :     4, \n",
    "        \"Kiel\" :        5, \n",
    "        \"Köln\" :        6, \n",
    "        \"Leipzig\" :     7, \n",
    "        \"München\" :     8, \n",
    "        \"Nürnberg\" :    9\n",
    "    }"
   ]
  },
  {
   "cell_type": "code",
   "execution_count": 70,
   "metadata": {},
   "outputs": [
    {
     "output_type": "stream",
     "name": "stdout",
     "text": [
      "sum using for loop: 2865\nsum using np diagonal: 2865\n"
     ]
    }
   ],
   "source": [
    "sum = 0\n",
    "n = len(dist)\n",
    "for i in range(n):\n",
    "    sum += dist[i, (i+1) % n]\n",
    "print(f\"sum using for loop: {sum}\")\n",
    "\n",
    "sum = np.sum(dist.diagonal(1)) + dist[0, -1]\n",
    "print(f\"sum using np diagonal: {sum}\")"
   ]
  },
  {
   "cell_type": "markdown",
   "metadata": {},
   "source": [
    "## Brute-Force-Algorithm\n",
    "An obvious approach is to solve the problem of the travelling salesman by trying out all possibilities.\n",
    "To do so, one sets any city as a starting point and considers all possible routes through all cities that start and end in this city.\n",
    "For each route we calculate the length and choose the shortest route.\n",
    "This strategy is called the brute force method."
   ]
  },
  {
   "cell_type": "markdown",
   "metadata": {},
   "source": [
    "## Task 2: Brute-Force-Algorithm <font color=red>(2 points)</font>\n",
    "Determine a formula for the number of elementary arithmetic operations ($+$, $-$, $*$, $/$, $>$, $<$, $\\ldots$) required to solve the problem of the traveling salesman with $n$ cities using the brute force algorithm.\n",
    "How long would it take on your computer to calculate an optimal route through $n=10$ cities using the brute force algorithm?\n",
    "How long would it take to calculate an optimal route through $n=30$ cities using the brute force algorithm with the fastest computer available?"
   ]
  },
  {
   "cell_type": "markdown",
   "metadata": {},
   "source": [
    "## Solution of Task 2\n",
    "$$ \\mathcal{O}((n-1)!) $$"
   ]
  },
  {
   "cell_type": "markdown",
   "metadata": {},
   "source": [
    "## Greedy-Algorithm\n",
    "In the so-called greedy algorithm, you specify an arbitrary city as the starting point and then select the city with the shortest distance to the first city as the second city.\n",
    "Of all remaining cities, the third city is chosen as the one that has the shortest distance to the second city.\n",
    "This procedure is continued until all cities have been visited."
   ]
  },
  {
   "cell_type": "code",
   "execution_count": 71,
   "metadata": {},
   "outputs": [
    {
     "output_type": "execute_result",
     "data": {
      "text/plain": [
       "<IPython.lib.display.IFrame at 0x1ba701d0b88>"
      ],
      "text/html": "\n        <iframe\n            width=\"800\"\n            height=\"600\"\n            src=\"https://www.dropbox.com/s/1qstjvhpnmh3ycr/tsp_greedy_figure.jpg?raw=1\"\n            frameborder=\"0\"\n            allowfullscreen\n        ></iframe>\n        "
     },
     "metadata": {},
     "execution_count": 71
    }
   ],
   "source": [
    "# Showing images with IFrame\n",
    "from IPython.display import IFrame\n",
    "IFrame('https://www.dropbox.com/s/1qstjvhpnmh3ycr/tsp_greedy_figure.jpg?raw=1', width=800, height=600)"
   ]
  },
  {
   "cell_type": "markdown",
   "metadata": {},
   "source": [
    "<div class=\"alert alert-block alert-warning\">\n",
    "\n",
    "<b>Example</b>\n",
    "    \n",
    "In the figure above Aachen was chosen as the starting point of the route.\n",
    "The city closest to Aachen is Koeln, then the route leads to Essen.\n",
    "You can see that the route from Hamburg via Luebeck and Kiel to Hof is not optimal.\n",
    "This route contains edges that intersect.\n",
    "The route from first Hamburg to Kiel, and then via Lübeck to Hof, is shorter.\n",
    "More intersecting edges are found when you complete the route from Wuerzburg to Aachen.\n",
    "</div>\n",
    "\n",
    "This method is called greedy, because it greedily rushes to the nearest city.\n",
    "The greedy algorithm tries to find the shortest route by determining step by step the shortest route to the next city.\n",
    "\n",
    "In mathematical terms, this means finding a global minimum by gradually determining the local minimum.\n",
    "However, as the example shows, the greedy algorithm usually does not provide the optimal solution to the problem."
   ]
  },
  {
   "cell_type": "markdown",
   "metadata": {},
   "source": [
    "### Task 3: Greedy-Algorithm <font color=red>(1 point)</font>\n",
    "Determine a route starting in Esslingen with the Greedy-Algorithm for the distance matrix ([1](#mjx-eqn-distancematrix)).\n",
    "How long is this route?\n"
   ]
  },
  {
   "cell_type": "markdown",
   "metadata": {},
   "source": [
    "<div class=\"alert alert-block alert-success\">\n",
    "    \n",
    "<b>Solution of Task 3</b>\n",
    "\n",
    "Esslingen -> Nürnberg -> München -> Frankfurt -> Köln -> Göttingen -> Leipzig -> Berlin -> Hamburg -> Kiel -> Esslingen\n",
    "\n",
    "Länge = \n",
    "\n",
    "</div>"
   ]
  },
  {
   "cell_type": "markdown",
   "metadata": {},
   "source": [
    "## 2-Opt-Algorithm\n",
    "The 2-opt-algorithm is a special case of a continuous improvement strategy.\n",
    "\n",
    "<b>Continuous improvement</b>\n",
    "\n",
    "Continuous improvement means that we start with an arbitrary route and try to modify this route in order to find a shorter route.\n",
    "Then we modify this shorter route in a similar way in order to find an even shorter route.\n",
    "We continue this process until no shorter route is found.\n",
    "Thus we generate a sequence of routes whose length decreases in a strictly monotonous manner.\n",
    "\n",
    "<b>Edge swap</b>\n",
    "\n",
    "As we have already seen, routes with intersecting edges are not optimal.\n",
    "This observation forms the basis for the so-called 2-Opt-Algorithm.\n",
    "The term 2-Opt is an abbreviation for the optimal exchange of two edges.\n",
    "To be more precisely, a pair of edges is replaced by another pair of edges.\n",
    "\n",
    "We would like to address a frequently occurring misunderstanding here.\n",
    "The 2-opt-algorithm does not explicitly search for edges that intersect.\n",
    "The number of intersecting edges is indirectly reduced by the 2-Opt-Algorithm.\n",
    "The reduction is caused by the fact that routes with less intersection edges are usually shorter. \n",
    "\n",
    "Suppose we have a route where the points are run through in the natural order:\n",
    "\n",
    "$$\n",
    "P_0 \\longrightarrow\n",
    "P_1 \\longrightarrow\n",
    "\\ldots \\longrightarrow\n",
    "P_{i-1} \\longrightarrow\n",
    "P_i \\longrightarrow\n",
    "\\ldots \\longrightarrow\n",
    "P_j \\longrightarrow\n",
    "P_{j+1} \\longrightarrow\n",
    "\\ldots \\longrightarrow\n",
    "P_{n-2} \\longrightarrow\n",
    "P_{n-1} \\longrightarrow\n",
    "P_{0}\n",
    "$$"
   ]
  },
  {
   "cell_type": "code",
   "execution_count": 72,
   "metadata": {},
   "outputs": [
    {
     "output_type": "execute_result",
     "data": {
      "text/plain": [
       "<IPython.lib.display.IFrame at 0x1ba7042bf48>"
      ],
      "text/html": "\n        <iframe\n            width=\"400\"\n            height=\"400\"\n            src=\"https://www.dropbox.com/s/bz3h41rcu9kzttp/tsp_swap_figure.jpg?raw=1\"\n            frameborder=\"0\"\n            allowfullscreen\n        ></iframe>\n        "
     },
     "metadata": {},
     "execution_count": 72
    }
   ],
   "source": [
    "IFrame('https://www.dropbox.com/s/bz3h41rcu9kzttp/tsp_swap_figure.jpg?raw=1', width=400, height=400)"
   ]
  },
  {
   "cell_type": "markdown",
   "metadata": {},
   "source": [
    "The figure above illustrates the exchange of the two edges\n",
    "$\\overline{P_{i-1}P_{i}}$\n",
    "and\n",
    "$\\overline{P_{j}P_{j+1}}$\n",
    "for the two edges\n",
    "$\\overline{P_{i-1}P_{j}}$\n",
    "and\n",
    "$\\overline{P_{i}P_{j+1}}$.\n",
    "\n",
    "For the indexing of the route, this means that the sequence: \n",
    "\n",
    "$$\n",
    "[ \\, 0 \\quad 1 \\quad \\ldots \\quad i-1 \\quad \n",
    "\\color{red}{\\mathbf{i \\quad i+1 \\quad \\ldots \\quad j-1 \\quad j}}\n",
    "\\quad j+1 \\quad \\ldots \\quad n-1 \\, ]\n",
    "$$\n",
    "\n",
    "will be transferred to the new sequence:\n",
    "\n",
    "$$\n",
    "[ \\, 0 \\quad 1 \\quad \\ldots \\quad i-1 \\quad\n",
    "\\color{red}{\\mathbf{j \\quad j-1 \\quad \\ldots \\quad i+1 \\quad i}}\n",
    "\\quad j+1 \\quad \\ldots \\quad n-1 \\, ] \\, .\n",
    "$$\n",
    "\n",
    "The indices from $i$ to $j$ are runing backwards in the new sequence.\n",
    "All other indices remain unchanged.\n",
    "Of course, the whole thing  only works if the index $j$ is larger than the index $i$.\n",
    "\n",
    "With the 2-Opt-algorithm we start with an arbitrary route and try to improve this route by swapping two edges.\n",
    "Then we try to improve this shorter route again by swapping two edges.\n",
    "This principle will be repeated until no improvement can be achieved by an edge swap.\n",
    "As soon as swapping two edges does no longer bring an advantage, the procedure is aborted.\n",
    "\n",
    "A distinction is made between two different strategies: first improvement and steepest descent."
   ]
  },
  {
   "cell_type": "markdown",
   "metadata": {},
   "source": [
    "<b>First improvement</b>\n",
    "\n",
    "First improvement works as follows.\n",
    "Suppose we have a route, where the points are run through in their natural order:\n",
    "\n",
    "$$\n",
    "P_0 \\longrightarrow\n",
    "P_1 \\longrightarrow\n",
    "\\ldots \\longrightarrow\n",
    "P_{i-1} \\longrightarrow\n",
    "P_i \\longrightarrow\n",
    "\\ldots \\longrightarrow\n",
    "P_j \\longrightarrow\n",
    "P_{j+1} \\longrightarrow\n",
    "\\ldots \\longrightarrow\n",
    "P_{n-2} \\longrightarrow\n",
    "P_{n-1} \\longrightarrow\n",
    "P_{0}\n",
    "$$\n",
    "\n",
    "Then we consider a new route where the edges\n",
    "$\\overline{P_{n-1}P_{0}}$\n",
    "and\n",
    "$\\overline{P_{1}P_{2}}$\n",
    "are swapped.\n",
    "In terms of indices, this means swap index $i=0$ with index $j=1$: \n",
    "\n",
    "$$\n",
    "[ \\, \\color{red}{\\mathbf{0 \\quad 1}} \\quad \\ldots \\quad n-2 \\quad n-1 \\, ]\n",
    "\\quad \\longrightarrow \\quad\n",
    "[ \\, \\color{red}{\\mathbf{1 \\quad 0}} \\quad \\ldots \\quad n-2 \\quad n-1 \\, ]\n",
    "$$\n",
    "\n",
    "If the new route with the swapped edges is shorter, then we choose this improved route and we start again with continous improvement.\n",
    "\n",
    "If the new route with the swapped edges is not shorter, then we consider a new route where the edges\n",
    "$\\overline{P_{n-1}P_{0}}$\n",
    "and\n",
    "$\\overline{P_{2}P_{3}}$\n",
    "are swapped.\n",
    "In terms of indices this means a swap with index $i=0$ and with index $j=2$: \n",
    "\n",
    "$$\n",
    "[ \\, \\color{red}{\\mathbf{0 \\quad 1 \\quad 2}} \\quad \\ldots \\quad n-2 \\quad n-1 \\, ]\n",
    "\\quad \\longrightarrow \\quad\n",
    "[ \\, \\color{red}{\\mathbf{2 \\quad 1 \\quad 0}} \\quad \\ldots \\quad n-2 \\quad n-1 \\, ]\n",
    "$$\n",
    "\n",
    "We continue in this way, until we have tried all pair combinations of edges. \n",
    "The last possibility is to consider a new route where the edges\n",
    "$\\overline{P_{n-3}P_{n-2}}$\n",
    "and\n",
    "$\\overline{P_{n-1}P_{0}}$\n",
    "are swapped.\n",
    "In terms of indices this means a swap with index $i=n-2$ and with index $j=n-1$: \n",
    "\n",
    "$$\n",
    "[ \\, 0 \\quad 1 \\quad \\ldots \\quad \\color{red}{\\mathbf{n-2 \\quad n-1}} \\, ]\n",
    "\\quad \\longrightarrow \\quad\n",
    "[ \\, 0 \\quad 1 \\quad \\ldots \\quad \\color{red}{\\mathbf{n-1 \\quad n-2}} \\, ]\n",
    "$$\n",
    "\n",
    "If the last swap does not result in a shorter route either, then no improvement can be achieved in this way and we stop the procedure."
   ]
  },
  {
   "cell_type": "markdown",
   "metadata": {},
   "source": [
    "<b>Steepest descent</b>\n",
    "\n",
    "The first improvement strategy accepts the first edge swap that results in a shorter route.\n",
    "In contrast, the steepest descent strategie considers all possible edge swaps and selects the shortest route from all possibilities.\n",
    "This means that the effort for each route is higher, but the improvement may be greater."
   ]
  },
  {
   "cell_type": "markdown",
   "metadata": {},
   "source": [
    "<div class=\"alert alert-block alert-info\">\n",
    "    \n",
    "### Task 4: Steepest descent <font color=red>(1 point)</font>\n",
    "How many edge swaps are to be considered per route for a TSP with $n$ cities using steepest descent?\n",
    "</div>"
   ]
  },
  {
   "cell_type": "markdown",
   "metadata": {},
   "source": [
    "<div class=\"alert alert-block alert-success\">\n",
    "    \n",
    "<b>Solution of Task 4</b>\n",
    "\n",
    "</div>"
   ]
  },
  {
   "cell_type": "markdown",
   "metadata": {},
   "source": [
    "## Simulated annealing\n",
    "With the principle of continuous improvement, it can happen that the process gets stuck in a local minimum.\n",
    "In the illustration below, the blue dot belongs to the arbitrarily chosen starting route.\n",
    "The red dots mark local minima.\n",
    "In order to reach the global minimum in the green dot, longer routes must be accepted in the meantime."
   ]
  },
  {
   "cell_type": "code",
   "execution_count": 73,
   "metadata": {},
   "outputs": [
    {
     "output_type": "execute_result",
     "data": {
      "text/plain": [
       "<IPython.lib.display.IFrame at 0x1ba6f7ff608>"
      ],
      "text/html": "\n        <iframe\n            width=\"300\"\n            height=\"300\"\n            src=\"https://c.mql5.com/2/30/pic1__1.png?raw=1\"\n            frameborder=\"0\"\n            allowfullscreen\n        ></iframe>\n        "
     },
     "metadata": {},
     "execution_count": 73
    }
   ],
   "source": [
    "IFrame('https://c.mql5.com/2/30/pic1__1.png?raw=1', width=300, height=300)"
   ]
  },
  {
   "cell_type": "markdown",
   "metadata": {},
   "source": [
    "Source: https://www.mql5.com/en/articles/4150\n",
    "\n",
    "Simulated Annealing is a method that is able to overcome local minima.\n",
    "This method is based on the cooling process of glowing metal.\n",
    "Starting from an arbitrary route, an alternative route is determined at random.\n",
    "Following the 2-Opt-Algorithm, an alternative route is determined by performing an edge swap on the previous route. \n",
    "The edges that are swapped are determined randomly.\n",
    "The length of the previous route is then compared with the length of the alternative route.\n",
    "If the alternative route is shorter, the next step is to perform a random edge swap based on the alternative route.\n",
    "In contrast to continuous improvement, Simulated Annealing also accepts longer alternative routes.\n",
    "The acceptance of longer routes is based on a random principle, whereby the probability depends on various parameters.\n",
    "\n",
    "The most important parameter is the temperature $T$ of the cooling process.\n",
    "This parameter starts with the value $T_{\\mbox{high}}$ and decreases by a cooling rate $\\beta \\in (0,1)$:\n",
    "\n",
    "$$\n",
    "\tT_{\\mbox{high}} \\to T_{\\mbox{high}} \\cdot \\beta \\to T_{\\mbox{high}} \\cdot \\beta^2 \\to T_{\\mbox{high}} \\cdot \\beta^3 \\to \\ldots \\to T_{\\mbox{low}}.  \n",
    "$$\n",
    "\n",
    "Since the cooling rate $\\beta$ has a value in the range between $0$ and $1$, the temperature decreases step by step.\n",
    "The process is terminated as soon as the temperature falls below a final temperature $T_{\\mbox{low}}$.\n",
    "\n",
    "The probability of accepting a longer alternative route depends on various factors.\n",
    "With decreasing temperature $T$ the probability of accepting a longer alternative route decreases.\n",
    "If the length $l_1$ of the alternative route is significantly longer than the length $l_0$ of the original route, then the probability for the acceptance of a longer alternative route is low.\n",
    "Both aspects can be realized by a formula for the probability $p$ of acceptance of the alternative route:\n",
    "\n",
    "$$\n",
    "\tp = \n",
    "\t\\left\\{\n",
    "\t\t\\begin{array}{cl}\n",
    "\t\t\t\\mathrm{e}^{-\\frac{l_1 - l_0}{T}} & \\mbox{for } l_1 \\geq l_0,\\\\[1ex]\n",
    "\t\t\t\t1                               & \\mbox{for } l_1 < l_0.\n",
    "\t\t\\end{array}\n",
    "\t\\right.\n",
    "$$\n",
    "\n",
    "An alternative route with a shorter length than the original route has the acceptance probability $p=1$.\n",
    "This means that shorter alternative routes are always accepted regardless of the temperature $T$. \n",
    "\n",
    "The decision whether to replace the original route with the alternative route is made using a pseudo-random number $z$.\n",
    "Pseudo-random number means that the number $z$ is calculated by an algorithm that provides equally distributed values in the interval $[0,1]$.\n",
    "\n",
    "If the condition\n",
    "\n",
    "$$\n",
    "z \\leq p\n",
    "$$\n",
    "\n",
    "is fulfilled, the procedure is continued with the alternative route.\n",
    "Otherwise, the procedure is continued with the original route."
   ]
  },
  {
   "cell_type": "markdown",
   "metadata": {},
   "source": [
    "<div class=\"alert alert-block alert-info\">\n",
    "    \n",
    "### Task 5: Simulated annealing <font color=red>(1 point)</font>\n",
    "Derive a formula for the number $n$ of temperature steps depending on $T_{\\mbox{high}}$, $T_{\\mbox{low}}$ and $\\beta$.\n",
    "</div>"
   ]
  },
  {
   "cell_type": "markdown",
   "metadata": {},
   "source": [
    "<div class=\"alert alert-block alert-success\">\n",
    "    \n",
    "<b>Solution of Task 5</b>\n",
    "\n",
    "</div>"
   ]
  },
  {
   "cell_type": "markdown",
   "metadata": {},
   "source": [
    "# Implementation\n",
    "Our goal is to implement the different algorithms and test them with different examples."
   ]
  },
  {
   "cell_type": "markdown",
   "metadata": {},
   "source": [
    "## Route and distance matrix\n",
    "First, we implement a function that calculates the length of a route."
   ]
  },
  {
   "cell_type": "code",
   "execution_count": 74,
   "metadata": {},
   "outputs": [],
   "source": [
    "def tspLength(dist,route):\n",
    "    length = 0\n",
    "    j = route[-1]\n",
    "    for k in route:\n",
    "        length += dist[j][k]\n",
    "        j = k\n",
    "    return length"
   ]
  },
  {
   "cell_type": "markdown",
   "metadata": {},
   "source": [
    "Testing the function `tspLength()` with the example of 10 cities in Germany:"
   ]
  },
  {
   "cell_type": "code",
   "execution_count": 75,
   "metadata": {
    "scrolled": true
   },
   "outputs": [
    {
     "output_type": "stream",
     "name": "stdout",
     "text": [
      "l =  2865\n"
     ]
    }
   ],
   "source": [
    "route = range(0,10)\n",
    "l = tspLength(dist,route)\n",
    "print('l = ', l)"
   ]
  },
  {
   "cell_type": "markdown",
   "metadata": {},
   "source": [
    "## Brute-Force-Algorithm\n",
    "The biggest challenge to implement the brute-force algorithm, is to generate all possible permutations.\n",
    "Thank God, there is already a solution for this in Python."
   ]
  },
  {
   "cell_type": "code",
   "execution_count": 76,
   "metadata": {},
   "outputs": [
    {
     "output_type": "stream",
     "name": "stdout",
     "text": [
      "(0, 1, 2, 3)\n(0, 1, 3, 2)\n(0, 2, 1, 3)\n(0, 2, 3, 1)\n(0, 3, 1, 2)\n(0, 3, 2, 1)\n(1, 0, 2, 3)\n(1, 0, 3, 2)\n(1, 2, 0, 3)\n(1, 2, 3, 0)\n(1, 3, 0, 2)\n(1, 3, 2, 0)\n(2, 0, 1, 3)\n(2, 0, 3, 1)\n(2, 1, 0, 3)\n(2, 1, 3, 0)\n(2, 3, 0, 1)\n(2, 3, 1, 0)\n(3, 0, 1, 2)\n(3, 0, 2, 1)\n(3, 1, 0, 2)\n(3, 1, 2, 0)\n(3, 2, 0, 1)\n(3, 2, 1, 0)\n"
     ]
    }
   ],
   "source": [
    "from itertools import permutations\n",
    "\n",
    "for perm in permutations(range(4)):\n",
    "    print(perm)"
   ]
  },
  {
   "cell_type": "markdown",
   "metadata": {},
   "source": [
    "However, we should note that we do not need to change the first index of the permutations.\n",
    "We can put the starting point of the route on the same city for all permutations.\n",
    "Therefore we get a significant improvement of the runtime."
   ]
  },
  {
   "cell_type": "code",
   "execution_count": 77,
   "metadata": {},
   "outputs": [
    {
     "output_type": "stream",
     "name": "stdout",
     "text": [
      "[0, 1, 2, 3]\n[0, 1, 3, 2]\n[0, 2, 1, 3]\n[0, 2, 3, 1]\n[0, 3, 1, 2]\n[0, 3, 2, 1]\n"
     ]
    }
   ],
   "source": [
    "for perm in permutations(range(1,4)):\n",
    "    print([0, *perm])"
   ]
  },
  {
   "cell_type": "markdown",
   "metadata": {},
   "source": [
    "<div class=\"alert alert-block alert-info\">\n",
    "    \n",
    "### Task 6: Brute-Force-Algorithm <font color=red>(3 points)</font>\n",
    "\n",
    "Implement the function `tspBruteForce()`.\n",
    "Test it with the example of 10 cities in Germany.\n",
    "Compare the experimentally measured runtime with the theoretical result from task 2.\n",
    "</div>"
   ]
  },
  {
   "cell_type": "markdown",
   "metadata": {},
   "source": [
    "<div class=\"alert alert-block alert-success\">\n",
    "    \n",
    "<b>Solution of task 6 </b>\n",
    "    \n",
    "Implementation of function `tspBruteForce()`:\n",
    "</div>"
   ]
  },
  {
   "cell_type": "code",
   "execution_count": 78,
   "metadata": {},
   "outputs": [],
   "source": [
    "def tspBruteForce(dist):\n",
    "    \n",
    "    return route"
   ]
  },
  {
   "cell_type": "markdown",
   "metadata": {},
   "source": [
    "<div class=\"alert alert-block alert-success\">\n",
    "    \n",
    "Testing of function `tspBruteForce()` with the example of 10 cities in Germany and comparison of the experimentally measured runtime with the theoretical result from task 2:\n",
    "</div>"
   ]
  },
  {
   "cell_type": "code",
   "execution_count": 79,
   "metadata": {},
   "outputs": [],
   "source": [
    "# run time messurement\n",
    "import time"
   ]
  },
  {
   "cell_type": "markdown",
   "metadata": {},
   "source": [
    "## Greedy-Algorithm\n",
    "The greedy algorithm is based on determining the shortest distance in the distance matrix.\n",
    "Python already offers an elegant solution for this.\n",
    "The function `np.argmin()` determines the index of the smallest value.\n",
    "\n",
    "However, this function would always determine the value zero in the diagonal of the matrix as the smallest value.\n",
    "We can solve this problem by overwriting the elements in the diagonal with the maximum numerical value.\n",
    "The maximum numeric value depends on the data type of the matrix elements and can be determined with the function `np.iinfo().max`.\n",
    "\n",
    "After a city has been indexed as a city with the smallest distance, we have to make sure that it will not be visited again later.\n",
    "Again, we use the same trick as with the diagonal elements and overwrite the values with the maximum numerical value. \n",
    "\n",
    "To be able to use the distance matrix again later, we use a copy of the matrix.\n",
    "The first two steps of the greedy algorithm for the example with the 10 cities in Germany look like this:"
   ]
  },
  {
   "cell_type": "code",
   "execution_count": 80,
   "metadata": {},
   "outputs": [
    {
     "output_type": "stream",
     "name": "stdout",
     "text": [
      "[[65535   510   424   262   256   295   478   150   505   378]\n [65535     0   161   313   537   632   296   362   180   151]\n [65535   161     0   180   391   477   150   293   307   189]\n [65535   313   180     0   225   310   217   170   395   245]\n [65535   537   391   225     0    86   356   294   612   462]\n [65535   623   477   310    86     0   433   364   695   545]\n [65535   296   150   217   356   433     0   380   456   336]\n [65535   362   293   170   294   364   380     0   361   229]\n [65535   180   307   395   612   695   456   361     0   151]\n [65535   151   189   245   462   545   336   229   151     0]]\nj1 =  7\n[[65535 65535 65535 65535 65535 65535 65535 65535 65535 65535]\n [65535     0   161   313   537   632   296   362   180   151]\n [65535   161     0   180   391   477   150   293   307   189]\n [65535   313   180     0   225   310   217   170   395   245]\n [65535   537   391   225     0    86   356   294   612   462]\n [65535   623   477   310    86     0   433   364   695   545]\n [65535   296   150   217   356   433     0   380   456   336]\n [65535   362   293   170   294   364   380     0   361   229]\n [65535   180   307   395   612   695   456   361     0   151]\n [65535   151   189   245   462   545   336   229   151     0]]\n[[65535 65535 65535 65535 65535 65535 65535 65535 65535 65535]\n [65535     0   161   313   537   632   296 65535   180   151]\n [65535   161     0   180   391   477   150 65535   307   189]\n [65535   313   180     0   225   310   217 65535   395   245]\n [65535   537   391   225     0    86   356 65535   612   462]\n [65535   623   477   310    86     0   433 65535   695   545]\n [65535   296   150   217   356   433     0 65535   456   336]\n [65535   362   293   170   294   364   380 65535   361   229]\n [65535   180   307   395   612   695   456 65535     0   151]\n [65535   151   189   245   462   545   336 65535   151     0]]\nj2 =  3\n[[65535 65535 65535 65535 65535 65535 65535 65535 65535 65535]\n [65535     0   161   313   537   632   296 65535   180   151]\n [65535   161     0   180   391   477   150 65535   307   189]\n [65535   313   180     0   225   310   217 65535   395   245]\n [65535   537   391   225     0    86   356 65535   612   462]\n [65535   623   477   310    86     0   433 65535   695   545]\n [65535   296   150   217   356   433     0 65535   456   336]\n [65535 65535 65535 65535 65535 65535 65535 65535 65535 65535]\n [65535   180   307   395   612   695   456 65535     0   151]\n [65535   151   189   245   462   545   336 65535   151     0]]\n"
     ]
    }
   ],
   "source": [
    "local_dist = dist.copy()\n",
    "# start with index 0\n",
    "j0 = 0\n",
    "local_dist[:,j0] = np.iinfo(dist.dtype).max\n",
    "print(local_dist)\n",
    "j1 = np.argmin(local_dist[j0,:])\n",
    "print('j1 = ',j1)\n",
    "local_dist[j0,:] = np.iinfo(dist.dtype).max\n",
    "print(local_dist)\n",
    "# continue with index j1\n",
    "local_dist[:,j1] = np.iinfo(dist.dtype).max\n",
    "print(local_dist)\n",
    "j2 = np.argmin(local_dist[j1,:])\n",
    "print('j2 = ',j2)\n",
    "local_dist[j1,:] = np.iinfo(dist.dtype).max\n",
    "print(local_dist)"
   ]
  },
  {
   "cell_type": "markdown",
   "metadata": {},
   "source": [
    "<div class=\"alert alert-block alert-info\">\n",
    "    \n",
    "### Task 7: Greedy-Algorithm <font color=red>(3 points)</font>\n",
    "\n",
    "Implement the function `tspGreedy()`.\n",
    "Test it with the example of 10 cities in Germany.\n",
    "Does the Greedy Algorithm generate the optimal route for any city as a starting point?\n",
    "</div>"
   ]
  },
  {
   "cell_type": "markdown",
   "metadata": {},
   "source": [
    "<div class=\"alert alert-block alert-success\">\n",
    "    \n",
    "<b>Solution of task 7</b>\n",
    "\n",
    "Implementation of function `tspGreedy()`:\n",
    "</div>"
   ]
  },
  {
   "cell_type": "code",
   "execution_count": 83,
   "metadata": {},
   "outputs": [],
   "source": [
    "def tsp_greedy(dist, start):\n",
    "    start = indexDictionary[start]\n",
    "    path = [start]\n",
    "    current = start\n",
    "    local_dist = dist.copy()\n",
    "    n = len(dist)\n",
    "\n",
    "    while len(path) != n:\n",
    "        local_dist[:,current] = np.iinfo(dist.dtype).max\n",
    "        current = np.argmin(local_dist[current,:])\n",
    "        path.append(current)\n",
    "\n",
    "    path.append(start)\n",
    "    return path"
   ]
  },
  {
   "cell_type": "markdown",
   "metadata": {},
   "source": [
    "<div class=\"alert alert-block alert-success\">\n",
    "\n",
    "Testing with the example of 10 cities in Germany for all cities as start point:\n",
    "</div>"
   ]
  },
  {
   "cell_type": "code",
   "execution_count": 84,
   "metadata": {},
   "outputs": [
    {
     "output_type": "stream",
     "name": "stdout",
     "text": [
      "Shortest tsp for Berlin:\n['Berlin', 'Leipzig', 'Göttingen', 'Frankfurt', 'Köln', 'Esslingen', 'Nürnberg', 'München', 'Hamburg', 'Kiel', 'Berlin']\nShortest tsp for Esslingen:\n['Esslingen', 'Nürnberg', 'München', 'Frankfurt', 'Köln', 'Göttingen', 'Leipzig', 'Berlin', 'Hamburg', 'Kiel', 'Esslingen']\nShortest tsp for Frankfurt:\n['Frankfurt', 'Köln', 'Göttingen', 'Leipzig', 'Berlin', 'Hamburg', 'Kiel', 'Nürnberg', 'Esslingen', 'München', 'Frankfurt']\nShortest tsp for Göttingen:\n['Göttingen', 'Leipzig', 'Berlin', 'Hamburg', 'Kiel', 'Köln', 'Frankfurt', 'Esslingen', 'Nürnberg', 'München', 'Göttingen']\nShortest tsp for Hamburg:\n['Hamburg', 'Kiel', 'Berlin', 'Leipzig', 'Göttingen', 'Frankfurt', 'Köln', 'Esslingen', 'Nürnberg', 'München', 'Hamburg']\nShortest tsp for Kiel:\n['Kiel', 'Hamburg', 'Göttingen', 'Leipzig', 'Berlin', 'Nürnberg', 'Esslingen', 'Frankfurt', 'Köln', 'München', 'Kiel']\nShortest tsp for Köln:\n['Köln', 'Frankfurt', 'Esslingen', 'Nürnberg', 'München', 'Leipzig', 'Berlin', 'Hamburg', 'Kiel', 'Göttingen', 'Köln']\nShortest tsp for Leipzig:\n['Leipzig', 'Berlin', 'Hamburg', 'Kiel', 'Göttingen', 'Frankfurt', 'Köln', 'Esslingen', 'Nürnberg', 'München', 'Leipzig']\nShortest tsp for München:\n['München', 'Nürnberg', 'Esslingen', 'Frankfurt', 'Köln', 'Göttingen', 'Leipzig', 'Berlin', 'Hamburg', 'Kiel', 'München']\nShortest tsp for Nürnberg:\n['Nürnberg', 'Esslingen', 'Frankfurt', 'Köln', 'Göttingen', 'Leipzig', 'Berlin', 'Hamburg', 'Kiel', 'München', 'Nürnberg']\n"
     ]
    }
   ],
   "source": [
    "for name in indexDictionary.keys():\n",
    "    print(\"Shortest tsp for %s:\" % (name,))\n",
    "    path = tsp_greedy(dist, name)\n",
    "    name_path = [cityDictionary[keys] for keys in path]\n",
    "    print(name_path)"
   ]
  },
  {
   "cell_type": "markdown",
   "metadata": {},
   "source": [
    "## 2-Opt-Algorithm\n",
    "The 2-Opt-Algorithm is based on continous improvement combined with edge swapping.\n",
    "\n",
    "<b>Edge swap</b>\n",
    "\n",
    "Edge replacement can be implemented very easily.\n",
    "The two edges to be exchanged are specified by the indices $i$ and $j$.\n",
    "The indices between $i$ and $j$ run in reverse order.\n",
    "All other indices remain unchanged.\n",
    "\n",
    "<div class=\"alert alert-block alert-warning\">\n",
    "\n",
    "<b>Example</b>\n",
    "\n",
    "An edge swap with index $i=3$ and index $j=7$ applied to the route\n",
    "    \n",
    "$$\n",
    "[ \\, 5 \\quad 4 \\quad 3 \\quad \n",
    "\\color{red}{\\mathbf{7 \\quad 0 \\quad 9 \\quad 1 \\quad 2}}\n",
    "\\quad 6 \\quad 8 \\, ] \\hphantom{\\, .}\n",
    "$$\n",
    "\n",
    "will generate the new route:\n",
    "\n",
    "$$\n",
    "[ \\, 5 \\quad 4 \\quad 3 \\quad \n",
    "\\color{red}{\\mathbf{2 \\quad 1 \\quad 9 \\quad 0 \\quad 7}}\n",
    "\\quad 6 \\quad 8 \\, ] \\, .\n",
    "$$\n",
    "</div>\n",
    "\n",
    "To be able to use the function more flexibly, we also allow index pairs where $j$ is greater or equal than $i$.\n",
    "In this case we simply swap the roles of $i$ and $j$."
   ]
  },
  {
   "cell_type": "markdown",
   "metadata": {},
   "source": [
    "<div class=\"alert alert-block alert-info\">\n",
    "    \n",
    "### Task 8: Swap edge <font color=red>(2 points)</font>\n",
    "\n",
    "Implement the function `tspSwapEdge()` and test it.\n",
    "Make sure that the function also works for $j \\leq i$.\n",
    "</div>"
   ]
  },
  {
   "cell_type": "markdown",
   "metadata": {},
   "source": [
    "<div class=\"alert alert-block alert-success\">\n",
    "    \n",
    "<b>Solution of task 8</b>\n",
    "    \n",
    "Implementation of function `tspSwapEdge()`:\n",
    "</div>"
   ]
  },
  {
   "cell_type": "code",
   "execution_count": null,
   "metadata": {},
   "outputs": [],
   "source": [
    "def tspSwapEdge(route,i,j):\n",
    "\n",
    "    return routeSwap "
   ]
  },
  {
   "cell_type": "markdown",
   "metadata": {},
   "source": [
    "<div class=\"alert alert-block alert-success\">\n",
    "    \n",
    "Testing the function `tspSwapEdge()`:\n",
    "</div>"
   ]
  },
  {
   "cell_type": "code",
   "execution_count": null,
   "metadata": {},
   "outputs": [],
   "source": []
  },
  {
   "cell_type": "markdown",
   "metadata": {},
   "source": [
    "<b>First improvement</b>\n",
    "\n",
    "First improvement follows the principle of continuous improvement.\n",
    "We start with an arbitrary route and try to improve this route as long as possible by swapping edges."
   ]
  },
  {
   "cell_type": "code",
   "execution_count": null,
   "metadata": {},
   "outputs": [],
   "source": [
    "def tspFirstImprovement(dist,route):\n",
    "    n = dist.shape[0]\n",
    "    while True:\n",
    "        lenRoute = tspLength(dist,route)\n",
    "        for i in range(n-1):\n",
    "            for j in range(i+1,n):\n",
    "                routeSwap = tspSwapEdge(route,i,j)\n",
    "                lenRouteSwap = tspLength(dist,routeSwap)\n",
    "                if lenRouteSwap < lenRoute:\n",
    "                    break\n",
    "            if lenRouteSwap < lenRoute:\n",
    "                break\n",
    "        if lenRouteSwap < lenRoute:\n",
    "            route = routeSwap\n",
    "            lenRoute = lenRouteSwap\n",
    "        else:\n",
    "            break\n",
    "    return route"
   ]
  },
  {
   "cell_type": "markdown",
   "metadata": {},
   "source": [
    "Testing of function `tspFirstImprovement()`:"
   ]
  },
  {
   "cell_type": "code",
   "execution_count": null,
   "metadata": {},
   "outputs": [],
   "source": [
    "routeFirstImprovement = tspFirstImprovement(dist,np.array(range(10)))\n",
    "print(routeFirstImprovement)\n",
    "print(tspLength(dist,routeFirstImprovement))"
   ]
  },
  {
   "cell_type": "markdown",
   "metadata": {},
   "source": [
    "With first improvement we were able to find the optimal route with much shorter running time.\n",
    "\n",
    "<b>Steepest descent</b>\n",
    "\n",
    "There is only a slight modification between first improvement and steepest descent.\n",
    "Instead of taking the first route, which becomes shorter by changing edges, we search through all possibilities and choose the shortest one."
   ]
  },
  {
   "cell_type": "markdown",
   "metadata": {},
   "source": [
    "<div class=\"alert alert-block alert-info\">\n",
    "    \n",
    "### Task 9: Steepest descent <font color=red>(2 points)</font>\n",
    "\n",
    "Implement the function `tspSteepestDescent()`.\n",
    "Test it with the example of 10 cities in Germany.\n",
    "Compare the result with the brute force and with the first improvement approach.\n",
    "</div>"
   ]
  },
  {
   "cell_type": "markdown",
   "metadata": {},
   "source": [
    "<div class=\"alert alert-block alert-success\">\n",
    "    \n",
    "<b>Solution of task 9</b>\n",
    "\n",
    "Implementation of function `tspSteepestDescent()`:\n",
    "</div>"
   ]
  },
  {
   "cell_type": "code",
   "execution_count": null,
   "metadata": {},
   "outputs": [],
   "source": [
    "def tspSteepestDescent(dist,route):\n",
    "\n",
    "    return route"
   ]
  },
  {
   "cell_type": "markdown",
   "metadata": {},
   "source": [
    "<div class=\"alert alert-block alert-success\">\n",
    "Testing of function `tspSteepestDescent()` with the example of 10 cities in Germany:\n",
    "</div>"
   ]
  },
  {
   "cell_type": "code",
   "execution_count": null,
   "metadata": {},
   "outputs": [],
   "source": []
  },
  {
   "cell_type": "markdown",
   "metadata": {},
   "source": [
    "At first sight, we expect steepest descent to perform better than first improvement.\n",
    "In fact, this example shows that it is the other way around."
   ]
  },
  {
   "cell_type": "markdown",
   "metadata": {},
   "source": [
    "## Simulated annealing\n",
    "The implementation of simulated annealing depends on pseudorandom numbers.\n",
    "In Python there already exists a pseudorandom number generator which we may use by imporing `random`.\n",
    "The two random indices $i$ and $j$ in the range between $0$ and $n-1$ for the edge swap are created with `randint()`:"
   ]
  },
  {
   "cell_type": "code",
   "execution_count": null,
   "metadata": {},
   "outputs": [],
   "source": [
    "import random\n",
    "n = dist.shape[0]\n",
    "i = random.randint(0,n-1)\n",
    "j = random.randint(0,n-1)\n",
    "print('i = ',i,', j = ',j)"
   ]
  },
  {
   "cell_type": "markdown",
   "metadata": {},
   "source": [
    "The random value $z \\in [0,1)$ is generated with `random()`:"
   ]
  },
  {
   "cell_type": "code",
   "execution_count": null,
   "metadata": {},
   "outputs": [],
   "source": [
    "z = random.random()\n",
    "print('z = ',z)"
   ]
  },
  {
   "cell_type": "markdown",
   "metadata": {},
   "source": [
    "To obtain reproducible results, the random number generator is set to the same initial state before each test run."
   ]
  },
  {
   "cell_type": "code",
   "execution_count": null,
   "metadata": {},
   "outputs": [],
   "source": [
    "random.seed(4711)"
   ]
  },
  {
   "cell_type": "markdown",
   "metadata": {},
   "source": [
    "<div class=\"alert alert-block alert-info\">\n",
    "    \n",
    "### Task 10: Simulated annealing <font color=red>(2 points)</font>\n",
    "\n",
    "Implement the function `tspSimulatedAnnealing()`.\n",
    "Test it with the example of 10 cities in Germany for $\\beta=0.99$, $T_\\mbox{high}=100$ and $T_\\mbox{low}=10$.\n",
    "Choose different seeds for the random number generator.    \n",
    "</div>"
   ]
  },
  {
   "cell_type": "markdown",
   "metadata": {},
   "source": [
    "<div class=\"alert alert-block alert-success\">\n",
    "    \n",
    "<b>Solution of task 10</b>\n",
    "\n",
    "Implementation of function `tspSimulatedAnnealing()`:\n",
    "</div>"
   ]
  },
  {
   "cell_type": "code",
   "execution_count": null,
   "metadata": {},
   "outputs": [],
   "source": [
    "# need math for exp()\n",
    "import math\n",
    "\n",
    "def tspSimulatedAnnealing(dist,route,beta,T_high,T_low):\n",
    "\n",
    "    return route"
   ]
  },
  {
   "cell_type": "markdown",
   "metadata": {},
   "source": [
    "<div class=\"alert alert-block alert-success\">\n",
    "Testing of function `tspSimulatedAnnealing()` with the example of 10 cities in Germany for $\\beta=0.99$, $T_\\mbox{high}=100$ and $T_\\mbox{low}=10$ and different seeds:\n",
    "</div>"
   ]
  },
  {
   "cell_type": "code",
   "execution_count": null,
   "metadata": {},
   "outputs": [],
   "source": []
  },
  {
   "cell_type": "markdown",
   "metadata": {},
   "source": [
    "# Visualization\n",
    "In the beginning, we have already discussed that the numbers in the distance matrix do not necessarily have to correspond to geometric distances.\n",
    "However, if the points of the TSP can be assigned coordinates, then a visualization is easily possible.\n",
    "\n",
    "<div class=\"alert alert-block alert-warning\">\n",
    "    \n",
    "<b>Example (10 cities in Germany)</b>\n",
    "\n",
    "Again, we look at the example with the 10 cities in Germany.\n",
    "The positions of the cities can be determined by using longitude and latitude.\n",
    "     \n",
    "$$\n",
    "\\begin{array}{l|c|c|c|c|c|c|c|c|c}\n",
    " & \\mbox{Berlin}\n",
    " & \\mbox{Esslingen} \n",
    " & \\mbox{Frankfurt}\n",
    " & \\mbox{Goettingen}\n",
    " & \\mbox{Hamburg} \n",
    " & \\mbox{Kiel}\n",
    " & \\mbox{Koeln}\n",
    " & \\mbox{Leipzig}\n",
    " & \\mbox{Muenchen}\n",
    " & \\mbox{Nuernberg} \\\\\n",
    "\\hline\n",
    "\\mbox{longitude} & 13.4114 & 9.3071 & 8.6636 & 9.9352 & 9.9921 & 10.1371 & 6.9599 & 12.3712 & 11.5753 & 11.0772 \\\\\n",
    "\\hline\n",
    "\\mbox{latitude} & 52.52340 & 48.74275 & 50.13083 & 51.53276 & 53.55340 & 54.32167 & 50.93836 & 51.33962 & 48.13710 & 49.45387 \\\\  \n",
    "\\end{array}\n",
    "$$\n",
    "    \n",
    "Longitude and latitude are indeed spherical coordinates.\n",
    "However, the cities in Germany cover only a small section of the globe.\n",
    "Therefore we can use longitude and latitude as good approximations in a Cartesian coordinate system.\n",
    "</div>"
   ]
  },
  {
   "cell_type": "code",
   "execution_count": null,
   "metadata": {},
   "outputs": [],
   "source": [
    "# MatPlotLib\n",
    "%matplotlib inline\n",
    "import matplotlib.pyplot as plt\n",
    "\n",
    "def tspDraw(dist,route,pos,names):\n",
    "    fig, ax = plt.subplots()\n",
    "    l = tspLength(dist,route)\n",
    "    fig.suptitle('length = '+str(l),fontsize=14)\n",
    "    ax.get_xaxis().set_visible(False)\n",
    "    ax.get_yaxis().set_visible(False)\n",
    "    ax.set_aspect('equal')\n",
    "    ax.plot(pos[:,0],pos[:,1],'ko', markersize=4)\n",
    "    ax.plot(np.append(pos[:,0],pos[0,0]),np.append(pos[:,1],pos[0,1]),'k-')\n",
    "    for xy, name in zip(pos, names):\n",
    "        ax.annotate(name,xy=xy,xytext=(5,2),textcoords='offset points',ha='left', va='center', fontsize=12)\n",
    "    return"
   ]
  },
  {
   "cell_type": "code",
   "execution_count": null,
   "metadata": {},
   "outputs": [],
   "source": [
    "name = ['Berlin','Esslingen','Frankfurt','Goettingen','Hamburg','Kiel','Koeln','Leipzig','Muenchen',\n",
    "'Nuernberg']\n",
    "print(name)\n",
    "pos = np.array([\n",
    "[13.4114,52.52340],\n",
    "[ 9.3071,48.74275],\n",
    "[ 8.6636,50.13083],\n",
    "[ 9.9352,51.53276],\n",
    "[ 9.9921,53.55340],  \n",
    "[10.1371,54.32167],\n",
    "[ 6.9599,50.93836], \n",
    "[12.3712,51.33962], \n",
    "[11.5753,48.13710],\n",
    "[11.0772,49.45387] \n",
    "])\n",
    "tspDraw(dist,route,pos,name)"
   ]
  },
  {
   "cell_type": "markdown",
   "metadata": {},
   "source": [
    "# Evaluation\n",
    "The only method where we can be sure that we have found the optimal solution of the TSP, is the brute force algorithm.\n",
    "With the brute force algorithm, however, we cannot solve problems with much more than 10 cities, given the current performance of the computers.\n",
    "Nearly optimal solutions can be determined with the 2-Opt-algorithm or with Simulated Annealing."
   ]
  },
  {
   "cell_type": "markdown",
   "metadata": {},
   "source": [
    "# Embedding\n",
    "Geographical locations are based on the fact that the earth can be approximated well by a sphere.\n",
    "In mathematics, we therefore speak of spherical coordinates.\n",
    "The shortest connection between two points on the surface of a sphere is called an orthodrome.\n",
    "An orthodrome always runs on a great-circle, i.e. on a circle through the centre of the earth.\n",
    "The length of an orthodrome is called great-circle distance or orthodromic distance.\n",
    "The distances between two cities can be determined by the length of the orthodrome on a sphere with radius\n",
    "$6.370$ km."
   ]
  },
  {
   "cell_type": "markdown",
   "metadata": {},
   "source": [
    "<div class=\"alert alert-block alert-info\">\n",
    "    \n",
    "### Task 11: Distance on sphere <font color=red>(2 points)</font>\n",
    "\n",
    "Implement the function `tspDistOnSphere()`.\n",
    "Test it with the example of 10 cities in Germany and compare your results with the distance matrix in the first example.\n",
    "</div>"
   ]
  },
  {
   "cell_type": "markdown",
   "metadata": {},
   "source": [
    "<div class=\"alert alert-block alert-success\">\n",
    "    \n",
    "<b>Solution of task 11</b>\n",
    "\n",
    "Implementation of function `tspDistOnSphere()`:\n",
    "</div>"
   ]
  },
  {
   "cell_type": "code",
   "execution_count": null,
   "metadata": {},
   "outputs": [],
   "source": [
    "from numpy import sin, cos, arccos, deg2rad\n",
    "def tspDistOnSphere(lng1,lat1,lng2,lat2):\n",
    "    return d"
   ]
  },
  {
   "cell_type": "markdown",
   "metadata": {},
   "source": [
    "<div class=\"alert alert-block alert-success\">\n",
    "Testing with the example of 10 cities in Germany:\n",
    "</div>"
   ]
  },
  {
   "cell_type": "code",
   "execution_count": null,
   "metadata": {},
   "outputs": [],
   "source": []
  },
  {
   "cell_type": "markdown",
   "metadata": {},
   "source": [
    "# Literature\n",
    " - [https://en.wikipedia.org/wiki/Travelling_salesman_problem](https://en.wikipedia.org/wiki/Travelling_salesman_problem)\n",
    " - [https://en.wikipedia.org/wiki/2-opt](https://en.wikipedia.org/wiki/2-opt)\n",
    " - [https://en.wikipedia.org/wiki/Simulated_annealing](https://en.wikipedia.org/wiki/Simulated_annealing)\n",
    " - [https://en.wikipedia.org/wiki/Great-circle_distance](https://en.wikipedia.org/wiki/Great-circle_distance)\n",
    " - [https://developers.google.com/optimization/routing/tsp](https://developers.google.com/optimization/routing/tsp)"
   ]
  }
 ],
 "metadata": {
  "kernelspec": {
   "display_name": "Python 3",
   "language": "python",
   "name": "python3"
  },
  "language_info": {
   "codemirror_mode": {
    "name": "ipython",
    "version": 3
   },
   "file_extension": ".py",
   "mimetype": "text/x-python",
   "name": "python",
   "nbconvert_exporter": "python",
   "pygments_lexer": "ipython3",
   "version": "3.7.6-final"
  },
  "toc": {
   "base_numbering": 1,
   "nav_menu": {},
   "number_sections": true,
   "sideBar": true,
   "skip_h1_title": false,
   "title_cell": "Project tsp",
   "title_sidebar": "Project tsp",
   "toc_cell": true,
   "toc_position": {
    "height": "570.4px",
    "left": "308px",
    "top": "110.383px",
    "width": "230px"
   },
   "toc_section_display": true,
   "toc_window_display": true
  }
 },
 "nbformat": 4,
 "nbformat_minor": 2
}