{
 "cells": [
  {
   "cell_type": "markdown",
   "metadata": {
    "toc": true
   },
   "source": [
    "<h1>Project tsp<span class=\"tocSkip\"></span></h1>\n",
    "<div class=\"toc\"><ul class=\"toc-item\"><li><span><a href=\"#Modelling\" data-toc-modified-id=\"Modelling-1\"><span class=\"toc-item-num\">1&nbsp;&nbsp;</span>Modelling</a></span></li><li><span><a href=\"#Numerical-treatment\" data-toc-modified-id=\"Numerical-treatment-2\"><span class=\"toc-item-num\">2&nbsp;&nbsp;</span>Numerical treatment</a></span><ul class=\"toc-item\"><li><span><a href=\"#Route-and-distance-matrix\" data-toc-modified-id=\"Route-and-distance-matrix-2.1\"><span class=\"toc-item-num\">2.1&nbsp;&nbsp;</span>Route and distance matrix</a></span><ul class=\"toc-item\"><li><span><a href=\"#Task-1:-Route-and-distance-matrix-(1-point)\" data-toc-modified-id=\"Task-1:-Route-and-distance-matrix-(1-point)-2.1.1\"><span class=\"toc-item-num\">2.1.1&nbsp;&nbsp;</span>Task 1: Route and distance matrix <font color=\"red\">(1 point)</font></a></span></li></ul></li><li><span><a href=\"#Brute-Force-Algorithm\" data-toc-modified-id=\"Brute-Force-Algorithm-2.2\"><span class=\"toc-item-num\">2.2&nbsp;&nbsp;</span>Brute-Force-Algorithm</a></span><ul class=\"toc-item\"><li><span><a href=\"#Task-2:-Brute-Force-Algorithm-(2-points)\" data-toc-modified-id=\"Task-2:-Brute-Force-Algorithm-(2-points)-2.2.1\"><span class=\"toc-item-num\">2.2.1&nbsp;&nbsp;</span>Task 2: Brute-Force-Algorithm <font color=\"red\">(2 points)</font></a></span></li></ul></li><li><span><a href=\"#Greedy-Algorithm\" data-toc-modified-id=\"Greedy-Algorithm-2.3\"><span class=\"toc-item-num\">2.3&nbsp;&nbsp;</span>Greedy-Algorithm</a></span><ul class=\"toc-item\"><li><span><a href=\"#Task-3:-Greedy-Algorithm-(1-point)\" data-toc-modified-id=\"Task-3:-Greedy-Algorithm-(1-point)-2.3.1\"><span class=\"toc-item-num\">2.3.1&nbsp;&nbsp;</span>Task 3: Greedy-Algorithm <font color=\"red\">(1 point)</font></a></span></li></ul></li><li><span><a href=\"#2-Opt-Algorithm\" data-toc-modified-id=\"2-Opt-Algorithm-2.4\"><span class=\"toc-item-num\">2.4&nbsp;&nbsp;</span>2-Opt-Algorithm</a></span><ul class=\"toc-item\"><li><span><a href=\"#Task-4:-Steepest-descent-(1-point)\" data-toc-modified-id=\"Task-4:-Steepest-descent-(1-point)-2.4.1\"><span class=\"toc-item-num\">2.4.1&nbsp;&nbsp;</span>Task 4: Steepest descent <font color=\"red\">(1 point)</font></a></span></li></ul></li><li><span><a href=\"#Simulated-annealing\" data-toc-modified-id=\"Simulated-annealing-2.5\"><span class=\"toc-item-num\">2.5&nbsp;&nbsp;</span>Simulated annealing</a></span><ul class=\"toc-item\"><li><span><a href=\"#Task-5:-Simulated-annealing-(1-point)\" data-toc-modified-id=\"Task-5:-Simulated-annealing-(1-point)-2.5.1\"><span class=\"toc-item-num\">2.5.1&nbsp;&nbsp;</span>Task 5: Simulated annealing <font color=\"red\">(1 point)</font></a></span></li></ul></li></ul></li><li><span><a href=\"#Implementation\" data-toc-modified-id=\"Implementation-3\"><span class=\"toc-item-num\">3&nbsp;&nbsp;</span>Implementation</a></span><ul class=\"toc-item\"><li><span><a href=\"#Route-and-distance-matrix\" data-toc-modified-id=\"Route-and-distance-matrix-3.1\"><span class=\"toc-item-num\">3.1&nbsp;&nbsp;</span>Route and distance matrix</a></span></li><li><span><a href=\"#Brute-Force-Algorithm\" data-toc-modified-id=\"Brute-Force-Algorithm-3.2\"><span class=\"toc-item-num\">3.2&nbsp;&nbsp;</span>Brute-Force-Algorithm</a></span><ul class=\"toc-item\"><li><span><a href=\"#Task-6:-Brute-Force-Algorithm-(3-points)\" data-toc-modified-id=\"Task-6:-Brute-Force-Algorithm-(3-points)-3.2.1\"><span class=\"toc-item-num\">3.2.1&nbsp;&nbsp;</span>Task 6: Brute-Force-Algorithm <font color=\"red\">(3 points)</font></a></span></li></ul></li><li><span><a href=\"#Greedy-Algorithm\" data-toc-modified-id=\"Greedy-Algorithm-3.3\"><span class=\"toc-item-num\">3.3&nbsp;&nbsp;</span>Greedy-Algorithm</a></span><ul class=\"toc-item\"><li><span><a href=\"#Task-7:-Greedy-Algorithm-(3-points)\" data-toc-modified-id=\"Task-7:-Greedy-Algorithm-(3-points)-3.3.1\"><span class=\"toc-item-num\">3.3.1&nbsp;&nbsp;</span>Task 7: Greedy-Algorithm <font color=\"red\">(3 points)</font></a></span></li></ul></li><li><span><a href=\"#2-Opt-Algorithm\" data-toc-modified-id=\"2-Opt-Algorithm-3.4\"><span class=\"toc-item-num\">3.4&nbsp;&nbsp;</span>2-Opt-Algorithm</a></span><ul class=\"toc-item\"><li><span><a href=\"#Task-8:-Swap-edge-(2-points)\" data-toc-modified-id=\"Task-8:-Swap-edge-(2-points)-3.4.1\"><span class=\"toc-item-num\">3.4.1&nbsp;&nbsp;</span>Task 8: Swap edge <font color=\"red\">(2 points)</font></a></span></li><li><span><a href=\"#Task-9:-Steepest-descent-(2-points)\" data-toc-modified-id=\"Task-9:-Steepest-descent-(2-points)-3.4.2\"><span class=\"toc-item-num\">3.4.2&nbsp;&nbsp;</span>Task 9: Steepest descent <font color=\"red\">(2 points)</font></a></span></li></ul></li><li><span><a href=\"#Simulated-annealing\" data-toc-modified-id=\"Simulated-annealing-3.5\"><span class=\"toc-item-num\">3.5&nbsp;&nbsp;</span>Simulated annealing</a></span><ul class=\"toc-item\"><li><span><a href=\"#Task-10:-Simulated-annealing-(2-points)\" data-toc-modified-id=\"Task-10:-Simulated-annealing-(2-points)-3.5.1\"><span class=\"toc-item-num\">3.5.1&nbsp;&nbsp;</span>Task 10: Simulated annealing <font color=\"red\">(2 points)</font></a></span></li></ul></li></ul></li><li><span><a href=\"#Visualization\" data-toc-modified-id=\"Visualization-4\"><span class=\"toc-item-num\">4&nbsp;&nbsp;</span>Visualization</a></span></li><li><span><a href=\"#Evaluation\" data-toc-modified-id=\"Evaluation-5\"><span class=\"toc-item-num\">5&nbsp;&nbsp;</span>Evaluation</a></span></li><li><span><a href=\"#Embedding\" data-toc-modified-id=\"Embedding-6\"><span class=\"toc-item-num\">6&nbsp;&nbsp;</span>Embedding</a></span><ul class=\"toc-item\"><li><ul class=\"toc-item\"><li><span><a href=\"#Task-11:-Distance-on-sphere-(2-points)\" data-toc-modified-id=\"Task-11:-Distance-on-sphere-(2-points)-6.0.1\"><span class=\"toc-item-num\">6.0.1&nbsp;&nbsp;</span>Task 11: Distance on sphere <font color=\"red\">(2 points)</font></a></span></li></ul></li></ul></li><li><span><a href=\"#Literature\" data-toc-modified-id=\"Literature-7\"><span class=\"toc-item-num\">7&nbsp;&nbsp;</span>Literature</a></span></li></ul></div>"
   ]
  },
  {
   "cell_type": "markdown",
   "metadata": {},
   "source": [
    "<div class=\"alert alert-block alert-danger\">\n",
    "\n",
    "<b>Group: ?</b>\n",
    "- ???\n",
    "- ???\n",
    "- ???\n",
    "- ???\n",
    "\n",
    "<b>Result:</b>\n",
    "    \n",
    "| Task   |  1  |  2  |  3  |  4  |  5  |  6  |  7  |  8  |  9  |  10 |  11 |  Sum  |\n",
    "|--------|-----|-----|-----|-----|-----|-----|-----|-----|-----|-----|-----|--------\n",
    "| Points | ?/1 | ?/2 | ?/1 | ?/1 | ?/1 | ?/3 | ?/3 | ?/2 | ?/2 | ?/2 | ?/2 | ??/20 |  \n",
    "\n",
    "    \n",
    "</div>"
   ]
  },
  {
   "cell_type": "markdown",
   "metadata": {},
   "source": [
    "# Modelling\n",
    "The traveling salesman problem (TSP) consists of determining an optimal route for a round trip through several cities.\n",
    "At first glance, it does not seem very difficult to find a solution to that problem.\n",
    "There is only a finite number of different round trips that we can try out one after the other.\n",
    "So we can identify the optimal route by comparing all possible routes.\n",
    "However, the number of all possible routes is already very high for a small number of cities.\n",
    "Not even the most powerful supercomputers are capable of trying all possible round trips.\n",
    "\n",
    "Various practical problems can be traced back to the problem of the traveling salesman.\n",
    "For example, the optimal control of a drilling tool when creating printed circuit boards.\n",
    "In this example, the cities correspond to the holes to be drilled in the board.\n",
    "The term city is therefore not to be taken literally.\n",
    "\n",
    "A journey can be optimal under different aspects, shortest way, fastest connection, lowest cost, etc.\n",
    "For all these aspects we use the term distance.\n",
    "This term should not be taken literally either.\n",
    "For example, the distance between two cities for a low-cost trip corresponds to the cost for traveling from one city to the other.\n",
    "\n",
    "We call the sum of all distances the length of the route.\n",
    "We look for the global minimum length among all possible routes."
   ]
  },
  {
   "cell_type": "code",
   "execution_count": 1,
   "metadata": {},
   "outputs": [],
   "source": [
    "# embedding visualisations\n",
    "from IPython.display import IFrame\n",
    "from IPython.display import YouTubeVideo\n",
    "\n",
    "# numerical treatment\n",
    "import math\n",
    "import numpy as np\n",
    "from numpy import sin, cos, arccos, deg2rad\n",
    "\n",
    "# combinatorics\n",
    "from itertools import permutations\n",
    "\n",
    "# timing \n",
    "import time\n",
    "\n",
    "# generator duplication\n",
    "from itertools import tee\n",
    "\n",
    "# random experiments\n",
    "import random\n",
    "\n",
    "# type hinting\n",
    "from typing import List, Tuple, Any, Callable\n",
    "\n",
    "# MatPlotLib\n",
    "%matplotlib inline\n",
    "import matplotlib.pyplot as plt"
   ]
  },
  {
   "cell_type": "code",
   "execution_count": 2,
   "metadata": {},
   "outputs": [],
   "source": [
    "# type declarations\n",
    "DistanceMatrix = np.ndarray\n",
    "Route = np.ndarray\n",
    "Positions = np.ndarray\n",
    "Vector = np.ndarray"
   ]
  },
  {
   "cell_type": "code",
   "execution_count": 3,
   "metadata": {
    "scrolled": true
   },
   "outputs": [
    {
     "output_type": "execute_result",
     "data": {
      "text/plain": [
       "<IPython.lib.display.YouTubeVideo at 0x2a1e43ce1c8>"
      ],
      "text/html": "\n        <iframe\n            width=\"400\"\n            height=\"300\"\n            src=\"https://www.youtube.com/embed/SC5CX8drAtU\"\n            frameborder=\"0\"\n            allowfullscreen\n        ></iframe>\n        ",
      "image/jpeg": "[encoded data removed]"
     },
     "metadata": {},
     "execution_count": 3
    }
   ],
   "source": [
    "# Showing YouTube Videos with YouTubeVideo\n",
    "YouTubeVideo('SC5CX8drAtU')"
   ]
  },
  {
   "cell_type": "markdown",
   "metadata": {},
   "source": [
    "# Numerical treatment\n",
    "Mathematically speaking, we have to solve an optimization problem.\n",
    "More precisely, a discrete optimization problem, since there is only a finite number of different round trips."
   ]
  },
  {
   "cell_type": "markdown",
   "metadata": {},
   "source": [
    "## Route and distance matrix\n",
    "We assign a unique index between $0$ and $n-1$ to each city.\n",
    "Here $n$ denotes the number of cities.\n",
    "A route is represented by any permutation of the numbers from $0$ to $n-1$.\n",
    "\n",
    "<div class=\"alert alert-block alert-warning\">\n",
    "    \n",
    "<b>Example</b>\n",
    "\n",
    "The route through $5$ cities, which starts in the city with index $2$, then leads through the cities with the indices $4$, $0$, $1$ and $3$ back to the city with index $2$, is represented by the permutation:\n",
    "\n",
    "$$\n",
    "P_2 \\longrightarrow\n",
    "P_4 \\longrightarrow\n",
    "P_0 \\longrightarrow\n",
    "P_1 \\longrightarrow\n",
    "P_3 \\longrightarrow\n",
    "P_2 \\mbox{ : }\n",
    "\\quad \\quad \\quad\n",
    "[ \\, 2 \\quad 4 \\quad 0 \\quad 1 \\quad 3 \\, ].\n",
    "$$\n",
    "</div>\n",
    "\n",
    "Since the first and the last city are equal, we do not use the index of the first city twice.\n",
    "The TSP now consists of finding a permutation, so that the length of the route is as short as possible.\n",
    "\n",
    "A TSP can be described by a distance matrix.\n",
    "The distance between the city with index $i$ and the city with index $j$ is stored in the $i$-th row and $j$-th column of the distance matrix $\\mbox{dist}$:\n",
    "\n",
    "$$\n",
    "\t\\mbox{dist}_{i,j} = \\mbox{distance betwenn city with index $i$ and city with index $j$}, \\quad i,j = 0,1,2, \\ldots, n-1.\n",
    "$$\n",
    "\n",
    "All elements on the diagonal of the matrix are zero. \n",
    "For many problems the distance matrix is symmetrical, but there are also problems where the distance matrix is not symmetrical.\n",
    "For example, the costs for the outward and return journey between two cities may be different.\n",
    "\n",
    "<div class=\"alert alert-block alert-warning\">\n",
    "    \n",
    "<b>Example (10 cities in Germany)</b>\n",
    "\n",
    "Let's consider a practical example.\n",
    "The following matrix contains the distances between $10$ different cities:\n",
    "\n",
    " $$\n",
    " \\begin{array}{l|ccccccccc}\n",
    " & \\mbox{Berlin}\n",
    " & \\mbox{Esslingen} \n",
    " & \\mbox{Frankfurt}\n",
    " & \\mbox{Goettingen}\n",
    " & \\mbox{Hamburg} \n",
    " & \\mbox{Kiel}\n",
    " & \\mbox{Koeln}\n",
    " & \\mbox{Leipzig}\n",
    " & \\mbox{Muenchen}\n",
    " & \\mbox{Nuernberg} \\\\\n",
    "\\hline\n",
    "\\mbox{Berlin}     &   0 & 510 & 424 & 262 & 256 & 295 & 478 & 150 & 505 & 378\\\\  \n",
    "\\mbox{Esslingen}  & 510 &   0 & 161 & 313 & 537 & 623 & 296 & 362 & 180 & 151\\\\ \n",
    "\\mbox{Frankfurt}  & 424 & 161 &   0 & 180 & 391 & 477 & 150 & 293 & 307 & 189\\\\\n",
    "\\mbox{Goettingen} & 262 & 313 & 180 &   0 & 225 & 310 & 217 & 170 & 395 & 245\\\\\n",
    "\\mbox{Hamburg}    & 256 & 537 & 391 & 225 &   0 &  86 & 356 & 294 & 612 & 462\\\\ \n",
    "\\mbox{Kiel}       & 295 & 623 & 477 & 310 &  86 &   0 & 433 & 364 & 695 & 545\\\\\n",
    "\\mbox{Koeln}      & 478 & 296 & 150 & 217 & 356 & 433 &   0 & 380 & 456 & 336\\\\\n",
    "\\mbox{Leipzig}    & 150 & 362 & 293 & 170 & 294 & 364 & 380 &   0 & 361 & 229\\\\\n",
    "\\mbox{Muenchen}   & 505 & 180 & 307 & 395 & 612 & 695 & 456 & 361 &   0 & 151\\\\\n",
    "\\mbox{Nuernberg}  & 378 & 151 & 189 & 245 & 462 & 545 & 336 & 229 & 151 &   0\\\\              \n",
    "\\end{array}\n",
    "\\label{distancematrix}\\tag{1}\n",
    "$$\n",
    "\n",
    "The distances were determined using the distance calculation tool on https://www.luftlinie.org/.\n",
    "The specifications are in km and correspond to the direct distances as the crow flies.\n",
    "</div>"
   ]
  },
  {
   "cell_type": "markdown",
   "metadata": {},
   "source": [
    "### Task 1: Route and distance matrix <font color=red>(1 point)</font>\n",
    "Enter the distance matrix in Python with data type `np.uint16`. \n",
    "Use it to calculate the length of the route that visits the cities in alphabetical order."
   ]
  },
  {
   "cell_type": "markdown",
   "metadata": {},
   "source": [
    "<div class=\"alert alert-block alert-success\">\n",
    "    \n",
    "<b>Solution of Task 1</b>\n",
    "<div>"
   ]
  },
  {
   "cell_type": "code",
   "execution_count": 4,
   "metadata": {},
   "outputs": [],
   "source": [
    "# distance matrix for the 10 cities\n",
    "dist = np.array([\n",
    "    [  0, 510, 424, 262, 256, 295, 478, 150, 505, 378],\n",
    "    [510,   0, 161, 313, 537, 632, 296, 362, 180, 151],\n",
    "    [424, 161,   0, 180, 391, 477, 150, 293, 307, 189],\n",
    "    [262, 313, 180,   0, 225, 310, 217, 170, 395, 245],\n",
    "    [256, 537, 391, 225,   0,  86, 356, 294, 612, 462],\n",
    "    [295, 623, 477, 310,  86,   0, 433, 364, 695, 545],\n",
    "    [478, 296, 150, 217, 356, 433,   0, 380, 456, 336],\n",
    "    [150, 362, 293, 170, 294, 364, 380,   0, 361, 229],\n",
    "    [505, 180, 307, 395, 612, 695, 456, 361,   0, 151],\n",
    "    [378, 151, 189, 245, 462, 545, 336, 229, 151,   0],\n",
    "], dtype=np.uint16)\n",
    "\n",
    "# lookup table for the indices\n",
    "indexDictionary = {\n",
    "        \"Berlin\" :      0, \n",
    "        \"Esslingen\" :   1, \n",
    "        \"Frankfurt\" :   2, \n",
    "        \"Göttingen\" :   3, \n",
    "        \"Hamburg\" :     4, \n",
    "        \"Kiel\" :        5, \n",
    "        \"Köln\" :        6, \n",
    "        \"Leipzig\" :     7, \n",
    "        \"München\" :     8, \n",
    "        \"Nürnberg\" :    9\n",
    "    }\n",
    "\n",
    "# lookup table for the names\n",
    "cityDictionary = list(indexDictionary.keys())"
   ]
  },
  {
   "cell_type": "code",
   "execution_count": 5,
   "metadata": {},
   "outputs": [
    {
     "output_type": "stream",
     "name": "stdout",
     "text": [
      "Route using for loop: 2865\nRoute using np diagonal: 2865\n"
     ]
    }
   ],
   "source": [
    "sum = 0\n",
    "n = len(dist)\n",
    "for i in range(n):\n",
    "    sum += dist[i, (i+1) % n]\n",
    "print(f\"Route using for loop: {sum}\")\n",
    "\n",
    "sum = np.sum(dist.diagonal(1)) + dist[0, -1]\n",
    "print(f\"Route using np diagonal: {sum}\")"
   ]
  },
  {
   "cell_type": "markdown",
   "metadata": {},
   "source": [
    "## Brute-Force-Algorithm\n",
    "An obvious approach is to solve the problem of the travelling salesman by trying out all possibilities.\n",
    "To do so, one sets any city as a starting point and considers all possible routes through all cities that start and end in this city.\n",
    "For each route we calculate the length and choose the shortest route.\n",
    "This strategy is called the brute force method."
   ]
  },
  {
   "cell_type": "markdown",
   "metadata": {},
   "source": [
    "## Task 2: Brute-Force-Algorithm <font color=red>(2 points)</font>\n",
    "Determine a formula for the number of elementary arithmetic operations ($+$, $-$, $*$, $/$, $>$, $<$, $\\ldots$) required to solve the problem of the traveling salesman with $n$ cities using the brute force algorithm.\n",
    "How long would it take on your computer to calculate an optimal route through $n=10$ cities using the brute force algorithm?\n",
    "How long would it take to calculate an optimal route through $n=30$ cities using the brute force algorithm with the fastest computer available?"
   ]
  },
  {
   "cell_type": "markdown",
   "metadata": {},
   "source": [
    "## Solution of Task 2\n",
    "\n",
    "We consider every possible permutation without repetition on the cities, thus we end up with the complexity of:\n",
    "$$ \\mathcal{O}(n!) $$\n",
    "\n",
    "According to this [Wikipedia article](https://de.wikipedia.org/wiki/Fugaku_(Supercomputer)) the Fugaku supercomputer cluster is currently the fastest one available at 537 PFLOPS.\n",
    "\n",
    "The theoretical execution time is calculated as:\n",
    "$$ t_{exec} = \\frac{ \\textrm{n}_{ops} }{ \\textrm{performance} } = \\frac{ 30! }{ 5.37\\textrm{e}17 } = 4.93\\textrm{e}14s = 1.56\\textrm{e}7 $$"
   ]
  },
  {
   "cell_type": "markdown",
   "metadata": {},
   "source": [
    "## Greedy-Algorithm\n",
    "In the so-called greedy algorithm, you specify an arbitrary city as the starting point and then select the city with the shortest distance to the first city as the second city.\n",
    "Of all remaining cities, the third city is chosen as the one that has the shortest distance to the second city.\n",
    "This procedure is continued until all cities have been visited."
   ]
  },
  {
   "cell_type": "code",
   "execution_count": 6,
   "metadata": {},
   "outputs": [
    {
     "output_type": "execute_result",
     "data": {
      "text/plain": [
       "<IPython.lib.display.IFrame at 0x2a1e64836c8>"
      ],
      "text/html": "\n        <iframe\n            width=\"800\"\n            height=\"600\"\n            src=\"https://www.dropbox.com/s/1qstjvhpnmh3ycr/tsp_greedy_figure.jpg?raw=1\"\n            frameborder=\"0\"\n            allowfullscreen\n        ></iframe>\n        "
     },
     "metadata": {},
     "execution_count": 6
    }
   ],
   "source": [
    "# Showing images with IFrame\n",
    "IFrame('https://www.dropbox.com/s/1qstjvhpnmh3ycr/tsp_greedy_figure.jpg?raw=1', width=800, height=600)"
   ]
  },
  {
   "cell_type": "markdown",
   "metadata": {},
   "source": [
    "<div class=\"alert alert-block alert-warning\">\n",
    "\n",
    "<b>Example</b>\n",
    "    \n",
    "In the figure above Aachen was chosen as the starting point of the route.\n",
    "The city closest to Aachen is Koeln, then the route leads to Essen.\n",
    "You can see that the route from Hamburg via Luebeck and Kiel to Hof is not optimal.\n",
    "This route contains edges that intersect.\n",
    "The route from first Hamburg to Kiel, and then via Lübeck to Hof, is shorter.\n",
    "More intersecting edges are found when you complete the route from Wuerzburg to Aachen.\n",
    "</div>\n",
    "\n",
    "This method is called greedy, because it greedily rushes to the nearest city.\n",
    "The greedy algorithm tries to find the shortest route by determining step by step the shortest route to the next city.\n",
    "\n",
    "In mathematical terms, this means finding a global minimum by gradually determining the local minimum.\n",
    "However, as the example shows, the greedy algorithm usually does not provide the optimal solution to the problem."
   ]
  },
  {
   "cell_type": "markdown",
   "metadata": {},
   "source": [
    "### Task 3: Greedy-Algorithm <font color=red>(1 point)</font>\n",
    "Determine a route starting in Esslingen with the Greedy-Algorithm for the distance matrix ([1](#mjx-eqn-distancematrix)).\n",
    "How long is this route?\n"
   ]
  },
  {
   "cell_type": "markdown",
   "metadata": {},
   "source": [
    "\n",
    "\n",
    "\n",
    "\n",
    "\n",
    "\n",
    "\n",
    "\n",
    "\n",
    "\n",
    "\n",
    "\n",
    "\n",
    "<div class=\"alert alert-block alert-success\">\n",
    "    \n",
    "<b>Solution of Task 3</b>\n",
    "\n",
    "Esslingen -> Nürnberg -> München -> Frankfurt -> Köln -> Göttingen -> Leipzig -> Berlin -> Hamburg -> Kiel -> Esslingen\n",
    "\n",
    "Length = 2261\n",
    "\n",
    "</div>"
   ]
  },
  {
   "cell_type": "markdown",
   "metadata": {},
   "source": [
    "## 2-Opt-Algorithm\n",
    "The 2-opt-algorithm is a special case of a continuous improvement strategy.\n",
    "\n",
    "<b>Continuous improvement</b>\n",
    "\n",
    "Continuous improvement means that we start with an arbitrary route and try to modify this route in order to find a shorter route.\n",
    "Then we modify this shorter route in a similar way in order to find an even shorter route.\n",
    "We continue this process until no shorter route is found.\n",
    "Thus we generate a sequence of routes whose length decreases in a strictly monotonous manner.\n",
    "\n",
    "<b>Edge swap</b>\n",
    "\n",
    "As we have already seen, routes with intersecting edges are not optimal.\n",
    "This observation forms the basis for the so-called 2-Opt-Algorithm.\n",
    "The term 2-Opt is an abbreviation for the optimal exchange of two edges.\n",
    "To be more precisely, a pair of edges is replaced by another pair of edges.\n",
    "\n",
    "We would like to address a frequently occurring misunderstanding here.\n",
    "The 2-opt-algorithm does not explicitly search for edges that intersect.\n",
    "The number of intersecting edges is indirectly reduced by the 2-Opt-Algorithm.\n",
    "The reduction is caused by the fact that routes with less intersection edges are usually shorter. \n",
    "\n",
    "Suppose we have a route where the points are run through in the natural order:\n",
    "\n",
    "$$\n",
    "P_0 \\longrightarrow\n",
    "P_1 \\longrightarrow\n",
    "\\ldots \\longrightarrow\n",
    "P_{i-1} \\longrightarrow\n",
    "P_i \\longrightarrow\n",
    "\\ldots \\longrightarrow\n",
    "P_j \\longrightarrow\n",
    "P_{j+1} \\longrightarrow\n",
    "\\ldots \\longrightarrow\n",
    "P_{n-2} \\longrightarrow\n",
    "P_{n-1} \\longrightarrow\n",
    "P_{0}\n",
    "$$"
   ]
  },
  {
   "cell_type": "code",
   "execution_count": 7,
   "metadata": {},
   "outputs": [
    {
     "output_type": "execute_result",
     "data": {
      "text/plain": [
       "<IPython.lib.display.IFrame at 0x2a1e64be808>"
      ],
      "text/html": "\n        <iframe\n            width=\"400\"\n            height=\"400\"\n            src=\"https://www.dropbox.com/s/bz3h41rcu9kzttp/tsp_swap_figure.jpg?raw=1\"\n            frameborder=\"0\"\n            allowfullscreen\n        ></iframe>\n        "
     },
     "metadata": {},
     "execution_count": 7
    }
   ],
   "source": [
    "IFrame('https://www.dropbox.com/s/bz3h41rcu9kzttp/tsp_swap_figure.jpg?raw=1', width=400, height=400)"
   ]
  },
  {
   "cell_type": "markdown",
   "metadata": {},
   "source": [
    "The figure above illustrates the exchange of the two edges\n",
    "$\\overline{P_{i-1}P_{i}}$\n",
    "and\n",
    "$\\overline{P_{j}P_{j+1}}$\n",
    "for the two edges\n",
    "$\\overline{P_{i-1}P_{j}}$\n",
    "and\n",
    "$\\overline{P_{i}P_{j+1}}$.\n",
    "\n",
    "For the indexing of the route, this means that the sequence: \n",
    "\n",
    "$$\n",
    "[ \\, 0 \\quad 1 \\quad \\ldots \\quad i-1 \\quad \n",
    "\\color{red}{\\mathbf{i \\quad i+1 \\quad \\ldots \\quad j-1 \\quad j}}\n",
    "\\quad j+1 \\quad \\ldots \\quad n-1 \\, ]\n",
    "$$\n",
    "\n",
    "will be transferred to the new sequence:\n",
    "\n",
    "$$\n",
    "[ \\, 0 \\quad 1 \\quad \\ldots \\quad i-1 \\quad\n",
    "\\color{red}{\\mathbf{j \\quad j-1 \\quad \\ldots \\quad i+1 \\quad i}}\n",
    "\\quad j+1 \\quad \\ldots \\quad n-1 \\, ] \\, .\n",
    "$$\n",
    "\n",
    "The indices from $i$ to $j$ are runing backwards in the new sequence.\n",
    "All other indices remain unchanged.\n",
    "Of course, the whole thing  only works if the index $j$ is larger than the index $i$.\n",
    "\n",
    "With the 2-Opt-algorithm we start with an arbitrary route and try to improve this route by swapping two edges.\n",
    "Then we try to improve this shorter route again by swapping two edges.\n",
    "This principle will be repeated until no improvement can be achieved by an edge swap.\n",
    "As soon as swapping two edges does no longer bring an advantage, the procedure is aborted.\n",
    "\n",
    "A distinction is made between two different strategies: first improvement and steepest descent."
   ]
  },
  {
   "cell_type": "markdown",
   "metadata": {},
   "source": [
    "<b>First improvement</b>\n",
    "\n",
    "First improvement works as follows.\n",
    "Suppose we have a route, where the points are run through in their natural order:\n",
    "\n",
    "$$\n",
    "P_0 \\longrightarrow\n",
    "P_1 \\longrightarrow\n",
    "\\ldots \\longrightarrow\n",
    "P_{i-1} \\longrightarrow\n",
    "P_i \\longrightarrow\n",
    "\\ldots \\longrightarrow\n",
    "P_j \\longrightarrow\n",
    "P_{j+1} \\longrightarrow\n",
    "\\ldots \\longrightarrow\n",
    "P_{n-2} \\longrightarrow\n",
    "P_{n-1} \\longrightarrow\n",
    "P_{0}\n",
    "$$\n",
    "\n",
    "Then we consider a new route where the edges\n",
    "$\\overline{P_{n-1}P_{0}}$\n",
    "and\n",
    "$\\overline{P_{1}P_{2}}$\n",
    "are swapped.\n",
    "In terms of indices, this means swap index $i=0$ with index $j=1$: \n",
    "\n",
    "$$\n",
    "[ \\, \\color{red}{\\mathbf{0 \\quad 1}} \\quad \\ldots \\quad n-2 \\quad n-1 \\, ]\n",
    "\\quad \\longrightarrow \\quad\n",
    "[ \\, \\color{red}{\\mathbf{1 \\quad 0}} \\quad \\ldots \\quad n-2 \\quad n-1 \\, ]\n",
    "$$\n",
    "\n",
    "If the new route with the swapped edges is shorter, then we choose this improved route and we start again with continous improvement.\n",
    "\n",
    "If the new route with the swapped edges is not shorter, then we consider a new route where the edges\n",
    "$\\overline{P_{n-1}P_{0}}$\n",
    "and\n",
    "$\\overline{P_{2}P_{3}}$\n",
    "are swapped.\n",
    "In terms of indices this means a swap with index $i=0$ and with index $j=2$: \n",
    "\n",
    "$$\n",
    "[ \\, \\color{red}{\\mathbf{0 \\quad 1 \\quad 2}} \\quad \\ldots \\quad n-2 \\quad n-1 \\, ]\n",
    "\\quad \\longrightarrow \\quad\n",
    "[ \\, \\color{red}{\\mathbf{2 \\quad 1 \\quad 0}} \\quad \\ldots \\quad n-2 \\quad n-1 \\, ]\n",
    "$$\n",
    "\n",
    "We continue in this way, until we have tried all pair combinations of edges. \n",
    "The last possibility is to consider a new route where the edges\n",
    "$\\overline{P_{n-3}P_{n-2}}$\n",
    "and\n",
    "$\\overline{P_{n-1}P_{0}}$\n",
    "are swapped.\n",
    "In terms of indices this means a swap with index $i=n-2$ and with index $j=n-1$: \n",
    "\n",
    "$$\n",
    "[ \\, 0 \\quad 1 \\quad \\ldots \\quad \\color{red}{\\mathbf{n-2 \\quad n-1}} \\, ]\n",
    "\\quad \\longrightarrow \\quad\n",
    "[ \\, 0 \\quad 1 \\quad \\ldots \\quad \\color{red}{\\mathbf{n-1 \\quad n-2}} \\, ]\n",
    "$$\n",
    "\n",
    "If the last swap does not result in a shorter route either, then no improvement can be achieved in this way and we stop the procedure."
   ]
  },
  {
   "cell_type": "markdown",
   "metadata": {},
   "source": [
    "<b>Steepest descent</b>\n",
    "\n",
    "The first improvement strategy accepts the first edge swap that results in a shorter route.\n",
    "In contrast, the steepest descent strategie considers all possible edge swaps and selects the shortest route from all possibilities.\n",
    "This means that the effort for each route is higher, but the improvement may be greater."
   ]
  },
  {
   "cell_type": "markdown",
   "metadata": {},
   "source": [
    "\n",
    "    \n",
    "## Task 4: Steepest descent <font color=red>(1 point)</font></b>\n",
    "How many edge swaps are to be considered per route for a TSP with $n$ cities using steepest descent?\n"
   ]
  },
  {
   "cell_type": "markdown",
   "metadata": {},
   "source": [
    "### Solution of Task 4\n",
    "For each swap we draw a pair of indices out of n edges, thus we have a combination with selection size 2.\n",
    "\n",
    "\n",
    "The amount of swaps can be calculated as:\n",
    "$$ \\textrm{swaps}(n) = \\binom{n}{2} = \\frac{n!}{(n-2)!2!} = \\frac{n*(n-1)}{2} $$\n",
    "\n",
    "\n",
    "We can arrive at the same conclusion by summation of the possible steps after each iteration:\n",
    "$$ \\textrm{swaps}(n) = \\sum_{k=1}^{n-1}{k} $$\n",
    "First, we change the indices of the sum and seperate it\n",
    "$$ = \\sum_{k=0}^{n-2}{k+1} = \\sum_{k=0}^{n-2}{k} + \\sum_{k=0}^{n-2}{1}  $$\n",
    "Now we apply the Gauss-Sum as well as Summation over constants\n",
    "$$ = \\frac{(n-2)(n-1)}{2} + (n-2+1)*1 = \\frac{(n-2)(n-1)+2(n-1)}{2} $$\n",
    "After refactoring we finally end up with\n",
    "$$ = \\frac{(n-2+2)(n-1)}{2} = \\frac{n*(n-1)}{2} $$"
   ]
  },
  {
   "cell_type": "markdown",
   "metadata": {},
   "source": [
    "## Simulated annealing\n",
    "With the principle of continuous improvement, it can happen that the process gets stuck in a local minimum.\n",
    "In the illustration below, the blue dot belongs to the arbitrarily chosen starting route.\n",
    "The red dots mark local minima.\n",
    "In order to reach the global minimum in the green dot, longer routes must be accepted in the meantime."
   ]
  },
  {
   "cell_type": "code",
   "execution_count": 8,
   "metadata": {},
   "outputs": [
    {
     "output_type": "execute_result",
     "data": {
      "text/plain": [
       "<IPython.lib.display.IFrame at 0x2a1e64befc8>"
      ],
      "text/html": "\n        <iframe\n            width=\"300\"\n            height=\"300\"\n            src=\"https://c.mql5.com/2/30/pic1__1.png?raw=1\"\n            frameborder=\"0\"\n            allowfullscreen\n        ></iframe>\n        "
     },
     "metadata": {},
     "execution_count": 8
    }
   ],
   "source": [
    "IFrame('https://c.mql5.com/2/30/pic1__1.png?raw=1', width=300, height=300)"
   ]
  },
  {
   "cell_type": "markdown",
   "metadata": {},
   "source": [
    "Source: https://www.mql5.com/en/articles/4150\n",
    "\n",
    "Simulated Annealing is a method that is able to overcome local minima.\n",
    "This method is based on the cooling process of glowing metal.\n",
    "Starting from an arbitrary route, an alternative route is determined at random.\n",
    "Following the 2-Opt-Algorithm, an alternative route is determined by performing an edge swap on the previous route. \n",
    "The edges that are swapped are determined randomly.\n",
    "The length of the previous route is then compared with the length of the alternative route.\n",
    "If the alternative route is shorter, the next step is to perform a random edge swap based on the alternative route.\n",
    "In contrast to continuous improvement, Simulated Annealing also accepts longer alternative routes.\n",
    "The acceptance of longer routes is based on a random principle, whereby the probability depends on various parameters.\n",
    "\n",
    "The most important parameter is the temperature $T$ of the cooling process.\n",
    "This parameter starts with the value $T_{\\mbox{high}}$ and decreases by a cooling rate $\\beta \\in (0,1)$:\n",
    "\n",
    "$$\n",
    "\tT_{\\mbox{high}} \\to T_{\\mbox{high}} \\cdot \\beta \\to T_{\\mbox{high}} \\cdot \\beta^2 \\to T_{\\mbox{high}} \\cdot \\beta^3 \\to \\ldots \\to T_{\\mbox{low}}.  \n",
    "$$\n",
    "\n",
    "Since the cooling rate $\\beta$ has a value in the range between $0$ and $1$, the temperature decreases step by step.\n",
    "The process is terminated as soon as the temperature falls below a final temperature $T_{\\mbox{low}}$.\n",
    "\n",
    "The probability of accepting a longer alternative route depends on various factors.\n",
    "With decreasing temperature $T$ the probability of accepting a longer alternative route decreases.\n",
    "If the length $l_1$ of the alternative route is significantly longer than the length $l_0$ of the original route, then the probability for the acceptance of a longer alternative route is low.\n",
    "Both aspects can be realized by a formula for the probability $p$ of acceptance of the alternative route:\n",
    "\n",
    "$$\n",
    "\tp = \n",
    "\t\\left\\{\n",
    "\t\t\\begin{array}{cl}\n",
    "\t\t\t\\mathrm{e}^{-\\frac{l_1 - l_0}{T}} & \\mbox{for } l_1 \\geq l_0,\\\\[1ex]\n",
    "\t\t\t\t1                               & \\mbox{for } l_1 < l_0.\n",
    "\t\t\\end{array}\n",
    "\t\\right.\n",
    "$$\n",
    "\n",
    "An alternative route with a shorter length than the original route has the acceptance probability $p=1$.\n",
    "This means that shorter alternative routes are always accepted regardless of the temperature $T$. \n",
    "\n",
    "The decision whether to replace the original route with the alternative route is made using a pseudo-random number $z$.\n",
    "Pseudo-random number means that the number $z$ is calculated by an algorithm that provides equally distributed values in the interval $[0,1]$.\n",
    "\n",
    "If the condition\n",
    "\n",
    "$$\n",
    "z \\leq p\n",
    "$$\n",
    "\n",
    "is fulfilled, the procedure is continued with the alternative route.\n",
    "Otherwise, the procedure is continued with the original route."
   ]
  },
  {
   "cell_type": "markdown",
   "metadata": {},
   "source": [
    "### Task 5: Simulated annealing <font color=red>(1 point)</font>\n",
    "Derive a formula for the number $n$ of temperature steps depending on $T_{\\mbox{high}}$, $T_{\\mbox{low}}$ and $\\beta$."
   ]
  },
  {
   "cell_type": "markdown",
   "metadata": {},
   "source": [
    "### Solution of Task 5\n",
    "$$ T_{high} * \\beta^n = T_{low} \\quad \\Leftrightarrow \\quad n = \\bigg\\lceil { \\frac{ \\ln { \\left( \\frac {T_{low}} {T_{high}} \\right) } } { \\ln {\\beta} }}  \\bigg\\rceil$$\n"
   ]
  },
  {
   "cell_type": "markdown",
   "metadata": {},
   "source": [
    "# Implementation\n",
    "Our goal is to implement the different algorithms and test them with different examples."
   ]
  },
  {
   "cell_type": "markdown",
   "metadata": {},
   "source": [
    "## Route and distance matrix\n",
    "First, we implement a function that calculates the length of a route."
   ]
  },
  {
   "cell_type": "code",
   "execution_count": 9,
   "metadata": {},
   "outputs": [],
   "source": [
    "def tspLength(dist: DistanceMatrix, route: Route) -> float:\n",
    "    \"\"\" Returns the length of a route \"\"\"\n",
    "    length = 0\n",
    "    j = route[-1]\n",
    "    for k in route:\n",
    "        length += dist[j][k]\n",
    "        j = k\n",
    "    return length"
   ]
  },
  {
   "cell_type": "markdown",
   "metadata": {},
   "source": [
    "Testing the function `tspLength()` with the example of 10 cities in Germany:"
   ]
  },
  {
   "cell_type": "code",
   "execution_count": 10,
   "metadata": {
    "scrolled": true
   },
   "outputs": [
    {
     "output_type": "stream",
     "name": "stdout",
     "text": [
      "l =  2865\n"
     ]
    }
   ],
   "source": [
    "route = range(0,10)\n",
    "l = tspLength(dist,route)\n",
    "print('l = ', l)"
   ]
  },
  {
   "cell_type": "markdown",
   "metadata": {},
   "source": [
    "## Brute-Force-Algorithm\n",
    "The biggest challenge to implement the brute-force algorithm, is to generate all possible permutations.\n",
    "Thank God, there is already a solution for this in Python."
   ]
  },
  {
   "cell_type": "code",
   "execution_count": 11,
   "metadata": {},
   "outputs": [
    {
     "output_type": "stream",
     "name": "stdout",
     "text": [
      "(0, 1, 2, 3)\n",
      "(0, 1, 3, 2)\n",
      "(0, 2, 1, 3)\n",
      "(0, 2, 3, 1)\n",
      "(0, 3, 1, 2)\n",
      "(0, 3, 2, 1)\n",
      "(1, 0, 2, 3)\n",
      "(1, 0, 3, 2)\n",
      "(1, 2, 0, 3)\n",
      "(1, 2, 3, 0)\n",
      "(1, 3, 0, 2)\n",
      "(1, 3, 2, 0)\n",
      "(2, 0, 1, 3)\n",
      "(2, 0, 3, 1)\n",
      "(2, 1, 0, 3)\n",
      "(2, 1, 3, 0)\n",
      "(2, 3, 0, 1)\n",
      "(2, 3, 1, 0)\n",
      "(3, 0, 1, 2)\n",
      "(3, 0, 2, 1)\n",
      "(3, 1, 0, 2)\n",
      "(3, 1, 2, 0)\n",
      "(3, 2, 0, 1)\n",
      "(3, 2, 1, 0)\n"
     ]
    }
   ],
   "source": [
    "for perm in permutations(range(4)):\n",
    "    print(perm)"
   ]
  },
  {
   "cell_type": "markdown",
   "metadata": {},
   "source": [
    "However, we should note that we do not need to change the first index of the permutations.\n",
    "We can put the starting point of the route on the same city for all permutations.\n",
    "Therefore we get a significant improvement of the runtime."
   ]
  },
  {
   "cell_type": "code",
   "execution_count": 12,
   "metadata": {},
   "outputs": [
    {
     "output_type": "stream",
     "name": "stdout",
     "text": [
      "[0, 1, 2, 3]\n[0, 1, 3, 2]\n[0, 2, 1, 3]\n[0, 2, 3, 1]\n[0, 3, 1, 2]\n[0, 3, 2, 1]\n"
     ]
    }
   ],
   "source": [
    "for perm in permutations(range(1,4)):\n",
    "    print([0, *perm])"
   ]
  },
  {
   "cell_type": "markdown",
   "metadata": {},
   "source": [
    "### Task 6: Brute-Force-Algorithm <font color=red>(3 points)</font>\n",
    "\n",
    "Implement the function `tspBruteForce()`.\n",
    "Test it with the example of 10 cities in Germany.\n",
    "Compare the experimentally measured runtime with the theoretical result from task 2."
   ]
  },
  {
   "cell_type": "markdown",
   "metadata": {},
   "source": [
    "<div class=\"alert alert-block alert-success\">\n",
    "    \n",
    "<b>Solution of task 6 </b>\n",
    "    \n",
    "Implementation of function `tspBruteForce()`:\n",
    "</div>"
   ]
  },
  {
   "cell_type": "code",
   "execution_count": 14,
   "metadata": {},
   "outputs": [],
   "source": [
    "# def tspBruteForce(dist: DistanceMatrix) -> Route:\n",
    "#     possibilities = [ x for x in permutations(range(len(dist))) ]\n",
    "#     i = 0\n",
    "#     min_i = i\n",
    "#     min_dist = np.iinfo(dist.dtype).max\n",
    "#     for distance in (tspLength(dist, p) for p in possibilities):\n",
    "#         if distance < min_dist:\n",
    "#             min_i = i\n",
    "#             min_dist = distance\n",
    "#         i += 1\n",
    "#     return possibilities[min_i]"
   ]
  },
  {
   "cell_type": "code",
   "execution_count": 15,
   "metadata": {},
   "outputs": [],
   "source": [
    "def tspMemoryBruteForce(dist: DistanceMatrix) -> Route:\n",
    "    \"\"\" Brute forces through all permutations to find the shortest route \"\"\"\n",
    "\n",
    "    # we store all permutations and their distances in memory to showcase\n",
    "    # that tsp can cause equally bad space complexity as time complexity\n",
    "    possibilities = [ x for x in permutations(range(len(dist))) ]\n",
    "    distances = [tspLength(dist, p) for p in possibilities]\n",
    "    i = distances.index(min(distances))\n",
    "    return possibilities[i]"
   ]
  },
  {
   "cell_type": "code",
   "execution_count": 16,
   "metadata": {},
   "outputs": [],
   "source": [
    "def tspBruteForce(dist: DistanceMatrix) -> Route:\n",
    "    number_of_cities, _ = dist.shape\n",
    "    route = list(range(0, number_of_cities))\n",
    "    min_distance = tspLength(dist, route)\n",
    "    for perm in permutations(range(number_of_cities)):\n",
    "        if tspLength(dist, perm) < min_distance:\n",
    "            route = perm\n",
    "            min_distance = tspLength(dist, route)\n",
    "    return route"
   ]
  },
  {
   "cell_type": "markdown",
   "metadata": {},
   "source": [
    "<div class=\"alert alert-block alert-success\">\n",
    "    \n",
    "Testing of function `tspBruteForce()` with the example of 10 cities in Germany and comparison of the experimentally measured runtime with the theoretical result from task 2:\n",
    "</div>"
   ]
  },
  {
   "cell_type": "code",
   "execution_count": 17,
   "metadata": {},
   "outputs": [],
   "source": [
    "def algo_timer(algo: Callable[[Any], Route],  trials: int, verbose: bool, *args: Any) -> Tuple[Any, float]:\n",
    "    \"\"\" Timer for a generic function \"\"\"\n",
    "    \n",
    "    total_time = 0\n",
    "\n",
    "    for i in range(trials):\n",
    "        time1=time.time()\n",
    "        result = algo(*args)\n",
    "        time2 = time.time()\n",
    "\n",
    "        current_time = time2-time1\n",
    "        total_time += current_time\n",
    "        if verbose: print(f\"finished {i+1}'th iteration in {current_time}s\")\n",
    "    \n",
    "    extime = total_time/trials\n",
    "    print(f\"result = {result}\")\n",
    "    print(f\"avg. execution time: {extime}s\")\n",
    "    return result, extime"
   ]
  },
  {
   "cell_type": "code",
   "execution_count": 18,
   "metadata": {},
   "outputs": [
    {
     "output_type": "stream",
     "name": "stdout",
     "text": [
      "finished 1'th iteration in 29.844138145446777s\nresult = (0, 5, 4, 3, 6, 2, 1, 8, 9, 7)\navg. execution time: 29.844138145446777s\n"
     ]
    }
   ],
   "source": [
    "res, avg_time = algo_timer(tspMemoryBruteForce, 1, True, dist)"
   ]
  },
  {
   "cell_type": "code",
   "execution_count": 19,
   "metadata": {},
   "outputs": [
    {
     "output_type": "stream",
     "name": "stdout",
     "text": [
      "finished 1'th iteration in 28.107994079589844s\nresult = (0, 5, 4, 3, 6, 2, 1, 8, 9, 7)\navg. execution time: 28.107994079589844s\n"
     ]
    }
   ],
   "source": [
    "res, avg_time = algo_timer(tspBruteForce, 1, True, dist)"
   ]
  },
  {
   "cell_type": "markdown",
   "metadata": {},
   "source": [
    "## Greedy-Algorithm\n",
    "The greedy algorithm is based on determining the shortest distance in the distance matrix.\n",
    "Python already offers an elegant solution for this.\n",
    "The function `np.argmin()` determines the index of the smallest value.\n",
    "\n",
    "However, this function would always determine the value zero in the diagonal of the matrix as the smallest value.\n",
    "We can solve this problem by overwriting the elements in the diagonal with the maximum numerical value.\n",
    "The maximum numeric value depends on the data type of the matrix elements and can be determined with the function `np.iinfo().max`.\n",
    "\n",
    "After a city has been indexed as a city with the smallest distance, we have to make sure that it will not be visited again later.\n",
    "Again, we use the same trick as with the diagonal elements and overwrite the values with the maximum numerical value. \n",
    "\n",
    "To be able to use the distance matrix again later, we use a copy of the matrix.\n",
    "The first two steps of the greedy algorithm for the example with the 10 cities in Germany look like this:"
   ]
  },
  {
   "cell_type": "code",
   "execution_count": 20,
   "metadata": {},
   "outputs": [
    {
     "output_type": "stream",
     "name": "stdout",
     "text": [
      "[[65535   510   424   262   256   295   478   150   505   378]\n [65535     0   161   313   537   632   296   362   180   151]\n [65535   161     0   180   391   477   150   293   307   189]\n [65535   313   180     0   225   310   217   170   395   245]\n [65535   537   391   225     0    86   356   294   612   462]\n [65535   623   477   310    86     0   433   364   695   545]\n [65535   296   150   217   356   433     0   380   456   336]\n [65535   362   293   170   294   364   380     0   361   229]\n [65535   180   307   395   612   695   456   361     0   151]\n [65535   151   189   245   462   545   336   229   151     0]]\nj1 =  7\n[[65535 65535 65535 65535 65535 65535 65535 65535 65535 65535]\n [65535     0   161   313   537   632   296   362   180   151]\n [65535   161     0   180   391   477   150   293   307   189]\n [65535   313   180     0   225   310   217   170   395   245]\n [65535   537   391   225     0    86   356   294   612   462]\n [65535   623   477   310    86     0   433   364   695   545]\n [65535   296   150   217   356   433     0   380   456   336]\n [65535   362   293   170   294   364   380     0   361   229]\n [65535   180   307   395   612   695   456   361     0   151]\n [65535   151   189   245   462   545   336   229   151     0]]\n[[65535 65535 65535 65535 65535 65535 65535 65535 65535 65535]\n [65535     0   161   313   537   632   296 65535   180   151]\n [65535   161     0   180   391   477   150 65535   307   189]\n [65535   313   180     0   225   310   217 65535   395   245]\n [65535   537   391   225     0    86   356 65535   612   462]\n [65535   623   477   310    86     0   433 65535   695   545]\n [65535   296   150   217   356   433     0 65535   456   336]\n [65535   362   293   170   294   364   380 65535   361   229]\n [65535   180   307   395   612   695   456 65535     0   151]\n [65535   151   189   245   462   545   336 65535   151     0]]\nj2 =  3\n[[65535 65535 65535 65535 65535 65535 65535 65535 65535 65535]\n [65535     0   161   313   537   632   296 65535   180   151]\n [65535   161     0   180   391   477   150 65535   307   189]\n [65535   313   180     0   225   310   217 65535   395   245]\n [65535   537   391   225     0    86   356 65535   612   462]\n [65535   623   477   310    86     0   433 65535   695   545]\n [65535   296   150   217   356   433     0 65535   456   336]\n [65535 65535 65535 65535 65535 65535 65535 65535 65535 65535]\n [65535   180   307   395   612   695   456 65535     0   151]\n [65535   151   189   245   462   545   336 65535   151     0]]\n"
     ]
    }
   ],
   "source": [
    "local_dist = dist.copy()\n",
    "# start with index 0\n",
    "j0 = 0\n",
    "local_dist[:,j0] = np.iinfo(dist.dtype).max\n",
    "print(local_dist)\n",
    "j1 = np.argmin(local_dist[j0,:])\n",
    "print('j1 = ',j1)\n",
    "local_dist[j0,:] = np.iinfo(dist.dtype).max\n",
    "print(local_dist)\n",
    "# continue with index j1\n",
    "local_dist[:,j1] = np.iinfo(dist.dtype).max\n",
    "print(local_dist)\n",
    "j2 = np.argmin(local_dist[j1,:])\n",
    "print('j2 = ',j2)\n",
    "local_dist[j1,:] = np.iinfo(dist.dtype).max\n",
    "print(local_dist)"
   ]
  },
  {
   "cell_type": "markdown",
   "metadata": {},
   "source": [
    "<div class=\"alert alert-block alert-info\">\n",
    "    \n",
    "### Task 7: Greedy-Algorithm <font color=red>(3 points)</font>\n",
    "\n",
    "Implement the function `tspGreedy()`.\n",
    "Test it with the example of 10 cities in Germany.\n",
    "Does the Greedy Algorithm generate the optimal route for any city as a starting point?\n",
    "</div>"
   ]
  },
  {
   "cell_type": "markdown",
   "metadata": {},
   "source": [
    "<div class=\"alert alert-block alert-success\">\n",
    "    \n",
    "<b>Solution of task 7</b>\n",
    "\n",
    "Implementation of function `tspGreedy()`:\n",
    "</div>"
   ]
  },
  {
   "cell_type": "code",
   "execution_count": 21,
   "metadata": {},
   "outputs": [],
   "source": [
    "def tsp_greedy(dist: DistanceMatrix, start: str) -> Route:\n",
    "    \"\"\" finds a good solution for tsp by selecting nearest neighbours \"\"\"\n",
    "\n",
    "    start = indexDictionary[start]\n",
    "    path = [start]\n",
    "    current = start\n",
    "    local_dist = dist.copy()\n",
    "    n = len(dist)\n",
    "\n",
    "    while len(path) != n:\n",
    "        local_dist[:,current] = np.iinfo(dist.dtype).max\n",
    "        current = np.argmin(local_dist[current,:])\n",
    "        path.append(current)\n",
    "\n",
    "    path.append(start)\n",
    "    return path"
   ]
  },
  {
   "cell_type": "markdown",
   "metadata": {},
   "source": [
    "<div class=\"alert alert-block alert-success\">\n",
    "\n",
    "Testing with the example of 10 cities in Germany for all cities as start point:\n",
    "</div>"
   ]
  },
  {
   "cell_type": "code",
   "execution_count": 22,
   "metadata": {},
   "outputs": [
    {
     "output_type": "stream",
     "name": "stdout",
     "text": [
      "Shortest tour for Berlin:\n['Berlin', 'Leipzig', 'Göttingen', 'Frankfurt', 'Köln', 'Esslingen', 'Nürnberg', 'München', 'Hamburg', 'Kiel', 'Berlin']\nlength = 2241km\n\nShortest tour for Esslingen:\n['Esslingen', 'Nürnberg', 'München', 'Frankfurt', 'Köln', 'Göttingen', 'Leipzig', 'Berlin', 'Hamburg', 'Kiel', 'Esslingen']\nlength = 2261km\n\nShortest tour for Frankfurt:\n['Frankfurt', 'Köln', 'Göttingen', 'Leipzig', 'Berlin', 'Hamburg', 'Kiel', 'Nürnberg', 'Esslingen', 'München', 'Frankfurt']\nlength = 2212km\n\nShortest tour for Göttingen:\n['Göttingen', 'Leipzig', 'Berlin', 'Hamburg', 'Kiel', 'Köln', 'Frankfurt', 'Esslingen', 'Nürnberg', 'München', 'Göttingen']\nlength = 2103km\n\nShortest tour for Hamburg:\n['Hamburg', 'Kiel', 'Berlin', 'Leipzig', 'Göttingen', 'Frankfurt', 'Köln', 'Esslingen', 'Nürnberg', 'München', 'Hamburg']\nlength = 2241km\n\nShortest tour for Kiel:\n['Kiel', 'Hamburg', 'Göttingen', 'Leipzig', 'Berlin', 'Nürnberg', 'Esslingen', 'Frankfurt', 'Köln', 'München', 'Kiel']\nlength = 2622km\n\nShortest tour for Köln:\n['Köln', 'Frankfurt', 'Esslingen', 'Nürnberg', 'München', 'Leipzig', 'Berlin', 'Hamburg', 'Kiel', 'Göttingen', 'Köln']\nlength = 1993km\n\nShortest tour for Leipzig:\n['Leipzig', 'Berlin', 'Hamburg', 'Kiel', 'Göttingen', 'Frankfurt', 'Köln', 'Esslingen', 'Nürnberg', 'München', 'Leipzig']\nlength = 2091km\n\nShortest tour for München:\n['München', 'Nürnberg', 'Esslingen', 'Frankfurt', 'Köln', 'Göttingen', 'Leipzig', 'Berlin', 'Hamburg', 'Kiel', 'München']\nlength = 2187km\n\nShortest tour for Nürnberg:\n['Nürnberg', 'Esslingen', 'Frankfurt', 'Köln', 'Göttingen', 'Leipzig', 'Berlin', 'Hamburg', 'Kiel', 'München', 'Nürnberg']\nlength = 2187km\n\n"
     ]
    }
   ],
   "source": [
    "for name in indexDictionary.keys():\n",
    "    print(\"Shortest tour for %s:\" % (name,))\n",
    "    path = tsp_greedy(dist, name)\n",
    "    path_length = tspLength(dist, path)\n",
    "    path_name = [cityDictionary[key] for key in path]\n",
    "    print(\"%s\\n%s%d%s\\n\" % (path_name, \"length = \", path_length, \"km\"))"
   ]
  },
  {
   "source": [
    "<div class=\"alert alert-block alert-success\">\n",
    "\n",
    "Timing the greedy algorithm:\n",
    "</div>"
   ],
   "cell_type": "markdown",
   "metadata": {}
  },
  {
   "cell_type": "code",
   "execution_count": 23,
   "metadata": {},
   "outputs": [
    {
     "output_type": "stream",
     "name": "stdout",
     "text": [
      "result = [1, 9, 8, 2, 6, 3, 7, 0, 4, 5, 1]\n",
      "avg. execution time: 5.599713325500488e-05s\n"
     ]
    }
   ],
   "source": [
    "res, avg_time = algo_timer(tsp_greedy, 10**3, False, dist, \"Esslingen\")"
   ]
  },
  {
   "cell_type": "markdown",
   "metadata": {},
   "source": [
    "## 2-Opt-Algorithm\n",
    "The 2-Opt-Algorithm is based on continous improvement combined with edge swapping.\n",
    "\n",
    "<b>Edge swap</b>\n",
    "\n",
    "Edge replacement can be implemented very easily.\n",
    "The two edges to be exchanged are specified by the indices $i$ and $j$.\n",
    "The indices between $i$ and $j$ run in reverse order.\n",
    "All other indices remain unchanged.\n",
    "\n",
    "<div class=\"alert alert-block alert-warning\">\n",
    "\n",
    "<b>Example</b>\n",
    "\n",
    "An edge swap with index $i=3$ and index $j=7$ applied to the route\n",
    "    \n",
    "$$\n",
    "[ \\, 5 \\quad 4 \\quad 3 \\quad \n",
    "\\color{red}{\\mathbf{7 \\quad 0 \\quad 9 \\quad 1 \\quad 2}}\n",
    "\\quad 6 \\quad 8 \\, ] \\hphantom{\\, .}\n",
    "$$\n",
    "\n",
    "will generate the new route:\n",
    "\n",
    "$$\n",
    "[ \\, 5 \\quad 4 \\quad 3 \\quad \n",
    "\\color{red}{\\mathbf{2 \\quad 1 \\quad 9 \\quad 0 \\quad 7}}\n",
    "\\quad 6 \\quad 8 \\, ] \\, .\n",
    "$$\n",
    "</div>\n",
    "\n",
    "To be able to use the function more flexibly, we also allow index pairs where $j$ is greater or equal than $i$.\n",
    "In this case we simply swap the roles of $i$ and $j$."
   ]
  },
  {
   "cell_type": "markdown",
   "metadata": {},
   "source": [
    "<div class=\"alert alert-block alert-info\">\n",
    "    \n",
    "<b> Task 8: Swap edge <font color=red>(2 points)</font> </b>\n",
    "\n",
    "Implement the function `tspSwapEdge()` and test it.\n",
    "Make sure that the function also works for $j \\leq i$.\n",
    "</div>"
   ]
  },
  {
   "cell_type": "markdown",
   "metadata": {},
   "source": [
    "<div class=\"alert alert-block alert-success\">\n",
    "    \n",
    "<b>Solution of task 8</b>\n",
    "    \n",
    "Implementation of function `tspSwapEdge()`:\n",
    "</div>"
   ]
  },
  {
   "cell_type": "code",
   "execution_count": 24,
   "metadata": {},
   "outputs": [],
   "source": [
    "def tspSwapEdge(route: Route, i: int, j: int) -> Route:\n",
    "    \"\"\" Returns a route with swapped elements from `i` to `j` \"\"\"\n",
    "    if i > j: i, j = j, i\n",
    "    if not isinstance(route, list): route = list(route)\n",
    "    return route[:i] + route[i:j+1][::-1] + route[j+1:]"
   ]
  },
  {
   "cell_type": "markdown",
   "metadata": {},
   "source": [
    "<div class=\"alert alert-block alert-success\">\n",
    "    \n",
    "Testing the function `tspSwapEdge()`:\n",
    "</div>"
   ]
  },
  {
   "cell_type": "code",
   "execution_count": 25,
   "metadata": {},
   "outputs": [
    {
     "output_type": "execute_result",
     "data": {
      "text/plain": [
       "[5, 4, 3, 2, 1, 9, 0, 7, 6, 8]"
      ]
     },
     "metadata": {},
     "execution_count": 25
    }
   ],
   "source": [
    "test_path = [5, 4, 3, 7, 0, 9, 1, 2, 6, 8]\n",
    "tspSwapEdge(test_path, 3, 7)"
   ]
  },
  {
   "cell_type": "markdown",
   "metadata": {},
   "source": [
    "<b>First improvement</b>\n",
    "\n",
    "First improvement follows the principle of continuous improvement.\n",
    "We start with an arbitrary route and try to improve this route as long as possible by swapping edges."
   ]
  },
  {
   "cell_type": "code",
   "execution_count": 26,
   "metadata": {},
   "outputs": [],
   "source": [
    "def tspFirstImprovement(dist: DistanceMatrix, route: Route) -> Route:\n",
    "    \"\"\" Continuous optimization of a `route` by accepting the first good 2-opt-swap \"\"\"\n",
    "\n",
    "    n = dist.shape[0]\n",
    "    while True:\n",
    "        lenRoute = tspLength(dist,route)\n",
    "        for i in range(n-1):\n",
    "            for j in range(i+1,n):\n",
    "                routeSwap = tspSwapEdge(route,i,j)\n",
    "                lenRouteSwap = tspLength(dist,routeSwap)\n",
    "                if lenRouteSwap < lenRoute:\n",
    "                    break\n",
    "            if lenRouteSwap < lenRoute:\n",
    "                break\n",
    "        if lenRouteSwap < lenRoute:\n",
    "            route = routeSwap\n",
    "            lenRoute = lenRouteSwap\n",
    "        else:\n",
    "            break\n",
    "    return route"
   ]
  },
  {
   "cell_type": "markdown",
   "metadata": {},
   "source": [
    "Testing of function `tspFirstImprovement()`:"
   ]
  },
  {
   "cell_type": "code",
   "execution_count": 27,
   "metadata": {},
   "outputs": [
    {
     "output_type": "stream",
     "name": "stdout",
     "text": [
      "[7, 0, 5, 4, 3, 6, 2, 1, 8, 9]\n1844\n"
     ]
    }
   ],
   "source": [
    "routeFirstImprovement = tspFirstImprovement(dist, np.array(range(10)))\n",
    "print(routeFirstImprovement)\n",
    "print(tspLength(dist,routeFirstImprovement))"
   ]
  },
  {
   "source": [
    "<div class=\"alert alert-block alert-success\">\n",
    "\n",
    "Timing the First improvement algorithm:\n",
    "</div>"
   ],
   "cell_type": "markdown",
   "metadata": {}
  },
  {
   "cell_type": "code",
   "execution_count": 28,
   "metadata": {},
   "outputs": [
    {
     "output_type": "stream",
     "name": "stdout",
     "text": [
      "result = [7, 0, 5, 4, 3, 6, 2, 1, 8, 9]\navg. execution time: 0.0009689991474151611s\n"
     ]
    }
   ],
   "source": [
    "res, avg_time = algo_timer(tspFirstImprovement, 10**3, False, dist, np.array(range(10)))"
   ]
  },
  {
   "cell_type": "markdown",
   "metadata": {},
   "source": [
    "With first improvement we were able to find the optimal route with much shorter running time.\n",
    "\n",
    "<b>Steepest descent</b>\n",
    "\n",
    "There is only a slight modification between first improvement and steepest descent.\n",
    "Instead of taking the first route, which becomes shorter by changing edges, we search through all possibilities and choose the shortest one."
   ]
  },
  {
   "cell_type": "markdown",
   "metadata": {},
   "source": [
    "### Task 9: Steepest descent <font color=red>(2 points)</font>\n",
    "\n",
    "Implement the function `tspSteepestDescent()`.\n",
    "Test it with the example of 10 cities in Germany.\n",
    "Compare the result with the brute force and with the first improvement approach."
   ]
  },
  {
   "cell_type": "markdown",
   "metadata": {},
   "source": [
    "<div class=\"alert alert-block alert-success\">\n",
    "    \n",
    "<b>Solution of task 9</b>\n",
    "\n",
    "Implementation of function `tspSteepestDescent()`:\n",
    "</div>"
   ]
  },
  {
   "cell_type": "code",
   "execution_count": 29,
   "metadata": {},
   "outputs": [],
   "source": [
    "# def tspSteepestDescent(dist,route):\n",
    "#     n = dist.shape[0]\n",
    "#     while True:\n",
    "#         lenRoute = tspLength(dist,route)\n",
    "#         shortestSwap = route\n",
    "#         lenShortest = lenRoute\n",
    "\n",
    "#         for i in range(n-1):\n",
    "#             for j in range(i+1,n):\n",
    "#                 routeSwap = tspSwapEdge(route,i,j)\n",
    "#                 lenRouteSwap = tspLength(dist,routeSwap)\n",
    "\n",
    "#                 if lenRouteSwap < lenShortest:\n",
    "#                     shortestSwap = routeSwap\n",
    "#                     lenShortest = lenRouteSwap\n",
    "\n",
    "#             if lenRouteSwap < lenShortest:\n",
    "#                 shortestSwap = routeSwap\n",
    "#                 lenShortest = lenRouteSwap\n",
    "\n",
    "#         if lenShortest < lenRoute:\n",
    "#             route = shortestSwap\n",
    "#             lenRoute = lenShortest\n",
    "#         else:\n",
    "#             break\n",
    "\n",
    "#     return route"
   ]
  },
  {
   "cell_type": "code",
   "execution_count": 30,
   "metadata": {},
   "outputs": [],
   "source": [
    "# TODO find out if generator is useful since tee basically caches it\n",
    "# TODO (implement generator for bruteforce since it only runs once) -> too much space complexity\n",
    "def tspSteepestDescent(dist: DistanceMatrix, route: Route) -> Route:\n",
    "    \"\"\" continious optimization of `route` by considering all possible 2-opt-swaps \"\"\"\n",
    "    \n",
    "    n = dist.shape[0]\n",
    "    route_distance = tspLength(dist, route)\n",
    "    index_generator = ((i,j) for i in range(n) for j in range(n) if i < j)\n",
    "\n",
    "    while True:\n",
    "        index_variations, index_generator = tee(index_generator)\n",
    "        possibilities = [tspSwapEdge(route, *index) for index in index_variations]\n",
    "        distances = [tspLength(dist, x) for x in possibilities]\n",
    "        min_distance = min(distances)\n",
    "        if min_distance < route_distance:\n",
    "            route = possibilities[distances.index(min_distance)]\n",
    "            route_distance = min_distance\n",
    "        else:\n",
    "            return route"
   ]
  },
  {
   "cell_type": "markdown",
   "metadata": {},
   "source": [
    "<div class=\"alert alert-block alert-success\">\n",
    "Testing of function `tspSteepestDescent()` with the example of 10 cities in Germany:\n",
    "</div>"
   ]
  },
  {
   "cell_type": "code",
   "execution_count": 31,
   "metadata": {},
   "outputs": [
    {
     "output_type": "stream",
     "name": "stdout",
     "text": [
      "1944\n[3, 7, 0, 5, 4, 6, 2, 1, 8, 9]\n"
     ]
    }
   ],
   "source": [
    "routeSteepestDecent = tspSteepestDescent(dist, np.array(range(10)))\n",
    "print(tspLength(dist,routeSteepestDecent))\n",
    "print(routeSteepestDecent)"
   ]
  },
  {
   "source": [
    "<div class=\"alert alert-block alert-success\">\n",
    "\n",
    "Timing steepest descent:\n",
    "</div>"
   ],
   "cell_type": "markdown",
   "metadata": {}
  },
  {
   "cell_type": "code",
   "execution_count": 32,
   "metadata": {},
   "outputs": [
    {
     "output_type": "stream",
     "name": "stdout",
     "text": [
      "result = [3, 7, 0, 5, 4, 6, 2, 1, 8, 9]\navg. execution time: 0.0021789987087249755s\n"
     ]
    }
   ],
   "source": [
    "res, avg_time = algo_timer(tspSteepestDescent, 10**3, False, dist, np.array(range(10)))"
   ]
  },
  {
   "cell_type": "markdown",
   "metadata": {},
   "source": [
    "At first sight, we expect steepest descent to perform better than first improvement.\n",
    "In fact, this example shows that it is the other way around."
   ]
  },
  {
   "cell_type": "markdown",
   "metadata": {},
   "source": [
    "## Simulated annealing\n",
    "The implementation of simulated annealing depends on pseudorandom numbers.\n",
    "In Python there already exists a pseudorandom number generator which we may use by imporing `random`.\n",
    "The two random indices $i$ and $j$ in the range between $0$ and $n-1$ for the edge swap are created with `randint()`:"
   ]
  },
  {
   "cell_type": "code",
   "execution_count": 33,
   "metadata": {},
   "outputs": [
    {
     "output_type": "stream",
     "name": "stdout",
     "text": [
      "i =  0 , j =  7\n"
     ]
    }
   ],
   "source": [
    "n = dist.shape[0]\n",
    "i = random.randint(0,n-1)\n",
    "j = random.randint(0,n-1)\n",
    "print('i = ',i,', j = ',j)"
   ]
  },
  {
   "cell_type": "markdown",
   "metadata": {},
   "source": [
    "The random value $z \\in [0,1)$ is generated with `random()`:"
   ]
  },
  {
   "cell_type": "code",
   "execution_count": 34,
   "metadata": {},
   "outputs": [
    {
     "output_type": "stream",
     "name": "stdout",
     "text": [
      "z =  0.8847664858137622\n"
     ]
    }
   ],
   "source": [
    "z = random.random()\n",
    "print('z = ',z)"
   ]
  },
  {
   "cell_type": "markdown",
   "metadata": {},
   "source": [
    "To obtain reproducible results, the random number generator is set to the same initial state before each test run."
   ]
  },
  {
   "cell_type": "code",
   "execution_count": 35,
   "metadata": {},
   "outputs": [],
   "source": [
    "random.seed(4711)"
   ]
  },
  {
   "cell_type": "markdown",
   "metadata": {},
   "source": [
    "<div class=\"alert alert-block alert-info\">\n",
    "    \n",
    "### Task 10: Simulated annealing <font color=red>(2 points)</font>\n",
    "\n",
    "Implement the function `tspSimulatedAnnealing()`.\n",
    "Test it with the example of 10 cities in Germany for $\\beta=0.99$, $T_\\mbox{high}=100$ and $T_\\mbox{low}=10$.\n",
    "Choose different seeds for the random number generator.    \n",
    "</div>"
   ]
  },
  {
   "cell_type": "markdown",
   "metadata": {},
   "source": [
    "<div class=\"alert alert-block alert-success\">\n",
    "    \n",
    "<b>Solution of task 10</b>\n",
    "\n",
    "Implementation of function `tspSimulatedAnnealing()`:\n",
    "</div>"
   ]
  },
  {
   "cell_type": "code",
   "execution_count": 36,
   "metadata": {},
   "outputs": [],
   "source": [
    "def tspSimulatedAnnealing(dist: DistanceMatrix, route: Route, beta: float, T_high: float, T_low: float) -> Route:\n",
    "    \"\"\" probablistically approximates a global optimum for a large search space \"\"\"\n",
    "\n",
    "    # setting the seed to local time each time SA is called\n",
    "    random.seed()\n",
    "    n = len(route)\n",
    "    route_dist = tspLength(dist, route)\n",
    "    steps = 0\n",
    "    print(f\"theoretical steps: {math.ceil(math.log(T_low/T_high) / math.log(beta))}\")\n",
    "    while T_high > T_low:\n",
    "        steps += 1\n",
    "\n",
    "        # we generate indices in a way that they are distinct, or else we would end up with\n",
    "        # a lot of swaps that do nothing resulting in vastly worse results\n",
    "        j = random.randint(1, n-1)\n",
    "        i = random.randint(0, j-1)\n",
    "        \n",
    "        random_swap = tspSwapEdge(route, i, j)\n",
    "        random_dist = tspLength(dist, random_swap)\n",
    "\n",
    "        p = 1 if random_dist < route_dist else np.exp(-((random_dist-route_dist)/T_high))\n",
    "\n",
    "        if p >= random.random():\n",
    "            route, route_dist = random_swap, random_dist\n",
    "\n",
    "        T_high *= beta\n",
    "    print(f\"actual steps: {steps}\")\n",
    "    return route"
   ]
  },
  {
   "cell_type": "markdown",
   "metadata": {},
   "source": [
    "Testing of function `tspSimulatedAnnealing()` with the example of 10 cities in Germany for $\\beta=0.99$, $T_\\mbox{high}=100$ and $T_\\mbox{low}=10$ and different seeds:"
   ]
  },
  {
   "cell_type": "code",
   "execution_count": 37,
   "metadata": {
    "tags": []
   },
   "outputs": [
    {
     "output_type": "stream",
     "name": "stdout",
     "text": [
      "theoretical steps: 230\n",
      "actual steps: 230\n",
      "[0, 7, 3, 9, 8, 1, 2, 6, 4, 5]\n",
      "1944\n",
      "\n",
      "\n",
      "theoretical steps: 230\n",
      "actual steps: 230\n",
      "[2, 6, 3, 4, 5, 0, 7, 9, 8, 1]\n",
      "1844\n",
      "\n",
      "\n",
      "theoretical steps: 230\n",
      "actual steps: 230\n",
      "[0, 5, 4, 3, 6, 2, 1, 8, 9, 7]\n",
      "1844\n",
      "\n",
      "\n",
      "theoretical steps: 230\n",
      "actual steps: 230\n",
      "[4, 3, 6, 2, 1, 8, 9, 7, 0, 5]\n",
      "1844\n",
      "\n",
      "\n",
      "theoretical steps: 230\n",
      "actual steps: 230\n",
      "[2, 6, 3, 4, 5, 0, 7, 9, 8, 1]\n",
      "1844\n",
      "\n",
      "\n",
      "theoretical steps: 230\n",
      "actual steps: 230\n",
      "[0, 7, 3, 9, 8, 1, 2, 6, 4, 5]\n",
      "1944\n",
      "\n",
      "\n",
      "theoretical steps: 230\n",
      "actual steps: 230\n",
      "[9, 7, 0, 5, 4, 3, 6, 2, 1, 8]\n",
      "1844\n",
      "\n",
      "\n",
      "theoretical steps: 230\n",
      "actual steps: 230\n",
      "[9, 7, 0, 5, 4, 3, 6, 2, 1, 8]\n",
      "1844\n",
      "\n",
      "\n",
      "theoretical steps: 230\n",
      "actual steps: 230\n",
      "[5, 0, 7, 3, 9, 8, 1, 2, 6, 4]\n",
      "1944\n",
      "\n",
      "\n",
      "theoretical steps: 230\n",
      "actual steps: 230\n",
      "[1, 8, 9, 7, 0, 5, 4, 3, 2, 6]\n",
      "1942\n",
      "\n",
      "\n"
     ]
    }
   ],
   "source": [
    "for i in range(10):\n",
    "    SA_res = tspSimulatedAnnealing(dist, np.arange(10), 0.99, 100, 10)\n",
    "    print(SA_res)\n",
    "    print(tspLength(dist, SA_res))\n",
    "    print(\"\\n\")"
   ]
  },
  {
   "cell_type": "markdown",
   "metadata": {},
   "source": [
    "# Visualization\n",
    "In the beginning, we have already discussed that the numbers in the distance matrix do not necessarily have to correspond to geometric distances.\n",
    "However, if the points of the TSP can be assigned coordinates, then a visualization is easily possible.\n",
    "\n",
    "<div class=\"alert alert-block alert-warning\">\n",
    "    \n",
    "<b>Example (10 cities in Germany)</b>\n",
    "\n",
    "Again, we look at the example with the 10 cities in Germany.\n",
    "The positions of the cities can be determined by using longitude and latitude.\n",
    "     \n",
    "$$\n",
    "\\begin{array}{l|c|c|c|c|c|c|c|c|c}\n",
    " & \\mbox{Berlin}\n",
    " & \\mbox{Esslingen} \n",
    " & \\mbox{Frankfurt}\n",
    " & \\mbox{Goettingen}\n",
    " & \\mbox{Hamburg} \n",
    " & \\mbox{Kiel}\n",
    " & \\mbox{Koeln}\n",
    " & \\mbox{Leipzig}\n",
    " & \\mbox{Muenchen}\n",
    " & \\mbox{Nuernberg} \\\\\n",
    "\\hline\n",
    "\\mbox{longitude} & 13.4114 & 9.3071 & 8.6636 & 9.9352 & 9.9921 & 10.1371 & 6.9599 & 12.3712 & 11.5753 & 11.0772 \\\\\n",
    "\\hline\n",
    "\\mbox{latitude} & 52.52340 & 48.74275 & 50.13083 & 51.53276 & 53.55340 & 54.32167 & 50.93836 & 51.33962 & 48.13710 & 49.45387 \\\\  \n",
    "\\end{array}\n",
    "$$\n",
    "    \n",
    "Longitude and latitude are indeed spherical coordinates.\n",
    "However, the cities in Germany cover only a small section of the globe.\n",
    "Therefore we can use longitude and latitude as good approximations in a Cartesian coordinate system.\n",
    "</div>"
   ]
  },
  {
   "cell_type": "code",
   "execution_count": 38,
   "metadata": {},
   "outputs": [],
   "source": [
    "def tspDraw(dist: DistanceMatrix, route: Route, pos: Positions, names: List[str]) -> None:\n",
    "    fig, ax = plt.subplots()\n",
    "    l = tspLength(dist,route)\n",
    "    fig.suptitle('length = '+str(l),fontsize=14)\n",
    "    ax.get_xaxis().set_visible(False)\n",
    "    ax.get_yaxis().set_visible(False)\n",
    "    ax.set_aspect('equal')\n",
    "    ax.plot(pos[:,0],pos[:,1],'ko', markersize=4)\n",
    "    ax.plot(np.append(pos[:,0],pos[0,0]),np.append(pos[:,1],pos[0,1]),'k-')\n",
    "    for xy, name in zip(pos, names):\n",
    "        ax.annotate(name,xy=xy,xytext=(5,2),textcoords='offset points',ha='left', va='center', fontsize=12)\n",
    "    return"
   ]
  },
  {
   "cell_type": "code",
   "execution_count": 39,
   "metadata": {},
   "outputs": [
    {
     "output_type": "stream",
     "name": "stdout",
     "text": [
      "['Berlin', 'Esslingen', 'Frankfurt', 'Goettingen', 'Hamburg', 'Kiel', 'Koeln', 'Leipzig', 'Muenchen', 'Nuernberg']\ntheoretical steps: 230\nactual steps: 230\n"
     ]
    },
    {
     "output_type": "display_data",
     "data": {
      "text/plain": "<Figure size 432x288 with 1 Axes>",
      "image/svg+xml": "<?xml version=\"1.0\" encoding=\"utf-8\" standalone=\"no\"?>\r\n<!DOCTYPE svg PUBLIC \"-//W3C//DTD SVG 1.1//EN\"\r\n  \"http://www.w3.org/Graphics/SVG/1.1/DTD/svg11.dtd\">\r\n<!-- Created with matplotlib (https://matplotlib.org/) -->\r\n<svg height=\"264.14pt\" version=\"1.1\" viewBox=\"0 0 274.237129 264.14\" width=\"274.237129pt\" xmlns=\"http://www.w3.org/2000/svg\" xmlns:xlink=\"http://www.w3.org/1999/xlink\">\r\n <defs>\r\n  <style type=\"text/css\">\r\n*{stroke-linecap:butt;stroke-linejoin:round;}\r\n  </style>\r\n </defs>\r\n <g id=\"figure_1\">\r\n  <g id=\"patch_1\">\r\n   <path d=\"M 0 264.14 \r\nL 274.237129 264.14 \r\nL 274.237129 0 \r\nL 0 0 \r\nz\r\n\" style=\"fill:none;\"/>\r\n  </g>\r\n  <g id=\"axes_1\">\r\n   <g id=\"patch_2\">\r\n    <path d=\"M 10.7 253.44 \r\nL 237.52485 253.44 \r\nL 237.52485 36 \r\nL 10.7 36 \r\nz\r\n\" style=\"fill:#ffffff;\"/>\r\n   </g>\r\n   <g id=\"line2d_1\">\r\n    <defs>\r\n     <path d=\"M 0 2 \r\nC 0.530406 2 1.03916 1.789267 1.414214 1.414214 \r\nC 1.789267 1.03916 2 0.530406 2 0 \r\nC 2 -0.530406 1.789267 -1.03916 1.414214 -1.414214 \r\nC 1.03916 -1.789267 0.530406 -2 0 -2 \r\nC -0.530406 -2 -1.03916 -1.789267 -1.414214 -1.414214 \r\nC -1.789267 -1.03916 -2 -0.530406 -2 0 \r\nC -2 0.530406 -1.789267 1.03916 -1.414214 1.414214 \r\nC -1.03916 1.789267 -0.530406 2 0 2 \r\nz\r\n\" id=\"maa8fbae07c\" style=\"stroke:#000000;\"/>\r\n    </defs>\r\n    <g clip-path=\"url(#p57974a4d1a)\">\r\n     <use style=\"stroke:#000000;\" x=\"21.01022\" xlink:href=\"#maa8fbae07c\" y=\"154.021812\"/>\r\n     <use style=\"stroke:#000000;\" x=\"116.107481\" xlink:href=\"#maa8fbae07c\" y=\"135.023455\"/>\r\n     <use style=\"stroke:#000000;\" x=\"117.926133\" xlink:href=\"#maa8fbae07c\" y=\"70.439269\"/>\r\n     <use style=\"stroke:#000000;\" x=\"122.560658\" xlink:href=\"#maa8fbae07c\" y=\"45.883636\"/>\r\n     <use style=\"stroke:#000000;\" x=\"227.214629\" xlink:href=\"#maa8fbae07c\" y=\"103.360379\"/>\r\n     <use style=\"stroke:#000000;\" x=\"193.967504\" xlink:href=\"#maa8fbae07c\" y=\"141.196642\"/>\r\n     <use style=\"stroke:#000000;\" x=\"152.608362\" xlink:href=\"#maa8fbae07c\" y=\"201.469441\"/>\r\n     <use style=\"stroke:#000000;\" x=\"168.528755\" xlink:href=\"#maa8fbae07c\" y=\"243.556364\"/>\r\n     <use style=\"stroke:#000000;\" x=\"96.031996\" xlink:href=\"#maa8fbae07c\" y=\"224.198431\"/>\r\n     <use style=\"stroke:#000000;\" x=\"75.464293\" xlink:href=\"#maa8fbae07c\" y=\"179.832282\"/>\r\n    </g>\r\n   </g>\r\n   <g id=\"line2d_2\">\r\n    <path clip-path=\"url(#p57974a4d1a)\" d=\"M 21.01022 154.021812 \r\nL 116.107481 135.023455 \r\nL 117.926133 70.439269 \r\nL 122.560658 45.883636 \r\nL 227.214629 103.360379 \r\nL 193.967504 141.196642 \r\nL 152.608362 201.469441 \r\nL 168.528755 243.556364 \r\nL 96.031996 224.198431 \r\nL 75.464293 179.832282 \r\nL 21.01022 154.021812 \r\n\" style=\"fill:none;stroke:#000000;stroke-linecap:square;stroke-width:1.5;\"/>\r\n   </g>\r\n   <g id=\"patch_3\">\r\n    <path d=\"M 10.7 253.44 \r\nL 10.7 36 \r\n\" style=\"fill:none;stroke:#000000;stroke-linecap:square;stroke-linejoin:miter;stroke-width:0.8;\"/>\r\n   </g>\r\n   <g id=\"patch_4\">\r\n    <path d=\"M 237.52485 253.44 \r\nL 237.52485 36 \r\n\" style=\"fill:none;stroke:#000000;stroke-linecap:square;stroke-linejoin:miter;stroke-width:0.8;\"/>\r\n   </g>\r\n   <g id=\"patch_5\">\r\n    <path d=\"M 10.7 253.44 \r\nL 237.52485 253.44 \r\n\" style=\"fill:none;stroke:#000000;stroke-linecap:square;stroke-linejoin:miter;stroke-width:0.8;\"/>\r\n   </g>\r\n   <g id=\"patch_6\">\r\n    <path d=\"M 10.7 36 \r\nL 237.52485 36 \r\n\" style=\"fill:none;stroke:#000000;stroke-linecap:square;stroke-linejoin:miter;stroke-width:0.8;\"/>\r\n   </g>\r\n   <g id=\"text_1\">\r\n    <!-- Köln -->\r\n    <defs>\r\n     <path d=\"M 9.8125 72.90625 \r\nL 19.671875 72.90625 \r\nL 19.671875 42.09375 \r\nL 52.390625 72.90625 \r\nL 65.09375 72.90625 \r\nL 28.90625 38.921875 \r\nL 67.671875 0 \r\nL 54.6875 0 \r\nL 19.671875 35.109375 \r\nL 19.671875 0 \r\nL 9.8125 0 \r\nz\r\n\" id=\"DejaVuSans-75\"/>\r\n     <path d=\"M 30.609375 48.390625 \r\nQ 23.390625 48.390625 19.1875 42.75 \r\nQ 14.984375 37.109375 14.984375 27.296875 \r\nQ 14.984375 17.484375 19.15625 11.84375 \r\nQ 23.34375 6.203125 30.609375 6.203125 \r\nQ 37.796875 6.203125 41.984375 11.859375 \r\nQ 46.1875 17.53125 46.1875 27.296875 \r\nQ 46.1875 37.015625 41.984375 42.703125 \r\nQ 37.796875 48.390625 30.609375 48.390625 \r\nz\r\nM 30.609375 56 \r\nQ 42.328125 56 49.015625 48.375 \r\nQ 55.71875 40.765625 55.71875 27.296875 \r\nQ 55.71875 13.875 49.015625 6.21875 \r\nQ 42.328125 -1.421875 30.609375 -1.421875 \r\nQ 18.84375 -1.421875 12.171875 6.21875 \r\nQ 5.515625 13.875 5.515625 27.296875 \r\nQ 5.515625 40.765625 12.171875 48.375 \r\nQ 18.84375 56 30.609375 56 \r\nz\r\nM 35.203125 75.78125 \r\nL 45.125 75.78125 \r\nL 45.125 65.921875 \r\nL 35.203125 65.921875 \r\nz\r\nM 16.109375 75.78125 \r\nL 26.03125 75.78125 \r\nL 26.03125 65.921875 \r\nL 16.109375 65.921875 \r\nz\r\n\" id=\"DejaVuSans-246\"/>\r\n     <path d=\"M 9.421875 75.984375 \r\nL 18.40625 75.984375 \r\nL 18.40625 0 \r\nL 9.421875 0 \r\nz\r\n\" id=\"DejaVuSans-108\"/>\r\n     <path d=\"M 54.890625 33.015625 \r\nL 54.890625 0 \r\nL 45.90625 0 \r\nL 45.90625 32.71875 \r\nQ 45.90625 40.484375 42.875 44.328125 \r\nQ 39.84375 48.1875 33.796875 48.1875 \r\nQ 26.515625 48.1875 22.3125 43.546875 \r\nQ 18.109375 38.921875 18.109375 30.90625 \r\nL 18.109375 0 \r\nL 9.078125 0 \r\nL 9.078125 54.6875 \r\nL 18.109375 54.6875 \r\nL 18.109375 46.1875 \r\nQ 21.34375 51.125 25.703125 53.5625 \r\nQ 30.078125 56 35.796875 56 \r\nQ 45.21875 56 50.046875 50.171875 \r\nQ 54.890625 44.34375 54.890625 33.015625 \r\nz\r\n\" id=\"DejaVuSans-110\"/>\r\n    </defs>\r\n    <g transform=\"translate(26.01022 155.333062)scale(0.12 -0.12)\">\r\n     <use xlink:href=\"#DejaVuSans-75\"/>\r\n     <use x=\"65.498047\" xlink:href=\"#DejaVuSans-246\"/>\r\n     <use x=\"126.679688\" xlink:href=\"#DejaVuSans-108\"/>\r\n     <use x=\"154.462891\" xlink:href=\"#DejaVuSans-110\"/>\r\n    </g>\r\n   </g>\r\n   <g id=\"text_2\">\r\n    <!-- Göttingen -->\r\n    <defs>\r\n     <path d=\"M 59.515625 10.40625 \r\nL 59.515625 29.984375 \r\nL 43.40625 29.984375 \r\nL 43.40625 38.09375 \r\nL 69.28125 38.09375 \r\nL 69.28125 6.78125 \r\nQ 63.578125 2.734375 56.6875 0.65625 \r\nQ 49.8125 -1.421875 42 -1.421875 \r\nQ 24.90625 -1.421875 15.25 8.5625 \r\nQ 5.609375 18.5625 5.609375 36.375 \r\nQ 5.609375 54.25 15.25 64.234375 \r\nQ 24.90625 74.21875 42 74.21875 \r\nQ 49.125 74.21875 55.546875 72.453125 \r\nQ 61.96875 70.703125 67.390625 67.28125 \r\nL 67.390625 56.78125 \r\nQ 61.921875 61.421875 55.765625 63.765625 \r\nQ 49.609375 66.109375 42.828125 66.109375 \r\nQ 29.4375 66.109375 22.71875 58.640625 \r\nQ 16.015625 51.171875 16.015625 36.375 \r\nQ 16.015625 21.625 22.71875 14.15625 \r\nQ 29.4375 6.6875 42.828125 6.6875 \r\nQ 48.046875 6.6875 52.140625 7.59375 \r\nQ 56.25 8.5 59.515625 10.40625 \r\nz\r\n\" id=\"DejaVuSans-71\"/>\r\n     <path d=\"M 18.3125 70.21875 \r\nL 18.3125 54.6875 \r\nL 36.8125 54.6875 \r\nL 36.8125 47.703125 \r\nL 18.3125 47.703125 \r\nL 18.3125 18.015625 \r\nQ 18.3125 11.328125 20.140625 9.421875 \r\nQ 21.96875 7.515625 27.59375 7.515625 \r\nL 36.8125 7.515625 \r\nL 36.8125 0 \r\nL 27.59375 0 \r\nQ 17.1875 0 13.234375 3.875 \r\nQ 9.28125 7.765625 9.28125 18.015625 \r\nL 9.28125 47.703125 \r\nL 2.6875 47.703125 \r\nL 2.6875 54.6875 \r\nL 9.28125 54.6875 \r\nL 9.28125 70.21875 \r\nz\r\n\" id=\"DejaVuSans-116\"/>\r\n     <path d=\"M 9.421875 54.6875 \r\nL 18.40625 54.6875 \r\nL 18.40625 0 \r\nL 9.421875 0 \r\nz\r\nM 9.421875 75.984375 \r\nL 18.40625 75.984375 \r\nL 18.40625 64.59375 \r\nL 9.421875 64.59375 \r\nz\r\n\" id=\"DejaVuSans-105\"/>\r\n     <path d=\"M 45.40625 27.984375 \r\nQ 45.40625 37.75 41.375 43.109375 \r\nQ 37.359375 48.484375 30.078125 48.484375 \r\nQ 22.859375 48.484375 18.828125 43.109375 \r\nQ 14.796875 37.75 14.796875 27.984375 \r\nQ 14.796875 18.265625 18.828125 12.890625 \r\nQ 22.859375 7.515625 30.078125 7.515625 \r\nQ 37.359375 7.515625 41.375 12.890625 \r\nQ 45.40625 18.265625 45.40625 27.984375 \r\nz\r\nM 54.390625 6.78125 \r\nQ 54.390625 -7.171875 48.1875 -13.984375 \r\nQ 42 -20.796875 29.203125 -20.796875 \r\nQ 24.46875 -20.796875 20.265625 -20.09375 \r\nQ 16.0625 -19.390625 12.109375 -17.921875 \r\nL 12.109375 -9.1875 \r\nQ 16.0625 -11.328125 19.921875 -12.34375 \r\nQ 23.78125 -13.375 27.78125 -13.375 \r\nQ 36.625 -13.375 41.015625 -8.765625 \r\nQ 45.40625 -4.15625 45.40625 5.171875 \r\nL 45.40625 9.625 \r\nQ 42.625 4.78125 38.28125 2.390625 \r\nQ 33.9375 0 27.875 0 \r\nQ 17.828125 0 11.671875 7.65625 \r\nQ 5.515625 15.328125 5.515625 27.984375 \r\nQ 5.515625 40.671875 11.671875 48.328125 \r\nQ 17.828125 56 27.875 56 \r\nQ 33.9375 56 38.28125 53.609375 \r\nQ 42.625 51.21875 45.40625 46.390625 \r\nL 45.40625 54.6875 \r\nL 54.390625 54.6875 \r\nz\r\n\" id=\"DejaVuSans-103\"/>\r\n     <path d=\"M 56.203125 29.59375 \r\nL 56.203125 25.203125 \r\nL 14.890625 25.203125 \r\nQ 15.484375 15.921875 20.484375 11.0625 \r\nQ 25.484375 6.203125 34.421875 6.203125 \r\nQ 39.59375 6.203125 44.453125 7.46875 \r\nQ 49.3125 8.734375 54.109375 11.28125 \r\nL 54.109375 2.78125 \r\nQ 49.265625 0.734375 44.1875 -0.34375 \r\nQ 39.109375 -1.421875 33.890625 -1.421875 \r\nQ 20.796875 -1.421875 13.15625 6.1875 \r\nQ 5.515625 13.8125 5.515625 26.8125 \r\nQ 5.515625 40.234375 12.765625 48.109375 \r\nQ 20.015625 56 32.328125 56 \r\nQ 43.359375 56 49.78125 48.890625 \r\nQ 56.203125 41.796875 56.203125 29.59375 \r\nz\r\nM 47.21875 32.234375 \r\nQ 47.125 39.59375 43.09375 43.984375 \r\nQ 39.0625 48.390625 32.421875 48.390625 \r\nQ 24.90625 48.390625 20.390625 44.140625 \r\nQ 15.875 39.890625 15.1875 32.171875 \r\nz\r\n\" id=\"DejaVuSans-101\"/>\r\n    </defs>\r\n    <g transform=\"translate(121.107481 136.334705)scale(0.12 -0.12)\">\r\n     <use xlink:href=\"#DejaVuSans-71\"/>\r\n     <use x=\"77.490234\" xlink:href=\"#DejaVuSans-246\"/>\r\n     <use x=\"138.671875\" xlink:href=\"#DejaVuSans-116\"/>\r\n     <use x=\"177.880859\" xlink:href=\"#DejaVuSans-116\"/>\r\n     <use x=\"217.089844\" xlink:href=\"#DejaVuSans-105\"/>\r\n     <use x=\"244.873047\" xlink:href=\"#DejaVuSans-110\"/>\r\n     <use x=\"308.251953\" xlink:href=\"#DejaVuSans-103\"/>\r\n     <use x=\"371.728516\" xlink:href=\"#DejaVuSans-101\"/>\r\n     <use x=\"433.251953\" xlink:href=\"#DejaVuSans-110\"/>\r\n    </g>\r\n   </g>\r\n   <g id=\"text_3\">\r\n    <!-- Hamburg -->\r\n    <defs>\r\n     <path d=\"M 9.8125 72.90625 \r\nL 19.671875 72.90625 \r\nL 19.671875 43.015625 \r\nL 55.515625 43.015625 \r\nL 55.515625 72.90625 \r\nL 65.375 72.90625 \r\nL 65.375 0 \r\nL 55.515625 0 \r\nL 55.515625 34.71875 \r\nL 19.671875 34.71875 \r\nL 19.671875 0 \r\nL 9.8125 0 \r\nz\r\n\" id=\"DejaVuSans-72\"/>\r\n     <path d=\"M 34.28125 27.484375 \r\nQ 23.390625 27.484375 19.1875 25 \r\nQ 14.984375 22.515625 14.984375 16.5 \r\nQ 14.984375 11.71875 18.140625 8.90625 \r\nQ 21.296875 6.109375 26.703125 6.109375 \r\nQ 34.1875 6.109375 38.703125 11.40625 \r\nQ 43.21875 16.703125 43.21875 25.484375 \r\nL 43.21875 27.484375 \r\nz\r\nM 52.203125 31.203125 \r\nL 52.203125 0 \r\nL 43.21875 0 \r\nL 43.21875 8.296875 \r\nQ 40.140625 3.328125 35.546875 0.953125 \r\nQ 30.953125 -1.421875 24.3125 -1.421875 \r\nQ 15.921875 -1.421875 10.953125 3.296875 \r\nQ 6 8.015625 6 15.921875 \r\nQ 6 25.140625 12.171875 29.828125 \r\nQ 18.359375 34.515625 30.609375 34.515625 \r\nL 43.21875 34.515625 \r\nL 43.21875 35.40625 \r\nQ 43.21875 41.609375 39.140625 45 \r\nQ 35.0625 48.390625 27.6875 48.390625 \r\nQ 23 48.390625 18.546875 47.265625 \r\nQ 14.109375 46.140625 10.015625 43.890625 \r\nL 10.015625 52.203125 \r\nQ 14.9375 54.109375 19.578125 55.046875 \r\nQ 24.21875 56 28.609375 56 \r\nQ 40.484375 56 46.34375 49.84375 \r\nQ 52.203125 43.703125 52.203125 31.203125 \r\nz\r\n\" id=\"DejaVuSans-97\"/>\r\n     <path d=\"M 52 44.1875 \r\nQ 55.375 50.25 60.0625 53.125 \r\nQ 64.75 56 71.09375 56 \r\nQ 79.640625 56 84.28125 50.015625 \r\nQ 88.921875 44.046875 88.921875 33.015625 \r\nL 88.921875 0 \r\nL 79.890625 0 \r\nL 79.890625 32.71875 \r\nQ 79.890625 40.578125 77.09375 44.375 \r\nQ 74.3125 48.1875 68.609375 48.1875 \r\nQ 61.625 48.1875 57.5625 43.546875 \r\nQ 53.515625 38.921875 53.515625 30.90625 \r\nL 53.515625 0 \r\nL 44.484375 0 \r\nL 44.484375 32.71875 \r\nQ 44.484375 40.625 41.703125 44.40625 \r\nQ 38.921875 48.1875 33.109375 48.1875 \r\nQ 26.21875 48.1875 22.15625 43.53125 \r\nQ 18.109375 38.875 18.109375 30.90625 \r\nL 18.109375 0 \r\nL 9.078125 0 \r\nL 9.078125 54.6875 \r\nL 18.109375 54.6875 \r\nL 18.109375 46.1875 \r\nQ 21.1875 51.21875 25.484375 53.609375 \r\nQ 29.78125 56 35.6875 56 \r\nQ 41.65625 56 45.828125 52.96875 \r\nQ 50 49.953125 52 44.1875 \r\nz\r\n\" id=\"DejaVuSans-109\"/>\r\n     <path d=\"M 48.6875 27.296875 \r\nQ 48.6875 37.203125 44.609375 42.84375 \r\nQ 40.53125 48.484375 33.40625 48.484375 \r\nQ 26.265625 48.484375 22.1875 42.84375 \r\nQ 18.109375 37.203125 18.109375 27.296875 \r\nQ 18.109375 17.390625 22.1875 11.75 \r\nQ 26.265625 6.109375 33.40625 6.109375 \r\nQ 40.53125 6.109375 44.609375 11.75 \r\nQ 48.6875 17.390625 48.6875 27.296875 \r\nz\r\nM 18.109375 46.390625 \r\nQ 20.953125 51.265625 25.265625 53.625 \r\nQ 29.59375 56 35.59375 56 \r\nQ 45.5625 56 51.78125 48.09375 \r\nQ 58.015625 40.1875 58.015625 27.296875 \r\nQ 58.015625 14.40625 51.78125 6.484375 \r\nQ 45.5625 -1.421875 35.59375 -1.421875 \r\nQ 29.59375 -1.421875 25.265625 0.953125 \r\nQ 20.953125 3.328125 18.109375 8.203125 \r\nL 18.109375 0 \r\nL 9.078125 0 \r\nL 9.078125 75.984375 \r\nL 18.109375 75.984375 \r\nz\r\n\" id=\"DejaVuSans-98\"/>\r\n     <path d=\"M 8.5 21.578125 \r\nL 8.5 54.6875 \r\nL 17.484375 54.6875 \r\nL 17.484375 21.921875 \r\nQ 17.484375 14.15625 20.5 10.265625 \r\nQ 23.53125 6.390625 29.59375 6.390625 \r\nQ 36.859375 6.390625 41.078125 11.03125 \r\nQ 45.3125 15.671875 45.3125 23.6875 \r\nL 45.3125 54.6875 \r\nL 54.296875 54.6875 \r\nL 54.296875 0 \r\nL 45.3125 0 \r\nL 45.3125 8.40625 \r\nQ 42.046875 3.421875 37.71875 1 \r\nQ 33.40625 -1.421875 27.6875 -1.421875 \r\nQ 18.265625 -1.421875 13.375 4.4375 \r\nQ 8.5 10.296875 8.5 21.578125 \r\nz\r\nM 31.109375 56 \r\nz\r\n\" id=\"DejaVuSans-117\"/>\r\n     <path d=\"M 41.109375 46.296875 \r\nQ 39.59375 47.171875 37.8125 47.578125 \r\nQ 36.03125 48 33.890625 48 \r\nQ 26.265625 48 22.1875 43.046875 \r\nQ 18.109375 38.09375 18.109375 28.8125 \r\nL 18.109375 0 \r\nL 9.078125 0 \r\nL 9.078125 54.6875 \r\nL 18.109375 54.6875 \r\nL 18.109375 46.1875 \r\nQ 20.953125 51.171875 25.484375 53.578125 \r\nQ 30.03125 56 36.53125 56 \r\nQ 37.453125 56 38.578125 55.875 \r\nQ 39.703125 55.765625 41.0625 55.515625 \r\nz\r\n\" id=\"DejaVuSans-114\"/>\r\n    </defs>\r\n    <g transform=\"translate(122.926133 71.750519)scale(0.12 -0.12)\">\r\n     <use xlink:href=\"#DejaVuSans-72\"/>\r\n     <use x=\"75.195312\" xlink:href=\"#DejaVuSans-97\"/>\r\n     <use x=\"136.474609\" xlink:href=\"#DejaVuSans-109\"/>\r\n     <use x=\"233.886719\" xlink:href=\"#DejaVuSans-98\"/>\r\n     <use x=\"297.363281\" xlink:href=\"#DejaVuSans-117\"/>\r\n     <use x=\"360.742188\" xlink:href=\"#DejaVuSans-114\"/>\r\n     <use x=\"401.839844\" xlink:href=\"#DejaVuSans-103\"/>\r\n    </g>\r\n   </g>\r\n   <g id=\"text_4\">\r\n    <!-- Kiel -->\r\n    <g transform=\"translate(127.560658 47.194886)scale(0.12 -0.12)\">\r\n     <use xlink:href=\"#DejaVuSans-75\"/>\r\n     <use x=\"65.576172\" xlink:href=\"#DejaVuSans-105\"/>\r\n     <use x=\"93.359375\" xlink:href=\"#DejaVuSans-101\"/>\r\n     <use x=\"154.882812\" xlink:href=\"#DejaVuSans-108\"/>\r\n    </g>\r\n   </g>\r\n   <g id=\"text_5\">\r\n    <!-- Berlin -->\r\n    <defs>\r\n     <path d=\"M 19.671875 34.8125 \r\nL 19.671875 8.109375 \r\nL 35.5 8.109375 \r\nQ 43.453125 8.109375 47.28125 11.40625 \r\nQ 51.125 14.703125 51.125 21.484375 \r\nQ 51.125 28.328125 47.28125 31.5625 \r\nQ 43.453125 34.8125 35.5 34.8125 \r\nz\r\nM 19.671875 64.796875 \r\nL 19.671875 42.828125 \r\nL 34.28125 42.828125 \r\nQ 41.5 42.828125 45.03125 45.53125 \r\nQ 48.578125 48.25 48.578125 53.8125 \r\nQ 48.578125 59.328125 45.03125 62.0625 \r\nQ 41.5 64.796875 34.28125 64.796875 \r\nz\r\nM 9.8125 72.90625 \r\nL 35.015625 72.90625 \r\nQ 46.296875 72.90625 52.390625 68.21875 \r\nQ 58.5 63.53125 58.5 54.890625 \r\nQ 58.5 48.1875 55.375 44.234375 \r\nQ 52.25 40.28125 46.1875 39.3125 \r\nQ 53.46875 37.75 57.5 32.78125 \r\nQ 61.53125 27.828125 61.53125 20.40625 \r\nQ 61.53125 10.640625 54.890625 5.3125 \r\nQ 48.25 0 35.984375 0 \r\nL 9.8125 0 \r\nz\r\n\" id=\"DejaVuSans-66\"/>\r\n    </defs>\r\n    <g transform=\"translate(232.214629 104.671629)scale(0.12 -0.12)\">\r\n     <use xlink:href=\"#DejaVuSans-66\"/>\r\n     <use x=\"68.603516\" xlink:href=\"#DejaVuSans-101\"/>\r\n     <use x=\"130.126953\" xlink:href=\"#DejaVuSans-114\"/>\r\n     <use x=\"171.240234\" xlink:href=\"#DejaVuSans-108\"/>\r\n     <use x=\"199.023438\" xlink:href=\"#DejaVuSans-105\"/>\r\n     <use x=\"226.806641\" xlink:href=\"#DejaVuSans-110\"/>\r\n    </g>\r\n   </g>\r\n   <g id=\"text_6\">\r\n    <!-- Leipzig -->\r\n    <defs>\r\n     <path d=\"M 9.8125 72.90625 \r\nL 19.671875 72.90625 \r\nL 19.671875 8.296875 \r\nL 55.171875 8.296875 \r\nL 55.171875 0 \r\nL 9.8125 0 \r\nz\r\n\" id=\"DejaVuSans-76\"/>\r\n     <path d=\"M 18.109375 8.203125 \r\nL 18.109375 -20.796875 \r\nL 9.078125 -20.796875 \r\nL 9.078125 54.6875 \r\nL 18.109375 54.6875 \r\nL 18.109375 46.390625 \r\nQ 20.953125 51.265625 25.265625 53.625 \r\nQ 29.59375 56 35.59375 56 \r\nQ 45.5625 56 51.78125 48.09375 \r\nQ 58.015625 40.1875 58.015625 27.296875 \r\nQ 58.015625 14.40625 51.78125 6.484375 \r\nQ 45.5625 -1.421875 35.59375 -1.421875 \r\nQ 29.59375 -1.421875 25.265625 0.953125 \r\nQ 20.953125 3.328125 18.109375 8.203125 \r\nz\r\nM 48.6875 27.296875 \r\nQ 48.6875 37.203125 44.609375 42.84375 \r\nQ 40.53125 48.484375 33.40625 48.484375 \r\nQ 26.265625 48.484375 22.1875 42.84375 \r\nQ 18.109375 37.203125 18.109375 27.296875 \r\nQ 18.109375 17.390625 22.1875 11.75 \r\nQ 26.265625 6.109375 33.40625 6.109375 \r\nQ 40.53125 6.109375 44.609375 11.75 \r\nQ 48.6875 17.390625 48.6875 27.296875 \r\nz\r\n\" id=\"DejaVuSans-112\"/>\r\n     <path d=\"M 5.515625 54.6875 \r\nL 48.1875 54.6875 \r\nL 48.1875 46.484375 \r\nL 14.40625 7.171875 \r\nL 48.1875 7.171875 \r\nL 48.1875 0 \r\nL 4.296875 0 \r\nL 4.296875 8.203125 \r\nL 38.09375 47.515625 \r\nL 5.515625 47.515625 \r\nz\r\n\" id=\"DejaVuSans-122\"/>\r\n    </defs>\r\n    <g transform=\"translate(198.967504 142.507892)scale(0.12 -0.12)\">\r\n     <use xlink:href=\"#DejaVuSans-76\"/>\r\n     <use x=\"55.697266\" xlink:href=\"#DejaVuSans-101\"/>\r\n     <use x=\"117.220703\" xlink:href=\"#DejaVuSans-105\"/>\r\n     <use x=\"145.003906\" xlink:href=\"#DejaVuSans-112\"/>\r\n     <use x=\"208.480469\" xlink:href=\"#DejaVuSans-122\"/>\r\n     <use x=\"260.970703\" xlink:href=\"#DejaVuSans-105\"/>\r\n     <use x=\"288.753906\" xlink:href=\"#DejaVuSans-103\"/>\r\n    </g>\r\n   </g>\r\n   <g id=\"text_7\">\r\n    <!-- Nürnberg -->\r\n    <defs>\r\n     <path d=\"M 9.8125 72.90625 \r\nL 23.09375 72.90625 \r\nL 55.421875 11.921875 \r\nL 55.421875 72.90625 \r\nL 64.984375 72.90625 \r\nL 64.984375 0 \r\nL 51.703125 0 \r\nL 19.390625 60.984375 \r\nL 19.390625 0 \r\nL 9.8125 0 \r\nz\r\n\" id=\"DejaVuSans-78\"/>\r\n     <path d=\"M 8.5 21.578125 \r\nL 8.5 54.6875 \r\nL 17.484375 54.6875 \r\nL 17.484375 21.921875 \r\nQ 17.484375 14.15625 20.5 10.265625 \r\nQ 23.53125 6.390625 29.59375 6.390625 \r\nQ 36.859375 6.390625 41.078125 11.03125 \r\nQ 45.3125 15.671875 45.3125 23.6875 \r\nL 45.3125 54.6875 \r\nL 54.296875 54.6875 \r\nL 54.296875 0 \r\nL 45.3125 0 \r\nL 45.3125 8.40625 \r\nQ 42.046875 3.421875 37.71875 1 \r\nQ 33.40625 -1.421875 27.6875 -1.421875 \r\nQ 18.265625 -1.421875 13.375 4.4375 \r\nQ 8.5 10.296875 8.5 21.578125 \r\nz\r\nM 31.109375 56 \r\nz\r\nM 35.59375 75.78125 \r\nL 45.515625 75.78125 \r\nL 45.515625 65.921875 \r\nL 35.59375 65.921875 \r\nz\r\nM 16.5 75.78125 \r\nL 26.421875 75.78125 \r\nL 26.421875 65.921875 \r\nL 16.5 65.921875 \r\nz\r\n\" id=\"DejaVuSans-252\"/>\r\n    </defs>\r\n    <g transform=\"translate(157.608362 202.780691)scale(0.12 -0.12)\">\r\n     <use xlink:href=\"#DejaVuSans-78\"/>\r\n     <use x=\"74.804688\" xlink:href=\"#DejaVuSans-252\"/>\r\n     <use x=\"138.183594\" xlink:href=\"#DejaVuSans-114\"/>\r\n     <use x=\"179.28125\" xlink:href=\"#DejaVuSans-110\"/>\r\n     <use x=\"242.660156\" xlink:href=\"#DejaVuSans-98\"/>\r\n     <use x=\"306.136719\" xlink:href=\"#DejaVuSans-101\"/>\r\n     <use x=\"367.660156\" xlink:href=\"#DejaVuSans-114\"/>\r\n     <use x=\"408.757812\" xlink:href=\"#DejaVuSans-103\"/>\r\n    </g>\r\n   </g>\r\n   <g id=\"text_8\">\r\n    <!-- München -->\r\n    <defs>\r\n     <path d=\"M 9.8125 72.90625 \r\nL 24.515625 72.90625 \r\nL 43.109375 23.296875 \r\nL 61.8125 72.90625 \r\nL 76.515625 72.90625 \r\nL 76.515625 0 \r\nL 66.890625 0 \r\nL 66.890625 64.015625 \r\nL 48.09375 14.015625 \r\nL 38.1875 14.015625 \r\nL 19.390625 64.015625 \r\nL 19.390625 0 \r\nL 9.8125 0 \r\nz\r\n\" id=\"DejaVuSans-77\"/>\r\n     <path d=\"M 48.78125 52.59375 \r\nL 48.78125 44.1875 \r\nQ 44.96875 46.296875 41.140625 47.34375 \r\nQ 37.3125 48.390625 33.40625 48.390625 \r\nQ 24.65625 48.390625 19.8125 42.84375 \r\nQ 14.984375 37.3125 14.984375 27.296875 \r\nQ 14.984375 17.28125 19.8125 11.734375 \r\nQ 24.65625 6.203125 33.40625 6.203125 \r\nQ 37.3125 6.203125 41.140625 7.25 \r\nQ 44.96875 8.296875 48.78125 10.40625 \r\nL 48.78125 2.09375 \r\nQ 45.015625 0.34375 40.984375 -0.53125 \r\nQ 36.96875 -1.421875 32.421875 -1.421875 \r\nQ 20.0625 -1.421875 12.78125 6.34375 \r\nQ 5.515625 14.109375 5.515625 27.296875 \r\nQ 5.515625 40.671875 12.859375 48.328125 \r\nQ 20.21875 56 33.015625 56 \r\nQ 37.15625 56 41.109375 55.140625 \r\nQ 45.0625 54.296875 48.78125 52.59375 \r\nz\r\n\" id=\"DejaVuSans-99\"/>\r\n     <path d=\"M 54.890625 33.015625 \r\nL 54.890625 0 \r\nL 45.90625 0 \r\nL 45.90625 32.71875 \r\nQ 45.90625 40.484375 42.875 44.328125 \r\nQ 39.84375 48.1875 33.796875 48.1875 \r\nQ 26.515625 48.1875 22.3125 43.546875 \r\nQ 18.109375 38.921875 18.109375 30.90625 \r\nL 18.109375 0 \r\nL 9.078125 0 \r\nL 9.078125 75.984375 \r\nL 18.109375 75.984375 \r\nL 18.109375 46.1875 \r\nQ 21.34375 51.125 25.703125 53.5625 \r\nQ 30.078125 56 35.796875 56 \r\nQ 45.21875 56 50.046875 50.171875 \r\nQ 54.890625 44.34375 54.890625 33.015625 \r\nz\r\n\" id=\"DejaVuSans-104\"/>\r\n    </defs>\r\n    <g transform=\"translate(173.528755 244.867614)scale(0.12 -0.12)\">\r\n     <use xlink:href=\"#DejaVuSans-77\"/>\r\n     <use x=\"86.279297\" xlink:href=\"#DejaVuSans-252\"/>\r\n     <use x=\"149.658203\" xlink:href=\"#DejaVuSans-110\"/>\r\n     <use x=\"213.037109\" xlink:href=\"#DejaVuSans-99\"/>\r\n     <use x=\"268.017578\" xlink:href=\"#DejaVuSans-104\"/>\r\n     <use x=\"331.396484\" xlink:href=\"#DejaVuSans-101\"/>\r\n     <use x=\"392.919922\" xlink:href=\"#DejaVuSans-110\"/>\r\n    </g>\r\n   </g>\r\n   <g id=\"text_9\">\r\n    <!-- Esslingen -->\r\n    <defs>\r\n     <path d=\"M 9.8125 72.90625 \r\nL 55.90625 72.90625 \r\nL 55.90625 64.59375 \r\nL 19.671875 64.59375 \r\nL 19.671875 43.015625 \r\nL 54.390625 43.015625 \r\nL 54.390625 34.71875 \r\nL 19.671875 34.71875 \r\nL 19.671875 8.296875 \r\nL 56.78125 8.296875 \r\nL 56.78125 0 \r\nL 9.8125 0 \r\nz\r\n\" id=\"DejaVuSans-69\"/>\r\n     <path d=\"M 44.28125 53.078125 \r\nL 44.28125 44.578125 \r\nQ 40.484375 46.53125 36.375 47.5 \r\nQ 32.28125 48.484375 27.875 48.484375 \r\nQ 21.1875 48.484375 17.84375 46.4375 \r\nQ 14.5 44.390625 14.5 40.28125 \r\nQ 14.5 37.15625 16.890625 35.375 \r\nQ 19.28125 33.59375 26.515625 31.984375 \r\nL 29.59375 31.296875 \r\nQ 39.15625 29.25 43.1875 25.515625 \r\nQ 47.21875 21.78125 47.21875 15.09375 \r\nQ 47.21875 7.46875 41.1875 3.015625 \r\nQ 35.15625 -1.421875 24.609375 -1.421875 \r\nQ 20.21875 -1.421875 15.453125 -0.5625 \r\nQ 10.6875 0.296875 5.421875 2 \r\nL 5.421875 11.28125 \r\nQ 10.40625 8.6875 15.234375 7.390625 \r\nQ 20.0625 6.109375 24.8125 6.109375 \r\nQ 31.15625 6.109375 34.5625 8.28125 \r\nQ 37.984375 10.453125 37.984375 14.40625 \r\nQ 37.984375 18.0625 35.515625 20.015625 \r\nQ 33.0625 21.96875 24.703125 23.78125 \r\nL 21.578125 24.515625 \r\nQ 13.234375 26.265625 9.515625 29.90625 \r\nQ 5.8125 33.546875 5.8125 39.890625 \r\nQ 5.8125 47.609375 11.28125 51.796875 \r\nQ 16.75 56 26.8125 56 \r\nQ 31.78125 56 36.171875 55.265625 \r\nQ 40.578125 54.546875 44.28125 53.078125 \r\nz\r\n\" id=\"DejaVuSans-115\"/>\r\n    </defs>\r\n    <g transform=\"translate(101.031996 225.509681)scale(0.12 -0.12)\">\r\n     <use xlink:href=\"#DejaVuSans-69\"/>\r\n     <use x=\"63.183594\" xlink:href=\"#DejaVuSans-115\"/>\r\n     <use x=\"115.283203\" xlink:href=\"#DejaVuSans-115\"/>\r\n     <use x=\"167.382812\" xlink:href=\"#DejaVuSans-108\"/>\r\n     <use x=\"195.166016\" xlink:href=\"#DejaVuSans-105\"/>\r\n     <use x=\"222.949219\" xlink:href=\"#DejaVuSans-110\"/>\r\n     <use x=\"286.328125\" xlink:href=\"#DejaVuSans-103\"/>\r\n     <use x=\"349.804688\" xlink:href=\"#DejaVuSans-101\"/>\r\n     <use x=\"411.328125\" xlink:href=\"#DejaVuSans-110\"/>\r\n    </g>\r\n   </g>\r\n   <g id=\"text_10\">\r\n    <!-- Frankfurt -->\r\n    <defs>\r\n     <path d=\"M 9.8125 72.90625 \r\nL 51.703125 72.90625 \r\nL 51.703125 64.59375 \r\nL 19.671875 64.59375 \r\nL 19.671875 43.109375 \r\nL 48.578125 43.109375 \r\nL 48.578125 34.8125 \r\nL 19.671875 34.8125 \r\nL 19.671875 0 \r\nL 9.8125 0 \r\nz\r\n\" id=\"DejaVuSans-70\"/>\r\n     <path d=\"M 9.078125 75.984375 \r\nL 18.109375 75.984375 \r\nL 18.109375 31.109375 \r\nL 44.921875 54.6875 \r\nL 56.390625 54.6875 \r\nL 27.390625 29.109375 \r\nL 57.625 0 \r\nL 45.90625 0 \r\nL 18.109375 26.703125 \r\nL 18.109375 0 \r\nL 9.078125 0 \r\nz\r\n\" id=\"DejaVuSans-107\"/>\r\n     <path d=\"M 37.109375 75.984375 \r\nL 37.109375 68.5 \r\nL 28.515625 68.5 \r\nQ 23.6875 68.5 21.796875 66.546875 \r\nQ 19.921875 64.59375 19.921875 59.515625 \r\nL 19.921875 54.6875 \r\nL 34.71875 54.6875 \r\nL 34.71875 47.703125 \r\nL 19.921875 47.703125 \r\nL 19.921875 0 \r\nL 10.890625 0 \r\nL 10.890625 47.703125 \r\nL 2.296875 47.703125 \r\nL 2.296875 54.6875 \r\nL 10.890625 54.6875 \r\nL 10.890625 58.5 \r\nQ 10.890625 67.625 15.140625 71.796875 \r\nQ 19.390625 75.984375 28.609375 75.984375 \r\nz\r\n\" id=\"DejaVuSans-102\"/>\r\n    </defs>\r\n    <g transform=\"translate(80.464293 181.143532)scale(0.12 -0.12)\">\r\n     <use xlink:href=\"#DejaVuSans-70\"/>\r\n     <use x=\"57.410156\" xlink:href=\"#DejaVuSans-114\"/>\r\n     <use x=\"98.523438\" xlink:href=\"#DejaVuSans-97\"/>\r\n     <use x=\"159.802734\" xlink:href=\"#DejaVuSans-110\"/>\r\n     <use x=\"223.181641\" xlink:href=\"#DejaVuSans-107\"/>\r\n     <use x=\"281.091797\" xlink:href=\"#DejaVuSans-102\"/>\r\n     <use x=\"316.296875\" xlink:href=\"#DejaVuSans-117\"/>\r\n     <use x=\"379.675781\" xlink:href=\"#DejaVuSans-114\"/>\r\n     <use x=\"420.789062\" xlink:href=\"#DejaVuSans-116\"/>\r\n    </g>\r\n   </g>\r\n  </g>\r\n  <g id=\"text_11\">\r\n   <!-- length = 1844 -->\r\n   <defs>\r\n    <path id=\"DejaVuSans-32\"/>\r\n    <path d=\"M 10.59375 45.40625 \r\nL 73.1875 45.40625 \r\nL 73.1875 37.203125 \r\nL 10.59375 37.203125 \r\nz\r\nM 10.59375 25.484375 \r\nL 73.1875 25.484375 \r\nL 73.1875 17.1875 \r\nL 10.59375 17.1875 \r\nz\r\n\" id=\"DejaVuSans-61\"/>\r\n    <path d=\"M 12.40625 8.296875 \r\nL 28.515625 8.296875 \r\nL 28.515625 63.921875 \r\nL 10.984375 60.40625 \r\nL 10.984375 69.390625 \r\nL 28.421875 72.90625 \r\nL 38.28125 72.90625 \r\nL 38.28125 8.296875 \r\nL 54.390625 8.296875 \r\nL 54.390625 0 \r\nL 12.40625 0 \r\nz\r\n\" id=\"DejaVuSans-49\"/>\r\n    <path d=\"M 31.78125 34.625 \r\nQ 24.75 34.625 20.71875 30.859375 \r\nQ 16.703125 27.09375 16.703125 20.515625 \r\nQ 16.703125 13.921875 20.71875 10.15625 \r\nQ 24.75 6.390625 31.78125 6.390625 \r\nQ 38.8125 6.390625 42.859375 10.171875 \r\nQ 46.921875 13.96875 46.921875 20.515625 \r\nQ 46.921875 27.09375 42.890625 30.859375 \r\nQ 38.875 34.625 31.78125 34.625 \r\nz\r\nM 21.921875 38.8125 \r\nQ 15.578125 40.375 12.03125 44.71875 \r\nQ 8.5 49.078125 8.5 55.328125 \r\nQ 8.5 64.0625 14.71875 69.140625 \r\nQ 20.953125 74.21875 31.78125 74.21875 \r\nQ 42.671875 74.21875 48.875 69.140625 \r\nQ 55.078125 64.0625 55.078125 55.328125 \r\nQ 55.078125 49.078125 51.53125 44.71875 \r\nQ 48 40.375 41.703125 38.8125 \r\nQ 48.828125 37.15625 52.796875 32.3125 \r\nQ 56.78125 27.484375 56.78125 20.515625 \r\nQ 56.78125 9.90625 50.3125 4.234375 \r\nQ 43.84375 -1.421875 31.78125 -1.421875 \r\nQ 19.734375 -1.421875 13.25 4.234375 \r\nQ 6.78125 9.90625 6.78125 20.515625 \r\nQ 6.78125 27.484375 10.78125 32.3125 \r\nQ 14.796875 37.15625 21.921875 38.8125 \r\nz\r\nM 18.3125 54.390625 \r\nQ 18.3125 48.734375 21.84375 45.5625 \r\nQ 25.390625 42.390625 31.78125 42.390625 \r\nQ 38.140625 42.390625 41.71875 45.5625 \r\nQ 45.3125 48.734375 45.3125 54.390625 \r\nQ 45.3125 60.0625 41.71875 63.234375 \r\nQ 38.140625 66.40625 31.78125 66.40625 \r\nQ 25.390625 66.40625 21.84375 63.234375 \r\nQ 18.3125 60.0625 18.3125 54.390625 \r\nz\r\n\" id=\"DejaVuSans-56\"/>\r\n    <path d=\"M 37.796875 64.3125 \r\nL 12.890625 25.390625 \r\nL 37.796875 25.390625 \r\nz\r\nM 35.203125 72.90625 \r\nL 47.609375 72.90625 \r\nL 47.609375 25.390625 \r\nL 58.015625 25.390625 \r\nL 58.015625 17.1875 \r\nL 47.609375 17.1875 \r\nL 47.609375 0 \r\nL 37.796875 0 \r\nL 37.796875 17.1875 \r\nL 4.890625 17.1875 \r\nL 4.890625 26.703125 \r\nz\r\n\" id=\"DejaVuSans-52\"/>\r\n   </defs>\r\n   <g transform=\"translate(68.269769 17.837812)scale(0.14 -0.14)\">\r\n    <use xlink:href=\"#DejaVuSans-108\"/>\r\n    <use x=\"27.783203\" xlink:href=\"#DejaVuSans-101\"/>\r\n    <use x=\"89.306641\" xlink:href=\"#DejaVuSans-110\"/>\r\n    <use x=\"152.685547\" xlink:href=\"#DejaVuSans-103\"/>\r\n    <use x=\"216.162109\" xlink:href=\"#DejaVuSans-116\"/>\r\n    <use x=\"255.371094\" xlink:href=\"#DejaVuSans-104\"/>\r\n    <use x=\"318.75\" xlink:href=\"#DejaVuSans-32\"/>\r\n    <use x=\"350.537109\" xlink:href=\"#DejaVuSans-61\"/>\r\n    <use x=\"434.326172\" xlink:href=\"#DejaVuSans-32\"/>\r\n    <use x=\"466.113281\" xlink:href=\"#DejaVuSans-49\"/>\r\n    <use x=\"529.736328\" xlink:href=\"#DejaVuSans-56\"/>\r\n    <use x=\"593.359375\" xlink:href=\"#DejaVuSans-52\"/>\r\n    <use x=\"656.982422\" xlink:href=\"#DejaVuSans-52\"/>\r\n   </g>\r\n  </g>\r\n </g>\r\n <defs>\r\n  <clipPath id=\"p57974a4d1a\">\r\n   <rect height=\"217.44\" width=\"226.82485\" x=\"10.7\" y=\"36\"/>\r\n  </clipPath>\r\n </defs>\r\n</svg>\r\n",
      "image/png": "[encoded data removed]"
     },
     "metadata": {
      "needs_background": "light"
     }
    }
   ],
   "source": [
    "name = ['Berlin','Esslingen','Frankfurt','Goettingen','Hamburg','Kiel','Koeln','Leipzig','Muenchen',\n",
    "'Nuernberg']\n",
    "print(name)\n",
    "pos = np.array([\n",
    "[13.4114,52.52340],\n",
    "[ 9.3071,48.74275],\n",
    "[ 8.6636,50.13083],\n",
    "[ 9.9352,51.53276],\n",
    "[ 9.9921,53.55340],  \n",
    "[10.1371,54.32167],\n",
    "[ 6.9599,50.93836], \n",
    "[12.3712,51.33962], \n",
    "[11.5753,48.13710],\n",
    "[11.0772,49.45387] \n",
    "])\n",
    "\n",
    "# we visualize the solution of simulated annealing\n",
    "SA_res = tspSimulatedAnnealing(dist, np.arange(10), 0.99, 100, 10)\n",
    "SA_pos = np.array([pos[i] for i in SA_res])\n",
    "SA_name = [cityDictionary[waypoint] for waypoint in SA_res]\n",
    "tspDraw(dist, SA_res, SA_pos, SA_name)"
   ]
  },
  {
   "cell_type": "markdown",
   "metadata": {},
   "source": [
    "# Evaluation\n",
    "The only method where we can be sure that we have found the optimal solution of the TSP, is the brute force algorithm.\n",
    "With the brute force algorithm, however, we cannot solve problems with much more than 10 cities, given the current performance of the computers.\n",
    "Nearly optimal solutions can be determined with the 2-Opt-algorithm or with Simulated Annealing."
   ]
  },
  {
   "cell_type": "markdown",
   "metadata": {},
   "source": [
    "# Embedding\n",
    "Geographical locations are based on the fact that the earth can be approximated well by a sphere.\n",
    "In mathematics, we therefore speak of spherical coordinates.\n",
    "The shortest connection between two points on the surface of a sphere is called an orthodrome.\n",
    "An orthodrome always runs on a great-circle, i.e. on a circle through the centre of the earth.\n",
    "The length of an orthodrome is called great-circle distance or orthodromic distance.\n",
    "The distances between two cities can be determined by the length of the orthodrome on a sphere with radius\n",
    "$6.370$ km."
   ]
  },
  {
   "cell_type": "markdown",
   "metadata": {},
   "source": [
    "<div class=\"alert alert-block alert-info\">\n",
    "    \n",
    "### Task 11: Distance on sphere <font color=red>(2 points)</font>\n",
    "\n",
    "Implement the function `tspDistOnSphere()`.\n",
    "Test it with the example of 10 cities in Germany and compare your results with the distance matrix in the first example.\n",
    "</div>"
   ]
  },
  {
   "cell_type": "markdown",
   "metadata": {},
   "source": [
    "<div class=\"alert alert-block alert-success\">\n",
    "    \n",
    "<b>Solution of task 11</b>\n",
    "\n",
    "Implementation of function `tspDistOnSphere()`:\n",
    "</div>"
   ]
  },
  {
   "cell_type": "code",
   "execution_count": 40,
   "metadata": {},
   "outputs": [],
   "source": [
    "# earth radius constant\n",
    "r_earth = 6371"
   ]
  },
  {
   "cell_type": "code",
   "execution_count": 41,
   "metadata": {},
   "outputs": [],
   "source": [
    "def spherical2vec(theta: float, phi: float, r: float) -> Vector:\n",
    "    \"\"\" Returns a cartesian vector from spherical coordinates \"\"\"\n",
    "    return np.array([r*sin(theta)*cos(phi),\n",
    "                     r*sin(theta)*sin(phi),\n",
    "                     r*cos(theta)])\n",
    "\n",
    "def unit_vector(vector: Vector) -> Vector:\n",
    "    \"\"\" Returns the unit vector of the vector. \"\"\"\n",
    "    return vector / np.linalg.norm(vector)\n",
    "\n",
    "def angle_between(v1: Vector, v2: Vector) -> float:\n",
    "    \"\"\" Returns the angle in radians between vectors 'v1' and 'v2' \"\"\"\n",
    "    v1_u = unit_vector(v1)\n",
    "    v2_u = unit_vector(v2)\n",
    "    return np.arccos(np.clip(np.dot(v1_u, v2_u), -1.0, 1.0))"
   ]
  },
  {
   "cell_type": "code",
   "execution_count": 42,
   "metadata": {},
   "outputs": [],
   "source": [
    "def tspDistOnSphere(lng1: float, lat1: float, lng2: float, lat2: float) -> float:\n",
    "    \"\"\" Returns the spherical distance from spherical coordinates \"\"\"\n",
    "    if lng1 == lng2 and lat1 == lat2:\n",
    "        return 0\n",
    "    theta1, phi1 = np.pi/2 - deg2rad(lat1), deg2rad(lng1)\n",
    "    theta2, phi2 = np.pi/2 - deg2rad(lat2), deg2rad(lng2)\n",
    "    v1 = spherical2vec(theta1, phi1, r_earth)\n",
    "    v2 = spherical2vec(theta2, phi2, r_earth)\n",
    "    alpha = angle_between(v1, v2)\n",
    "    return r_earth*alpha"
   ]
  },
  {
   "cell_type": "markdown",
   "metadata": {},
   "source": [
    "<div class=\"alert alert-block alert-success\">\n",
    "Testing with the example of 10 cities in Germany:\n",
    "</div>"
   ]
  },
  {
   "cell_type": "code",
   "execution_count": 43,
   "metadata": {},
   "outputs": [
    {
     "output_type": "stream",
     "name": "stdout",
     "text": [
      "[  0 510 424 262 256 295 478 150 505 378]\n[510   0 161 313 537 623 297 362 180 151]\n[424 161   0 180 391 477 150 293 307 189]\n[262 313 180   0 225 310 217 170 395 245]\n[256 537 391 225   0  86 357 294 612 462]\n[295 623 477 310  86   0 433 364 695 545]\n[478 297 150 217 357 433   0 380 456 336]\n[150 362 293 170 294 364 380   0 361 229]\n[505 180 307 395 612 695 456 361   0 151]\n[378 151 189 245 462 545 336 229 151   0]\n"
     ]
    }
   ],
   "source": [
    "my_dist = np.array([[round(tspDistOnSphere(*city1, *city2)) for city1 in pos] for city2 in pos], dtype='uint16')\n",
    "print(*my_dist, sep=\"\\n\")"
   ]
  },
  {
   "cell_type": "markdown",
   "metadata": {},
   "source": [
    "# Literature\n",
    " - [https://en.wikipedia.org/wiki/Travelling_salesman_problem](https://en.wikipedia.org/wiki/Travelling_salesman_problem)\n",
    " - [https://en.wikipedia.org/wiki/2-opt](https://en.wikipedia.org/wiki/2-opt)\n",
    " - [https://en.wikipedia.org/wiki/Simulated_annealing](https://en.wikipedia.org/wiki/Simulated_annealing)\n",
    " - [https://en.wikipedia.org/wiki/Great-circle_distance](https://en.wikipedia.org/wiki/Great-circle_distance)\n",
    " - [https://developers.google.com/optimization/routing/tsp](https://developers.google.com/optimization/routing/tsp)"
   ]
  }
 ],
 "metadata": {
  "kernelspec": {
   "display_name": "Python 3",
   "language": "python",
   "name": "python3"
  },
  "language_info": {
   "codemirror_mode": {
    "name": "ipython",
    "version": 3
   },
   "file_extension": ".py",
   "mimetype": "text/x-python",
   "name": "python",
   "nbconvert_exporter": "python",
   "pygments_lexer": "ipython3",
   "version": "3.7.6-final"
  },
  "toc": {
   "base_numbering": 1,
   "nav_menu": {},
   "number_sections": true,
   "sideBar": true,
   "skip_h1_title": false,
   "title_cell": "Project tsp",
   "title_sidebar": "Project tsp",
   "toc_cell": true,
   "toc_position": {
    "height": "570.4px",
    "left": "308px",
    "top": "110.383px",
    "width": "230px"
   },
   "toc_section_display": true,
   "toc_window_display": true
  }
 },
 "nbformat": 4,
 "nbformat_minor": 2
}