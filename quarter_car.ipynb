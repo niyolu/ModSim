{
 "cells": [
  {
   "cell_type": "markdown",
   "metadata": {
    "toc": true
   },
   "source": [
    "<h1>Project quarter car<span class=\"tocSkip\"></span></h1>\n",
    "<div class=\"toc\"><ul class=\"toc-item\"><li><span><a href=\"#Modelling\" data-toc-modified-id=\"Modelling-1\"><span class=\"toc-item-num\">1&nbsp;&nbsp;</span>Modelling</a></span></li><li><span><a href=\"#Numerical-treatment\" data-toc-modified-id=\"Numerical-treatment-2\"><span class=\"toc-item-num\">2&nbsp;&nbsp;</span>Numerical treatment</a></span><ul class=\"toc-item\"><li><span><a href=\"#Coordinate-system\" data-toc-modified-id=\"Coordinate-system-2.1\"><span class=\"toc-item-num\">2.1&nbsp;&nbsp;</span>Coordinate system</a></span></li><li><span><a href=\"#Test-track\" data-toc-modified-id=\"Test-track-2.2\"><span class=\"toc-item-num\">2.2&nbsp;&nbsp;</span>Test track</a></span></li><li><span><a href=\"#Equation-of-motion\" data-toc-modified-id=\"Equation-of-motion-2.3\"><span class=\"toc-item-num\">2.3&nbsp;&nbsp;</span>Equation of motion</a></span></li><li><span><a href=\"#Analytic-solution\" data-toc-modified-id=\"Analytic-solution-2.4\"><span class=\"toc-item-num\">2.4&nbsp;&nbsp;</span>Analytic solution</a></span><ul class=\"toc-item\"><li><span><a href=\"#Task-1:-Homogeneous-equation-(2-points)\" data-toc-modified-id=\"Task-1:-Homogeneous-equation-(2-points)-2.4.1\"><span class=\"toc-item-num\">2.4.1&nbsp;&nbsp;</span>Task 1: Homogeneous equation <font color=\"red\">(2 points)</font></a></span></li><li><span><a href=\"#Task-2:-Initial-value-problem-(2-points)\" data-toc-modified-id=\"Task-2:-Initial-value-problem-(2-points)-2.4.2\"><span class=\"toc-item-num\">2.4.2&nbsp;&nbsp;</span>Task 2: Initial value problem <font color=\"red\">(2 points)</font></a></span></li></ul></li><li><span><a href=\"#Numerical-solution\" data-toc-modified-id=\"Numerical-solution-2.5\"><span class=\"toc-item-num\">2.5&nbsp;&nbsp;</span>Numerical solution</a></span><ul class=\"toc-item\"><li><span><a href=\"#Task-3:-State-variables-(2-points)\" data-toc-modified-id=\"Task-3:-State-variables-(2-points)-2.5.1\"><span class=\"toc-item-num\">2.5.1&nbsp;&nbsp;</span>Task 3: State variables <font color=\"red\">(2 points)</font></a></span></li></ul></li></ul></li><li><span><a href=\"#Implementation\" data-toc-modified-id=\"Implementation-3\"><span class=\"toc-item-num\">3&nbsp;&nbsp;</span>Implementation</a></span><ul class=\"toc-item\"><li><span><a href=\"#Test-track\" data-toc-modified-id=\"Test-track-3.1\"><span class=\"toc-item-num\">3.1&nbsp;&nbsp;</span>Test track</a></span><ul class=\"toc-item\"><li><span><a href=\"#Task-4:-Rumble-strip-(2-points)\" data-toc-modified-id=\"Task-4:-Rumble-strip-(2-points)-3.1.1\"><span class=\"toc-item-num\">3.1.1&nbsp;&nbsp;</span>Task 4: Rumble strip <font color=\"red\">(2 points)</font></a></span></li></ul></li><li><span><a href=\"#Euler's-method\" data-toc-modified-id=\"Euler's-method-3.2\"><span class=\"toc-item-num\">3.2&nbsp;&nbsp;</span>Euler's method</a></span><ul class=\"toc-item\"><li><span><a href=\"#Task-5:-Quarter-car-ode-(1-point)\" data-toc-modified-id=\"Task-5:-Quarter-car-ode-(1-point)-3.2.1\"><span class=\"toc-item-num\">3.2.1&nbsp;&nbsp;</span>Task 5: Quarter car ode <font color=\"red\">(1 point)</font></a></span></li><li><span><a href=\"#Task-6:-Euler's-method-(3-points)\" data-toc-modified-id=\"Task-6:-Euler's-method-(3-points)-3.2.2\"><span class=\"toc-item-num\">3.2.2&nbsp;&nbsp;</span>Task 6: Euler's method <font color=\"red\">(3 points)</font></a></span></li></ul></li></ul></li><li><span><a href=\"#Visualization\" data-toc-modified-id=\"Visualization-4\"><span class=\"toc-item-num\">4&nbsp;&nbsp;</span>Visualization</a></span><ul class=\"toc-item\"><li><span><a href=\"#Quarter-car\" data-toc-modified-id=\"Quarter-car-4.1\"><span class=\"toc-item-num\">4.1&nbsp;&nbsp;</span>Quarter car</a></span><ul class=\"toc-item\"><li><span><a href=\"#Task-7:-Animation-(2-points)\" data-toc-modified-id=\"Task-7:-Animation-(2-points)-4.1.1\"><span class=\"toc-item-num\">4.1.1&nbsp;&nbsp;</span>Task 7: Animation <font color=\"red\">(2 points)</font></a></span></li></ul></li></ul></li><li><span><a href=\"#Evaluation\" data-toc-modified-id=\"Evaluation-5\"><span class=\"toc-item-num\">5&nbsp;&nbsp;</span>Evaluation</a></span><ul class=\"toc-item\"><li><span><a href=\"#Verification\" data-toc-modified-id=\"Verification-5.1\"><span class=\"toc-item-num\">5.1&nbsp;&nbsp;</span>Verification</a></span><ul class=\"toc-item\"><li><span><a href=\"#Task-8:-Code-generation-(2-points)\" data-toc-modified-id=\"Task-8:-Code-generation-(2-points)-5.1.1\"><span class=\"toc-item-num\">5.1.1&nbsp;&nbsp;</span>Task 8: Code generation <font color=\"red\">(2 points)</font></a></span></li><li><span><a href=\"#Task-9:-Step-size-(2-points)\" data-toc-modified-id=\"Task-9:-Step-size-(2-points)-5.1.2\"><span class=\"toc-item-num\">5.1.2&nbsp;&nbsp;</span>Task 9: Step size <font color=\"red\">(2 points)</font></a></span></li></ul></li><li><span><a href=\"#Validation\" data-toc-modified-id=\"Validation-5.2\"><span class=\"toc-item-num\">5.2&nbsp;&nbsp;</span>Validation</a></span></li></ul></li><li><span><a href=\"#Embedding\" data-toc-modified-id=\"Embedding-6\"><span class=\"toc-item-num\">6&nbsp;&nbsp;</span>Embedding</a></span><ul class=\"toc-item\"><li><span><a href=\"#Task-10:-Ramp-test-track-(2-points)\" data-toc-modified-id=\"Task-10:-Ramp-test-track-(2-points)-6.1\"><span class=\"toc-item-num\">6.1&nbsp;&nbsp;</span>Task 10: Ramp test track <font color=\"red\">(2 points)</font></a></span></li></ul></li><li><span><a href=\"#Literature\" data-toc-modified-id=\"Literature-7\"><span class=\"toc-item-num\">7&nbsp;&nbsp;</span>Literature</a></span></li></ul></div>"
   ]
  },
  {
   "cell_type": "markdown",
   "metadata": {},
   "source": [
    "<div class=\"alert alert-block alert-danger\">\n",
    "\n",
    "<b>Group: 5</b>\n",
    "\n",
    "- Enes Coskunyürek\n",
    "- Tolgahan Kandemir\n",
    "- Nils Lübben\n",
    "- Philipp Walter\n",
    "\n",
    "<b>Result:</b>\n",
    "    \n",
    "| Task   |  1  |  2  |  3  |  4  |  5  |  6  |  7  |  8  |  9  |  10 |  Sum  |\n",
    "|--------|-----|-----|-----|-----|-----|-----|-----|-----|-----|-----|--------\n",
    "| Points | ?/2 | ?/2 | ?/2 | ?/2 | ?/1 | ?/3 | ?/2 | ?/2 | ?/2 | ?/2 | ??/20 |  \n",
    "\n",
    "    \n",
    "</div>"
   ]
  },
  {
   "cell_type": "code",
   "execution_count": null,
   "metadata": {},
   "outputs": [],
   "source": [
    "from IPython.display import IFrame, HTML, YouTubeVideo\n",
    "\n",
    "import sympy as sp\n",
    "\n",
    "import numpy as np\n",
    "\n",
    "from math import pi, sin, cos, exp, inf\n",
    "\n",
    "import matplotlib.pyplot as plt\n",
    "import matplotlib.animation"
   ]
  },
  {
   "cell_type": "markdown",
   "metadata": {},
   "source": [
    "# Modelling\n",
    "Vehicle dynamics describes the effect of forces on moving vehicles, such as cars.\n",
    "In the simulation of vehicle dynamics, the behavior of a digital vehicle model is calculated by computer programs.\n",
    "In this process, certain driving situations are performed virtually.\n",
    "A realistic simulation requires a complex modelling of the parts installed in the vehicle.\n",
    "Especially for tires, there are many different models for simulation.\n",
    "Simulations are also used to optimize the design of the vehicle in terms of fuel consumption and environmental impact."
   ]
  },
  {
   "cell_type": "code",
   "execution_count": null,
   "metadata": {
    "scrolled": true
   },
   "outputs": [],
   "source": [
    "YouTubeVideo('rJd-GxUKKzw')"
   ]
  },
  {
   "cell_type": "markdown",
   "metadata": {},
   "source": [
    "In this project a very simplified model is considered, where the vehicle consists of only one mass point, which is connected to a wheel via a spring-damper system.\n",
    "In vehicle dynamics, this simplified model is called a quarter car suspension.\n",
    "The aim is to simulate and visualize the vibration behavior of the spring-damper system.\n",
    "Virtual test tracks with different road profiles are analysed."
   ]
  },
  {
   "cell_type": "markdown",
   "metadata": {},
   "source": [
    "# Numerical treatment\n",
    "A mathematical description for both the test track and the spring-damper system is needed."
   ]
  },
  {
   "cell_type": "markdown",
   "metadata": {},
   "source": [
    "## Coordinate system\n",
    "The common coordinate system for the test track and the spring-damper system is defined in such a way that the rolling movement of the wheel is in the direction of the $x$-axis and the oscillation of the mass is perpendicular to this in the $y$-direction.\n",
    "The position of the origin is at the point where the wheel touches the road surface at the beginning of the test track.\n",
    "The vehicle drives in $x$-direction with constant speed $v$."
   ]
  },
  {
   "cell_type": "markdown",
   "metadata": {},
   "source": [
    "## Test track\n",
    "The vibration behaviour of the quarter vehicle is influenced by the mass $m$, which is ideally concentrated in one point.\n",
    "The aim is to simulate the movement of this mass point.\n",
    "Starting at time $t_0=0$ the time $t_{\\mbox{max}}$ is required to run the test track.\n",
    "At time $t$ the mass point is located at position\n",
    "\n",
    "$$\n",
    "\\left(\\, x(t) \\mid y(t) \\,\\right), \\quad t \\in \\left[t_0,t_1\\right] \\, .\n",
    "$$\n",
    "\n",
    "To describe the height of road profile at postion $x$ a function $f$ is used:\n",
    "\n",
    "$$\n",
    "f(x(t)), \\quad t \\in \\left[t_0,t_1\\right] \\, .\n",
    "$$\n",
    "\n",
    "Since the movement starts at the origin, the function $f$ must fulfill the condition\n",
    "\n",
    "$$\n",
    "    f(0)=0.\n",
    "$$\n",
    "\n",
    "A simple approach is to simulate a rumble strip test track, represented by the function \n",
    "\n",
    "$$\n",
    "    f(x) = A \\, sin( \\omega \\, x) \\, .\n",
    "    \\quad \\quad (*)\n",
    "$$\n",
    "\n",
    "Here $\\omega$ denotes the angular frequency and $A$ is used to specify the height of the rumble strips.   "
   ]
  },
  {
   "cell_type": "code",
   "execution_count": null,
   "metadata": {},
   "outputs": [],
   "source": [
    "IFrame('https://www.dropbox.com/s/w8p7m6fdttppslv/coble_stones.jpg?raw=1', width=800, height=250)"
   ]
  },
  {
   "cell_type": "markdown",
   "metadata": {},
   "source": [
    "## Equation of motion\n",
    "For a test track which, apart from a few bumps in the ground, runs horizontally, there is an approximate correlation at constant speed $v$:\n",
    "\n",
    "$$\n",
    "x(t) = v \\, t, \\quad \\dot{x}(t) = v \\, .\n",
    "$$\n",
    "\n",
    "The vertical deflection $y(t)$ of the idealized mass point as a function of time $t$ is not so easy to determine.\n",
    "Depending on the profile of the test track, the mass oscillates around the equilibrium position, which is designated $y_0$.\n",
    "The mass point is in the equilibrium position at the beginning of the test drive and the speed in $y$ direction is zero:\n",
    "\n",
    "$$\n",
    "y(0) = y_0, \\quad \\dot{y}(0) = 0.\n",
    "$$\n",
    "\n",
    "The aim is to determine a mathematical description of the movement of the mass point as a function of time.\n",
    "This mathematical description results from the consideration of several physical laws."
   ]
  },
  {
   "cell_type": "code",
   "execution_count": null,
   "metadata": {},
   "outputs": [],
   "source": [
    "IFrame('https://www.dropbox.com/s/738smkijt7d1mmi/quarter_car_dgl_feder_daempfer_schwinger.jpg?raw=1', width=400, height=300)"
   ]
  },
  {
   "cell_type": "markdown",
   "metadata": {},
   "source": [
    "<b>Spring</b>\n",
    "\n",
    "According to Hooke's law, the distance of extension or compression of a spring is approximately proportional to the force acting on it.\n",
    "The proportionality factor $c$ is called the characteristic of the spring.\n",
    "For the spring force $F_{\\mbox{spring}}$, which acts on the mass $m$ at time $t$, the following applies:\n",
    "\n",
    "$$\n",
    "F_{\\mbox{spring}}(t) = - c \\, \\underbrace{ \\left( y(t) - y_0 - f(x(t)) \\right) }_{\\mbox{vertical deflection}}.\n",
    "$$\n",
    "\n",
    "The vertical deflection at time $t$ depends on the vertical position $y$ of the mass $m$, the equilibrium position $y_0$ and the height of the road profile $f$.\n",
    "The negative sign results from the fact that the spring force on the mass always acts against the direction of the deflection.\n",
    "\n",
    "<b>Damper</b>\n",
    "\n",
    "The damper creates a frictional force $F_{\\mbox{damper}}$.\n",
    "Because of the small speed of the movement in $y$ direction, we assume that the frictional force is proportional to the speed of the mass $m$ in vertical direction.\n",
    "The proportionality factor $k$ is called damping coefficient.\n",
    "The frictional force acts against the direction of movement, so the following applies:\n",
    "\n",
    "$$\n",
    "\tF_{\\mbox{damper}}(t)\n",
    "\t= - k \\, \\underbrace{ \\frac{\\mbox{d}}{\\mbox{d} \\, t} \\left( y(t) - y_0 - f(x(t)) \\right)}_{\\mbox{vertical speed}}\n",
    "\t= - k \\, \\left( \\dot{y}(t) - f'(x(t)) \\, \\dot{x}(t) \\right).\n",
    "$$\n",
    "\n",
    "The second representation results from the chain rule of differential calculus.\n",
    "The notation $\\dot{y}$ means derivative with respect to time $t$ and $f'$ is the derivative with respect to the distance $x$.\n",
    "\n",
    "<b>Newton's second law</b>\n",
    "\n",
    "According to Newton's second law, all external forces are compensated by the mass of that object multiplied by the acceleration:\n",
    "\n",
    "$$\n",
    "F_{\\mbox{spring}}(t) + F_{\\mbox{dumper}}(t) = m \\cdot \\underbrace{\\ddot{y}(t)}_{\\mbox{vertical acceleration}}.\n",
    "$$\n",
    "\n",
    "<b>Differential equation</b>\n",
    "\n",
    "Setting the equation for the spring and the equation for the damper into Newton's second law results in:\n",
    "\n",
    "$$\n",
    "\tm \\, \\ddot{y}(t) =\n",
    "\t-c \\, \\left( y(t) - y_0 - f(v \\cdot t) \\right)\n",
    "\t-k \\, \\left( \\dot{y}(t) - v \\, f'(v \\cdot t) \\right),\n",
    "\t\\quad y(0) = y_0, \\, \\dot{y}(0) = 0. \n",
    "    \\quad \\quad (**)\n",
    "$$\n",
    "\n",
    "This initial value problem describes the movement of the mass point in vertical direction.\n",
    "There are basically two different strategies for determining the solution.\n",
    "One can determine the exact analytic solution using symbolic mathematical calculations or calculate approximate values by a numerical method.\n",
    "We will look at both strategies in more detail.  "
   ]
  },
  {
   "cell_type": "markdown",
   "metadata": {},
   "source": [
    "## Analytic solution\n",
    "The initial value problem $(**)$ is based on a second-order linear ordinary differential equation with constant coefficients.\n",
    "For such problems the solution of the homogeneous equation is easy to calculate. "
   ]
  },
  {
   "cell_type": "markdown",
   "metadata": {},
   "source": [
    "<div class=\"alert alert-block alert-info\">\n",
    "    \n",
    "### Task 1: Homogeneous equation <font color=red>(2 points)</font>\n",
    "Use `sympy.dsolve()` to calculate all solutions of the homogenious ordinary differential equation\n",
    "    \n",
    "$$\n",
    "\tm \\, \\ddot{y}(t) + k \\, \\dot{y}(t) + c \\, y(t) = 0 \\, .\n",
    "$$\n",
    "</div>"
   ]
  },
  {
   "cell_type": "markdown",
   "metadata": {},
   "source": [
    "<div class=\"alert alert-block alert-success\">  \n",
    "<b>Solution of Task 1</b>\n",
    "</div>"
   ]
  },
  {
   "cell_type": "code",
   "execution_count": null,
   "metadata": {},
   "outputs": [],
   "source": [
    "#\n",
    "# Python code for Task 1\n",
    "#\n",
    "\n",
    "t, m, k, c = sp.symbols('t, m, k, c')\n",
    "y = sp.Function(\"y\")(t)\n",
    "yp = sp.Derivative(y)\n",
    "ypp = sp.Derivative(yp)\n",
    "ode = sp.Eq(m*ypp + k*yp + c*y, 0)\n",
    "sp.dsolve(ode)"
   ]
  },
  {
   "cell_type": "markdown",
   "metadata": {},
   "source": [
    "The non-homogeneous part of the differential equation depends on the function $f$, which describes the test track.\n",
    "Since the rumple strip test track is represented by a sine function, the exact analytic solution can be calculated with SymPy. "
   ]
  },
  {
   "cell_type": "markdown",
   "metadata": {},
   "source": [
    "<div class=\"alert alert-block alert-info\">\n",
    "    \n",
    "### Task 2: Initial value problem <font color=red>(2 points)</font>\n",
    "Use `sympy.dsolve()` to calculate the solution of the initial value problem $(**)$ for the rumble strip test track $(*)$. \n",
    "</div>"
   ]
  },
  {
   "cell_type": "markdown",
   "metadata": {},
   "source": [
    "<div class=\"alert alert-block alert-success\">\n",
    "    \n",
    "<b>Solution of Task 2</b>\n",
    "\n",
    "</div>"
   ]
  },
  {
   "cell_type": "code",
   "execution_count": null,
   "metadata": {},
   "outputs": [],
   "source": [
    "#\n",
    "# Python code of Task 2\n",
    "#\n",
    "\n",
    "t, x, m, c, k, v, omega, A, y0 = sp.symbols('t, x, m, c, k, v, omega, A, y_0')\n",
    "\n",
    "# y\n",
    "y = sp.Function('y')(t)\n",
    "yp = sp.Derivative(y)\n",
    "ypp = sp.Derivative(yp)\n",
    "# function f\n",
    "f = A*sp.sin(omega*x)\n",
    "fp = sp.diff(f, x)\n",
    "\n",
    "# replace t with v * t in f\n",
    "f = f.subs(x, v*t)\n",
    "fp = fp.subs(x, v*t)\n",
    "\n",
    "# solve\n",
    "ode = sp.Eq(m*ypp,-c*(y-y0-f) - k*( yp- v*fp))\n",
    "initconds = {y.subs(t, 0): y0, yp.subs(t, 0): 0}\n",
    "sp.dsolve(ode,ics=initconds)\n"
   ]
  },
  {
   "cell_type": "markdown",
   "metadata": {},
   "source": [
    "## Numerical solution\n",
    "The most basic approximation method for solving ODEs is Euler's method.\n",
    "In our approach, we will only focus on this simple method.\n",
    "The idea is to convert the second-order ODE into two first-order ODEs."
   ]
  },
  {
   "cell_type": "markdown",
   "metadata": {},
   "source": [
    "<div class=\"alert alert-block alert-info\">\n",
    "    \n",
    "### Task 3: State variables <font color=red>(2 points)</font>\n",
    "Rewrite the initial value problem $(**)$ into a system with two first-order equations using the state variables $z_0$ and $z_1$.\n",
    "</div>"
   ]
  },
  {
   "cell_type": "markdown",
   "metadata": {},
   "source": [
    "<div class=\"alert alert-block alert-success\">\n",
    "    \n",
    "<b>Solution of Task 3</b>\n",
    "\n",
    "</div>"
   ]
  },
  {
   "source": [
    "\n"
   ],
   "cell_type": "markdown",
   "metadata": {}
  },
  {
   "source": [
    "<div class=\"alert alert-block alert-success\">\n",
    "    \n",
    "<b>Solution of Task 3</b>\n",
    "\n",
    "We have the following second-order differential equation:\n",
    "\n",
    "$$\n",
    "    y''(t) = \\frac{ -c(y(t) - y_{0} - f(v \\cdot t)) - k(y'(t) - vf'(v \\cdot t)) }{ m }, \\quad y(0)=y_{0}, \\quad y'(0)=0\n",
    "$$\n",
    "\n",
    "</br>Since this is a second-order differential equation, we will replace $y(t)$ and $y'(t)$ with the variables $z_{0}(t)$ and $z_{1}(t)$:\n",
    "\n",
    "$$\n",
    "    \\left.\n",
    "    \\begin{array}{ccl}\n",
    "        z_0(t) & = & y(t) \\\\\n",
    "        z_1(t) & = & y'(t) \\\\\n",
    "    \\end{array}\n",
    "    \\right\\}\n",
    "    \\quad \\Longrightarrow \\quad\n",
    "    y''(t) = \\frac{ -c(z_{0}(t) - y_{0} - f(v \\cdot t)) - k(z_{1}(t) - vf'(v \\cdot t)) }{ m }.\n",
    "$$\n",
    "\n",
    "</br>In addition we replace $y''(t)$ by $z_{1}'(t)$, which results in a first-order ODE:\n",
    "\n",
    "$$\n",
    "    z_{1}'(t) = \\frac{ -c(z_{0}(t) - y_{0} - f(v \\cdot t)) - k(z_{1}(t) - vf'(v \\cdot t)) }{ m }.\n",
    "$$\n",
    "\n",
    "</br>Now we have to consider that the two variables $z_{0}$ and $z_{1}$ are linked:\n",
    "\n",
    "$$\n",
    "    z_{0}'(t) = y'(t) = z_{1}(t)\n",
    "$$\n",
    "\n",
    "</br>All together we get a system with two first-order equations:\n",
    "\n",
    "$$\n",
    "    \\begin{array}{ccl}\n",
    "    z_0'(t) & = & z_1(t), \\\\\n",
    "    z_1'(t) & = & \\frac{ -c(z_{0}(t) - y_{0} - f(v \\cdot t)) - k(z_{1}(t) - vf'(v \\cdot t)) }{ m }. \\\\    \n",
    "    \\end{array}\n",
    "$$\n",
    "\n",
    "</br>In vector notation:\n",
    "\n",
    "$$\n",
    "    z'(t) = \n",
    "    \\left(\n",
    "        \\begin{array}{c}\n",
    "            z_0(t) \\\\\n",
    "            z_1(t)\n",
    "        \\end{array}\n",
    "    \\right)'\n",
    "    =\n",
    "    \\left(\n",
    "        \\begin{array}{l}\n",
    "            z_1(t), \\\\\n",
    "            \\frac{ -c(z_{0}(t) - y_{0} - f(v \\cdot t)) - k(z_{1}(t) - vf'(v \\cdot t)) }{ m }. \\\\    \n",
    "        \\end{array}\n",
    "    \\right)\n",
    "$$\n",
    "\n",
    "</div>"
   ],
   "cell_type": "markdown",
   "metadata": {}
  },
  {
   "cell_type": "markdown",
   "metadata": {},
   "source": [
    "# Implementation\n",
    "The implementation should be flexible enough to simulate driving over different test tracks.\n",
    "It is not guaranteed that the solution of the initial value problem can be exactly calculated analytically for any test track.\n",
    "Thus the implementation is done with Euler's method.\n",
    "For this purpose we define numerical values for all physical quantities. \n",
    "Please note that the simulation should also work if these values are changed."
   ]
  },
  {
   "cell_type": "code",
   "execution_count": null,
   "metadata": {},
   "outputs": [],
   "source": [
    "m = 150.0   # mass [kg]\n",
    "k = 300.0   # damper constant [Ns/m]\n",
    "c = 600.0   # spring constant [N/m]\n",
    "y_0 = 1.0   # equilibrium [m]\n",
    "v = 4.0     # velocity [m/s]\n",
    "A = 0.05    # amplitude [m]\n",
    "omega = 5.0 # angular frequency [1/s]\n",
    "t0 = 0.0    # simulation start [s]\n",
    "t1 = 1.0    # simulation end [s]"
   ]
  },
  {
   "cell_type": "markdown",
   "metadata": {},
   "source": [
    "## Test track\n",
    "For the rumble strip test track we implement the function `quarterCarRumbleStrip()`.\n",
    "This function not only has a single $x$-value as input argument, but a `numpy.array()` with many $x$-values.\n",
    "The output consists of two arrays `f` and `fp`, which contain the corresponding function values $f(x)$ and the values of the derivative $f'(x)$ for each $x$ value. "
   ]
  },
  {
   "cell_type": "markdown",
   "metadata": {},
   "source": [
    "<div class=\"alert alert-block alert-info\">\n",
    "    \n",
    "### Task 4: Rumble strip <font color=red>(2 points)</font>\n",
    "Implement the function `quarterCarRumbleStrip()` and test the function with a plot.\n",
    "</div>"
   ]
  },
  {
   "cell_type": "markdown",
   "metadata": {},
   "source": [
    "<div class=\"alert alert-block alert-success\">  \n",
    "<b>Solution of Task 4</b>\n",
    "    \n",
    "Implementation of function `quarterCarRumbleStrip()`:\n",
    "</div>"
   ]
  },
  {
   "cell_type": "code",
   "execution_count": null,
   "metadata": {},
   "outputs": [],
   "source": [
    "#\n",
    "# Python code of Task 4\n",
    "#\n",
    "\n",
    "def quarterCarRumbleStrip(x):\n",
    "    f = A*np.sin(omega*x)\n",
    "    fp = A*omega*np.cos(omega*x)\n",
    "    \n",
    "    return f, fp"
   ]
  },
  {
   "cell_type": "markdown",
   "metadata": {},
   "source": [
    "<div class=\"alert alert-block alert-success\">  \n",
    "Plot:\n",
    "</div>"
   ]
  },
  {
   "cell_type": "code",
   "execution_count": null,
   "metadata": {},
   "outputs": [],
   "source": [
    "#\n",
    "# Python code of Task 4\n",
    "#\n",
    "\n",
    "fig, ax = plt.subplots()\n",
    "\n",
    "# change the widht and height of the figure\n",
    "fig.set_size_inches(15, 5)\n",
    "\n",
    "xValues = np.linspace(0, 4, num = 400)\n",
    "f, fp = quarterCarRumbleStrip(xValues)\n",
    "\n",
    "ax.plot(xValues, f, \"b\")\n",
    "ax.plot(xValues, fp, \"g\")\n",
    "\n",
    "# Set limitation for design reasons\n",
    "plt.xlim(0, 4)\n",
    "\n",
    "ax.legend([\"f\", \"fp\"])\n",
    "ax.set_xlabel(\"X\")\n",
    "ax.set_ylabel(\"Y\")\n",
    "\n",
    "plt.show()"
   ]
  },
  {
   "cell_type": "markdown",
   "metadata": {},
   "source": [
    "## Euler's method\n",
    "Using the representation of the initial value problem with state variables form task 3 together with the function `quarterCarRumbleStrip()` from task 4, the system of differential equations for Euler's method can be implemented."
   ]
  },
  {
   "cell_type": "markdown",
   "metadata": {},
   "source": [
    "<div class=\"alert alert-block alert-info\">\n",
    "    \n",
    "### Task 5: Quarter car ode <font color=red>(1 point)</font>\n",
    "Implement the function `quarterCarOde()`.\n",
    "</div>"
   ]
  },
  {
   "cell_type": "markdown",
   "metadata": {},
   "source": [
    "<div class=\"alert alert-block alert-success\">  \n",
    "<b>Solution of Task 5</b>\n",
    "    \n",
    "Implementation of function `quarterCarOde()`:\n",
    "</div>"
   ]
  },
  {
   "cell_type": "code",
   "execution_count": null,
   "metadata": {},
   "outputs": [],
   "source": [
    "#\n",
    "# Python code of Task 5\n",
    "# \n",
    "def quarterCarOde(t,z):\n",
    "    x = np.array([v*t])\n",
    "    f, fp = quarterCarRumbleStrip(x)\n",
    "    zp = np.array([z[1],(-c*(z[0]-y_0-f)-k*(z[1]-v*fp))/m])\n",
    "    return zp"
   ]
  },
  {
   "cell_type": "markdown",
   "metadata": {},
   "source": [
    "The basis for Euler's method is the function `quarterCarOde()`.\n",
    "The step size $h$ is passed to the function for Euler's method as input argument.\n",
    "The function should return the time values $t$ and the values for the oszilation of the mass $y$."
   ]
  },
  {
   "cell_type": "markdown",
   "metadata": {},
   "source": [
    "<div class=\"alert alert-block alert-info\">\n",
    "    \n",
    "<b> Task 6: Euler's method <font color=red>(3 points)</font></b>\n",
    "\n",
    "Implement Euler's method with the function `quarterCarEuler()` using `quarterCarOde()`.\n",
    "Generete a plot which shows both, the rumble strip $f$ and the oszilation of the mass $y$ in a single plot.\n",
    "</div>"
   ]
  },
  {
   "cell_type": "markdown",
   "metadata": {},
   "source": [
    "<div class=\"alert alert-block alert-success\">  \n",
    "<b>Solution of Task 6</b>\n",
    "    \n",
    "Implementation of function `quarterCarEuler()`:\n",
    "\n",
    "</div>"
   ]
  },
  {
   "cell_type": "code",
   "execution_count": null,
   "metadata": {},
   "outputs": [],
   "source": [
    "#\n",
    "# Python code of Task 6\n",
    "# \n",
    "\n",
    "def quarterCarEuler(h):\n",
    "    t = np.arange(t0,t1,h)\n",
    "    n = np.size(t)\n",
    "    z = np.zeros([2,n])\n",
    "    z0 = np.array([y_0, 0])\n",
    "    # assign first column\n",
    "    z[:,0] = z0\n",
    "    for k in range(n-1):\n",
    "        z[:,k+1] = z[:,k]+h*quarterCarOde(t[k],z[:,k])  \n",
    "\n",
    "    # return the first row which is y\n",
    "    y = z[0,:]\n",
    "    return t, y"
   ]
  },
  {
   "cell_type": "markdown",
   "metadata": {},
   "source": [
    "<div class=\"alert alert-block alert-success\">  \n",
    "Plot:\n",
    "</div>"
   ]
  },
  {
   "cell_type": "code",
   "execution_count": null,
   "metadata": {},
   "outputs": [],
   "source": [
    "#\n",
    "# Test of Task 6\n",
    "# \n",
    "\n",
    "fig, ax = plt.subplots()\n",
    "\n",
    "# change the widht and height of the figure\n",
    "fig.set_size_inches(15, 5)\n",
    "t, yValues = quarterCarEuler(0.001)\n",
    "xValues = v * t\n",
    "ax.plot(xValues, yValues, \"r\")\n",
    "ax.set_title(\"Position of Mass\")\n",
    "ax.set_xlabel(\"X\")\n",
    "ax.set_ylabel(\"Y\")\n",
    "plt.show()\n",
    "\n",
    "print(t, yValues)"
   ]
  },
  {
   "cell_type": "markdown",
   "metadata": {},
   "source": [
    "# Visualization\n",
    "To visualize a simulation of a test drive, we need a graphical representation of the road profile and the quarter vehicle."
   ]
  },
  {
   "cell_type": "markdown",
   "metadata": {},
   "source": [
    "## Quarter car\n",
    "The function `quarterCarDraw()` represents the quarter car.\n",
    "It must be taken into account that the representation of the spring and damper changes dynamically due to the oscillation process.\n",
    "In the state of equilibrium the center of the mass is located at a distance of $y_0$ above the roadway.\n",
    "With the function `quarterCarDraw()` the model of the quarter car can be drawn at any position $x$.\n",
    "The second input argument $y$ specifies the $y$ position of the mass."
   ]
  },
  {
   "cell_type": "code",
   "execution_count": null,
   "metadata": {},
   "outputs": [],
   "source": [
    "def quarterCarDraw(x,y,ax):\n",
    "    \n",
    "    # road\n",
    "    f, fp = quarterCarRumbleStrip(x)\n",
    "\n",
    "    # wheel\n",
    "    rr = 0.3; # wheel radius\n",
    "    tt = np.linspace(0,2*pi,24)\n",
    "    ax.fill(x+rr*np.cos(tt),f+rr+rr*np.sin(tt),'k')\n",
    "        \n",
    "    # mass\n",
    "    ww = 0.6 # mass width\n",
    "    hh = 0.3 # mass height\n",
    "    xx = np.array([-1.0, 1.0, 1.0,-1.0,-1.0])\n",
    "    yy = np.array([-1.0,-1.0, 1.0, 1.0,-1.0])\n",
    "    ax.fill(x+0.5*ww*xx,y+0.5*hh*yy,'b')\n",
    "\n",
    "    # absorber\n",
    "    aa = 0.5 # absorber length\n",
    "    yy = np.array([ 0.0, 0.0, 1.0, 1.0, 0.0])\n",
    "    ax.fill(x+0.1*ww*xx,y-aa*yy,'r')\n",
    "    ax.fill(x+0.05*ww*xx,f+rr+aa*yy,'r')\n",
    "\n",
    "    # spring\n",
    "    ll = 0.1 # spring length\n",
    "    dd = (y - f - 2*ll - rr)/6.0\n",
    "    xx = np.array([0.0,-rr,rr,-rr,rr,-rr,rr,0.0])\n",
    "    yy = np.array([0.0,0.5,1.5,2.5,3.5,4.5,5.5,6])\n",
    "    ax.plot(np.array([x,x]),f+rr+np.array([0.0,ll]),'g',linewidth=4)\n",
    "    ax.plot(x+xx,f+rr+ll+dd*yy,'g',linewidth=4)\n",
    "    ax.plot(np.array([x,x]),y-np.array([ll,0.0]),'g',linewidth=4)\n",
    "\n",
    "    return"
   ]
  },
  {
   "cell_type": "markdown",
   "metadata": {},
   "source": [
    "The position $y$ should be calculated by Euler's method before using it as input for the function `quarterCarDraw()`."
   ]
  },
  {
   "cell_type": "code",
   "execution_count": null,
   "metadata": {},
   "outputs": [],
   "source": [
    "fig, ax = plt.subplots()\n",
    "fig.set_size_inches(20,5)\n",
    "\n",
    "# road\n",
    "t = np.linspace(t0,t1,100)\n",
    "x = v*t\n",
    "f, fp = quarterCarRumbleStrip(x)\n",
    "ax.plot(x,f,linewidth=4)\n",
    "\n",
    "# quarter car\n",
    "t, y = quarterCarEuler(0.01)\n",
    "x = v*t\n",
    "quarterCarDraw(x[10],y[10],ax)\n",
    "quarterCarDraw(x[55],y[55],ax)\n",
    "quarterCarDraw(x[90],y[90],ax)\n",
    "ax.axis('equal')"
   ]
  },
  {
   "cell_type": "markdown",
   "metadata": {},
   "source": [
    "<div class=\"alert alert-block alert-info\">\n",
    "    \n",
    "<b> Task 7: Animation <font color=red>(2 points)</font></b>\n",
    "\n",
    "Generate an animation video of the quarter car on the rumble strip test track.\n",
    "</div>"
   ]
  },
  {
   "cell_type": "markdown",
   "metadata": {},
   "source": [
    "<div class=\"alert alert-block alert-success\">  \n",
    "<b>Solution of Task 7</b>\n",
    "    \n",
    "Generation of an animation video:\n",
    "</div>"
   ]
  },
  {
   "cell_type": "code",
   "execution_count": null,
   "metadata": {},
   "outputs": [],
   "source": [
    "def init_quarterCar():\n",
    "    pass\n",
    "\n",
    "def frame_quarterCar(j):\n",
    "    \n",
    "    ax2.cla()\n",
    "    ax2.plot(x,f,linewidth=4)\n",
    "    quarterCarDraw(x[j],y[j],ax2)\n",
    "\n",
    "    return  "
   ]
  },
  {
   "cell_type": "code",
   "execution_count": null,
   "metadata": {},
   "outputs": [],
   "source": [
    "#\n",
    "# Python code of Task 7\n",
    "#\n",
    "\n",
    "fig2, ax2 = plt.subplots()\n",
    "fig2.set_size_inches(20,5)\n",
    "\n",
    "# road\n",
    "t = np.linspace(t0,t1,100)\n",
    "x = v*t\n",
    "f, fp = quarterCarRumbleStrip(x)\n",
    "ax2.plot(x,f,linewidth=4)\n",
    "\n",
    "# quarter car\n",
    "t, y = quarterCarEuler(0.01)\n",
    "x = v*t\n",
    "ax2.axis('equal')\n",
    "\n",
    "ani_quarterCar = matplotlib.animation.FuncAnimation(fig2, frame_quarterCar, init_func=init_quarterCar, frames=100, interval=100)\n",
    "HTML(ani_quarterCar.to_jshtml())"
   ]
  },
  {
   "cell_type": "markdown",
   "metadata": {},
   "source": [
    "# Evaluation\n",
    "In the simulation of the quarter car, the differences between verification and validation can be clearly illustrated when evaluating a simulation.   \n",
    "During verification, we check whether the results of the calculations are in line with our theoretical model.\n",
    "The task of validation is to assess the extent to which this simulation allows conclusions to be drawn about the vehicle's driving dynamics."
   ]
  },
  {
   "cell_type": "markdown",
   "metadata": {},
   "source": [
    "## Verification\n",
    "With simulations based on numerical solution methods, the question arises as to how reliable the numerical approximate values are.\n",
    "The accuracy of Euler's method depends mainly on the step size $h$.\n",
    "One needs small step sizes in order to solve the problem with a corresponding accuracy.\n",
    "On the other hand, small step sizes require considerably more steps and thus more calculation operations.\n",
    "This increases the computing time required to run a simulation.\n",
    "A further disadvantage of small step sizes is the rounding error problem.\n",
    "\n",
    "The trick is now to determine a step size optimally adapted to the problem.\n",
    "The determination of optimal step sizes is a central topic of numerical mathematics.\n",
    "However, this determination requires a deeper understanding of numerical approximation methods.\n",
    "We are therefore content with an experimental consideration.\n",
    "For a sinusoidal road profile, we have already implemented the calculation of the exact solution.\n",
    "Thus we can compare the numerically calculated approximate values with the analytically determined exact solution for this road profile.\n",
    "\n",
    "The idea is to use SymPy as a code generator for the exact analytical solution.\n",
    "The function `quarterCarAnalytic()` should be implemented according to the function `quarterCarEuler()`.\n",
    "The step size $h$ is passed as input argument to the function.\n",
    "The function should return the time values $t$ and the values for the oszilation of the mass $y$."
   ]
  },
  {
   "cell_type": "markdown",
   "metadata": {},
   "source": [
    "<div class=\"alert alert-block alert-info\">\n",
    "    \n",
    "<b> Task 8: Code generation <font color=red>(2 points)</font></b>\n",
    "\n",
    "Use `sympy.dsolve()` to generate the code for the function `quarterCarAnalytic()`.\n",
    "Implement the function `quarterCarAnalytic()` with the code generated by `sympy.dsolve()`.\n",
    "</div>"
   ]
  },
  {
   "cell_type": "markdown",
   "metadata": {},
   "source": [
    "<div class=\"alert alert-block alert-success\">  \n",
    "<b>Solution of Task 8</b>\n",
    "    \n",
    "Code generation for 'quarterCarAnalytic()`:\n",
    "</div>"
   ]
  },
  {
   "cell_type": "code",
   "execution_count": null,
   "metadata": {},
   "outputs": [],
   "source": [
    "#\n",
    "# Python code of Task 8\n",
    "#\n",
    "\n",
    "# using the constant as values given\n",
    "t_sp, x_sp = sp.symbols('t, x')\n",
    "\n",
    "# y\n",
    "y_sp = sp.Function('y')(t_sp)\n",
    "yp_sp = sp.Derivative(y_sp)\n",
    "ypp_sp = sp.Derivative(yp_sp)\n",
    "\n",
    "# function f\n",
    "f_sp = A*sp.sin(omega*x_sp)\n",
    "fp_sp = sp.diff(f_sp, x_sp)\n",
    "\n",
    "# replace t with v * t in f\n",
    "f_sp = f_sp.subs(x_sp, v*t_sp)\n",
    "fp_sp = fp_sp.subs(x_sp, v*t_sp)\n",
    "\n",
    "# solve\n",
    "ode = sp.Eq(m*ypp_sp, -c*(y_sp - y_0 - f_sp) - k*( yp_sp - v*fp_sp))\n",
    "\n",
    "initconds = {y_sp.subs(t_sp, 0): y_0, yp_sp.subs(t_sp, 0): 0}\n",
    "solution = sp.dsolve(ode,ics=initconds)"
   ]
  },
  {
   "cell_type": "markdown",
   "metadata": {},
   "source": [
    "<div class=\"alert alert-block alert-success\">  \n",
    "Implementation of 'quarterCarAnalytic()`:\n",
    "</div>"
   ]
  },
  {
   "cell_type": "code",
   "execution_count": null,
   "metadata": {},
   "outputs": [],
   "source": [
    "#\n",
    "# Python code of Task 8\n",
    "#\n",
    "\n",
    "def quarterCarAnalytic(h):\n",
    "   \n",
    "    t = np.arange(t0,t1,h)\n",
    "    n = np.size(t)\n",
    "    y = np.zeros([n])\n",
    "    y[0] = y_0\n",
    "    x = v*t\n",
    "    y_t = sp.lambdify((t_sp, x_sp), solution.rhs, [\"math\", \"numpy\"])\n",
    "\n",
    "    for i in range(n-1):\n",
    "        y[i+1] = y_t(t[i+1], x[i+1])\n",
    "\n",
    "    return t, y"
   ]
  },
  {
   "cell_type": "code",
   "execution_count": null,
   "metadata": {},
   "outputs": [],
   "source": [
    "# t, y = quarterCarAnalytic(0.1)\n",
    "# print('t =', t)\n",
    "# print('y =', y)"
   ]
  },
  {
   "cell_type": "code",
   "execution_count": null,
   "metadata": {},
   "outputs": [],
   "source": [
    "fig, ax = plt.subplots()\n",
    "fig.set_size_inches(20,5)\n",
    "\n",
    "t, y = quarterCarAnalytic(1e-4)\n",
    "ax.plot(t, y, \"r\")\n",
    "ax.plot()\n",
    "\n",
    "t, y = quarterCarEuler(1e-4)\n",
    "ax.plot(t, y, \"b\")\n",
    "ax.plot()\n",
    "\n",
    "ax.set_ylabel(\"y\")\n",
    "ax.set_xlabel(\"x\")\n",
    "ax.legend([\"analytical\", \"approximation\"])\n",
    "ax.set_title(\"Comparison between analytical and numerical solutions\")\n",
    "\n",
    "plt.show()"
   ]
  },
  {
   "cell_type": "markdown",
   "metadata": {},
   "source": [
    "<div class=\"alert alert-block alert-info\">\n",
    "    \n",
    "<b> Task 9: Step size <font color=red>(2 points)</font></b>\n",
    "Use the functions `quarterCarEuler()` and `quarterCarAnalytic()` to determine the maximum deviation of the numerical approximate values from the exact analytical solution.\n",
    "For this purpose use the step sizes $h=0.1$, $h=0.01$ and $h=0.001$. \n",
    "</div>"
   ]
  },
  {
   "cell_type": "markdown",
   "metadata": {},
   "source": [
    "<div class=\"alert alert-block alert-success\">  \n",
    "<b>Solution of Task 9</b>\n",
    "    \n",
    "Maximum deviation of the numerical approximate values from the exact analytical solution:\n",
    "</div>"
   ]
  },
  {
   "cell_type": "code",
   "execution_count": null,
   "metadata": {},
   "outputs": [],
   "source": [
    "#\n",
    "# Python code of Task 9\n",
    "#\n",
    "\n",
    "def maximumDeviation(h):\n",
    "    _, yNumerical = quarterCarEuler(h)\n",
    "    _, yAnalitical = quarterCarAnalytic(h)\n",
    "\n",
    "    deviations = np.absolute(np.subtract(yNumerical, yAnalitical))\n",
    "    maximumDeviation = np.amax(deviations)\n",
    "\n",
    "    return maximumDeviation"
   ]
  },
  {
   "cell_type": "code",
   "execution_count": null,
   "metadata": {},
   "outputs": [],
   "source": [
    "#\n",
    "# Test of Task 9\n",
    "#\n",
    "\n",
    "stepSizes = [10**i for i in range(-1, -5, -1)]\n",
    "\n",
    "minDeviation = inf\n",
    "bestStepSize = 0\n",
    "\n",
    "for stepSize in stepSizes:\n",
    "    deviation = maximumDeviation(stepSize)\n",
    "    print(\"h = {}:\".format(stepSize), deviation)\n",
    "    if deviation < minDeviation:\n",
    "        minDeviation = deviation\n",
    "        bestStepSize = stepSize\n",
    "\n",
    "print(\"Best Stepsize: h = {}\".format(bestStepSize))"
   ]
  },
  {
   "cell_type": "markdown",
   "metadata": {},
   "source": [
    "In simulations based on numerical solutions of differential equations, the calculations are often performed using Runge-Kutta methods.\n",
    "Compared to Euler's method, higher order Runge-Kutta methods produce more accurate results.\n",
    "In addition, Runge-Kutta methods offer good methods for error estimation and, based on these, mechanisms for automatic step size control."
   ]
  },
  {
   "cell_type": "markdown",
   "metadata": {},
   "source": [
    "## Validation\n",
    "A further aspect in the evaluation is the question of whether the simulation actually provides usable results for vehicle dynamics.\n",
    "It should be kept in mind that the quarter car only provides a rough model, in which some important factors, such as the stiffness of the entire vehicle or the distribution of the mass to the individual wheels, are not taken into account."
   ]
  },
  {
   "cell_type": "markdown",
   "metadata": {},
   "source": [
    "# Embedding\n",
    "It would be nice to have a graphical user interface for embedding the simulation.\n",
    "This user interface could offer a selection of different road profiles for selection and take over the configuration of the parameters of the quarter car.\n",
    "A graphical editor for creating different road profiles would be helpful.  "
   ]
  },
  {
   "cell_type": "markdown",
   "metadata": {},
   "source": [
    "<div class=\"alert alert-block alert-info\">\n",
    "    \n",
    "<b> Task 10: Ramp test track <font color=red>(2 points)</font></b>\n",
    "\n",
    "A test track with a ramp can be simulated by the function\n",
    "    \n",
    "$$\n",
    "    f(x) = \\left\\{\n",
    "    \\begin{array}{ccl}\n",
    "        0        & \\mbox{ for } & x \\leq 1,\\\\\n",
    "        0.2(x-1) & \\mbox{ for } & 1 < x \\leq 2,\\\\\n",
    "        0.2      & \\mbox{ for } & x > 2.\\\\\n",
    "    \\end{array}\n",
    "    \\right.\n",
    "$$\n",
    "    \n",
    "Generate an animation video of the quarter car on the test track with this ramp.\n",
    "</div>"
   ]
  },
  {
   "cell_type": "markdown",
   "metadata": {},
   "source": [
    "<div class=\"alert alert-block alert-success\">  \n",
    "<b>Solution of Task 10</b>\n",
    "    \n",
    "Generation of animation video:\n",
    "</div>"
   ]
  },
  {
   "cell_type": "code",
   "execution_count": null,
   "metadata": {},
   "outputs": [],
   "source": [
    "#\n",
    "# Python code of Task 10\n",
    "#\n",
    "\n",
    "def quarterCarRamp(x):\n",
    "    f = np.piecewise(x, [x <= 1, (x > 1) & (x <= 2), x > 2], [lambda x: 0, lambda x: 0.2*(x-1), lambda x: 0.2])\n",
    "    fp = np.piecewise(x, [x <= 1, (1 < x) & (x <= 2), x > 2], [lambda x: 0, lambda x: 0.2, lambda x: 0])\n",
    "    return f, fp\n",
    "\n",
    "def quarterCarOdeRamp(t,z):\n",
    "    x = np.array([v*t])\n",
    "    f, fp = quarterCarRamp(x)\n",
    "\n",
    "    zp = np.array([z[1],(-c*(z[0]-y_0-f)-k*(z[1]-v*fp))/m])\n",
    "    \n",
    "    return zp\n",
    "\n",
    "def quarterCarEulerRamp(h):\n",
    "    t = np.arange(t0,t1,h)\n",
    "    n = np.size(t)\n",
    "    z = np.zeros([2,n])\n",
    "    z0 = np.array([y_0, 0])\n",
    "    # assign first column\n",
    "    z[:,0] = z0\n",
    "    for k in range(n-1):\n",
    "        z[:,k+1] = z[:,k]+h*quarterCarOdeRamp(t[k],z[:,k])  \n",
    "\n",
    "    # return the first row which is y\n",
    "    y = z[0,:]\n",
    "    return t, y"
   ]
  },
  {
   "cell_type": "code",
   "execution_count": null,
   "metadata": {},
   "outputs": [],
   "source": [
    "#Test of piecewise function\n",
    "\n",
    "x = np.arange(t0*v,t1*v,0.1)\n",
    "f, fp = quarterCarRamp(x)\n",
    "\n",
    "print(\"x:\", x)\n",
    "print(\"f:\", f)\n",
    "print(\"fp:\", fp)"
   ]
  },
  {
   "cell_type": "code",
   "execution_count": null,
   "metadata": {},
   "outputs": [],
   "source": [
    "def init_quarterCarRampDraw():\n",
    "    # draw road\n",
    "    t = np.linspace(t0,t1,100)\n",
    "    x = v*t\n",
    "    f, fp = quarterCarRamp(x)\n",
    "    ax_Ramp.plot(x,f,linewidth=4)\n",
    "\n",
    "    # current state\n",
    "    x = v*t0\n",
    "    y = y_0\n",
    "    f, fp = quarterCarRamp(x)\n",
    "\n",
    "    # wheel\n",
    "    rr = 0.3 # wheel radius\n",
    "    tt = np.linspace(0,2*pi,24)\n",
    "    ax_Ramp.fill(x+rr*np.cos(tt),f+rr+rr*np.sin(tt),'k')\n",
    "        \n",
    "    # mass\n",
    "    ww = 0.6 # mass width\n",
    "    hh = 0.3 # mass height\n",
    "    xx = np.array([-1.0, 1.0, 1.0,-1.0,-1.0])\n",
    "    yy = np.array([-1.0,-1.0, 1.0, 1.0,-1.0])\n",
    "    ax_Ramp.fill(x+0.5*ww*xx,y+0.5*hh*yy,'b')\n",
    "\n",
    "    # absorber\n",
    "    aa = 0.5 # absorber length\n",
    "    yy = np.array([ 0.0, 0.0, 1.0, 1.0, 0.0])\n",
    "    ax_Ramp.fill(x+0.1*ww*xx,y-aa*yy,'r')\n",
    "    ax_Ramp.fill(x+0.05*ww*xx,f+rr+aa*yy,'r')\n",
    "\n",
    "    # spring\n",
    "    ll = 0.1 # spring length\n",
    "    dd = (y - f - 2*ll - rr)/6.0\n",
    "    xx = np.array([0.0,-rr,rr,-rr,rr,-rr,rr,0.0])\n",
    "    yy = np.array([0.0,0.5,1.5,2.5,3.5,4.5,5.5,6])\n",
    "    ax_Ramp.plot(np.array([x,x]),f+rr+np.array([0.0,ll]),'g',linewidth=4)\n",
    "    ax_Ramp.plot(x+xx,f+rr+ll+dd*yy,'g',linewidth=4)\n",
    "    ax_Ramp.plot(np.array([x,x]),y-np.array([ll,0.0]),'g',linewidth=4)\n",
    "\n",
    "    ax_Ramp.axis('equal')\n",
    "    return\n",
    "\n",
    "def frame_quarterCarRampDraw(t):\n",
    "    \n",
    "    # clear current frame\n",
    "    ax_Ramp.cla()\n",
    "\n",
    "    # draw road\n",
    "    t_farg = np.linspace(t0,t1,100)\n",
    "    x = v*t_farg\n",
    "    f, fp = quarterCarRamp(x)\n",
    "    ax_Ramp.plot(x,f,linewidth=4)\n",
    "    \n",
    "    # current states\n",
    "    x = x_Ramp[t]\n",
    "    y = y_Ramp[t]\n",
    "\n",
    "    # road\n",
    "    f, fp = quarterCarRamp(x)\n",
    "    \n",
    "    # wheel\n",
    "    rr = 0.3; # wheel radius\n",
    "    tt = np.linspace(0,2*pi,24)\n",
    "    ax_Ramp.fill(x+rr*np.cos(tt),f+rr+rr*np.sin(tt),'k')\n",
    "        \n",
    "    # mass\n",
    "    ww = 0.6 # mass width\n",
    "    hh = 0.3 # mass height\n",
    "    xx = np.array([-1.0, 1.0, 1.0,-1.0,-1.0])\n",
    "    yy = np.array([-1.0,-1.0, 1.0, 1.0,-1.0])\n",
    "    ax_Ramp.fill(x+0.5*ww*xx,y+0.5*hh*yy,'b')\n",
    "\n",
    "    # absorber\n",
    "    aa = 0.5 # absorber length\n",
    "    yy = np.array([ 0.0, 0.0, 1.0, 1.0, 0.0])\n",
    "    ax_Ramp.fill(x+0.1*ww*xx,y-aa*yy,'r')\n",
    "    ax_Ramp.fill(x+0.05*ww*xx,f+rr+aa*yy,'r')\n",
    "\n",
    "    # spring\n",
    "    ll = 0.1 # spring length\n",
    "    dd = (y - f - 2*ll - rr)/6.0\n",
    "    xx = np.array([0.0,-rr,rr,-rr,rr,-rr,rr,0.0])\n",
    "    yy = np.array([0.0,0.5,1.5,2.5,3.5,4.5,5.5,6])\n",
    "    ax_Ramp.plot(np.array([x,x]),f+rr+np.array([0.0,ll]),'g',linewidth=4)\n",
    "    ax_Ramp.plot(x+xx,f+rr+ll+dd*yy,'g',linewidth=4)\n",
    "    ax_Ramp.plot(np.array([x,x]),y-np.array([ll,0.0]),'g',linewidth=4)\n",
    "\n",
    "    return"
   ]
  },
  {
   "cell_type": "code",
   "execution_count": null,
   "metadata": {},
   "outputs": [],
   "source": [
    "fig_Ramp, ax_Ramp = plt.subplots()"
   ]
  },
  {
   "cell_type": "code",
   "execution_count": null,
   "metadata": {},
   "outputs": [],
   "source": [
    "# Animation\n",
    "t_Ramp, y_Ramp = quarterCarEulerRamp(0.01)\n",
    "x_Ramp = v*t_Ramp\n",
    "\n",
    "fig_Ramp.set_size_inches(20,5)\n",
    "frame_Ramp_len = len(t_Ramp)\n",
    "\n",
    "ani_robot = matplotlib.animation.FuncAnimation(fig_Ramp, frame_quarterCarRampDraw, init_func=init_quarterCarRampDraw, frames=frame_Ramp_len, interval=100)\n",
    "HTML(ani_robot.to_jshtml())"
   ]
  },
  {
   "cell_type": "markdown",
   "metadata": {},
   "source": [
    "# Literature\n",
    " - [https://en.wikipedia.org/wiki/Vehicle_dynamics](https://en.wikipedia.org/wiki/Vehicle_dynamics)\n",
    " - [https://en.wikipedia.org/wiki/Euler_method](https://en.wikipedia.org/wiki/Euler_method)\n",
    " - [https://en.wikipedia.org/wiki/Runge-Kutta_methods](https://en.wikipedia.org/wiki/Runge-Kutta_methods)\n",
    " - [J.Koch, M.Stämpfle: Mathematik für das Ingenieurstudium](https://www.hanser-fachbuch.de/buch/Mathematik+fuer+das+Ingenieurstudium/9783446451667)"
   ]
  }
 ],
 "metadata": {
  "kernelspec": {
   "name": "python3",
   "display_name": "Python 3",
   "language": "python"
  },
  "language_info": {
   "codemirror_mode": {
    "name": "ipython",
    "version": 3
   },
   "file_extension": ".py",
   "mimetype": "text/x-python",
   "name": "python",
   "nbconvert_exporter": "python",
   "pygments_lexer": "ipython3",
   "version": "3.7.6-final"
  },
  "toc": {
   "base_numbering": 1,
   "nav_menu": {},
   "number_sections": true,
   "sideBar": true,
   "skip_h1_title": false,
   "title_cell": "Project quarter car",
   "title_sidebar": "Project quarter car",
   "toc_cell": true,
   "toc_position": {
    "height": "570.4px",
    "left": "308px",
    "top": "110.383px",
    "width": "343.167px"
   },
   "toc_section_display": true,
   "toc_window_display": false
  }
 },
 "nbformat": 4,
 "nbformat_minor": 2
}